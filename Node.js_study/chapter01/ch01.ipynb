{
 "cells": [
  {
   "cell_type": "markdown",
   "metadata": {},
   "source": [
    "### **ECMAScript6(ES6)란?**"
   ]
  },
  {
   "cell_type": "code",
   "execution_count": null,
   "metadata": {
    "vscode": {
     "languageId": "javascript"
    }
   },
   "outputs": [],
   "source": [
    "function printHelloEs5() {\n",
    "    console.log('hello es5');\n",
    "}\n",
    "\n",
    "const printHelloEs6 = () => {\n",
    "    console.log('hello es6');\n",
    "}\n",
    "\n",
    "printHelloEs5();\n",
    "printHelloEs6();"
   ]
  },
  {
   "cell_type": "markdown",
   "metadata": {},
   "source": [
    "ES6는 ECMA라는 국제 기구에서 만든 ECMAScript 표준 문서의 6번째 개정판 문서에 있는 표준 스펙이다.\n",
    "ES6이라고 많이 쓰는 이유는, 이전에 사용하던 표준인 ES5에서 아주 많이 바뀌었기 때문이다.\n",
    "ES5는 2011년에 나왔고, Es6는 2015년에 나왔는데 내용이 2배 이상 많아졌다.\n",
    "ES7은 ES6에서 많이 바뀌지 않았다.\n",
    "그래서 ES7으로 쓰지 않고 ES6 문법이 ES5와 비교해서 거의 새롭게 바뀌었기 때문에 ES6라고 쓴다.\n"
   ]
  },
  {
   "cell_type": "markdown",
   "metadata": {},
   "source": [
    "### **console.log('hello');로 'hello' 출력하기**"
   ]
  },
  {
   "cell_type": "code",
   "execution_count": null,
   "metadata": {
    "vscode": {
     "languageId": "javascript"
    }
   },
   "outputs": [],
   "source": [
    "console.log('hello');\n",
    "console.log('hello', 'bye');\n",
    "console.warn(\n",
    "    `this line ${'can make error'}`\n",
    ")"
   ]
  },
  {
   "cell_type": "markdown",
   "metadata": {
    "vscode": {
     "languageId": "javascript"
    }
   },
   "source": [
    "### **포맷팅(Formatting)해서 출력하기**"
   ]
  },
  {
   "cell_type": "code",
   "execution_count": null,
   "metadata": {
    "vscode": {
     "languageId": "javascript"
    }
   },
   "outputs": [],
   "source": [
    "console.log(\n",
    "    'name:%s', 'Kyeongrok'\n",
    ");  // 템플릿 형식으로 출력하기\n",
    "console.log(\n",
    "    'age:%d', 31\n",
    ");  // 숫자는 %d\n",
    "console.log(\n",
    "    'pi:%d', 3.14\n",
    ");  // 숫자는 %d\n",
    "console.log(\n",
    "    'math:%d science:%d', 92, 84\n",
    ");  // 2가지 같이 쓰기\n",
    "console.log(\n",
    "    'name:%s age:%d', 'kyeongrok', 31\n",
    ");  // 여러 가지 같이 쓰기\n",
    "console.log(\n",
    "    'name:%s math:%d science:%d', 'Kyeongrok', 92, 84\n",
    ");  // 여러 가지 같이 쓰기\n",
    "console.log(\n",
    "    'name:%s math:%s science:%s', 'Kyeongrok', 92, 84\n",
    ");  // %s로 다 쓰기"
   ]
  },
  {
   "cell_type": "markdown",
   "metadata": {},
   "source": [
    "### **`${변수}` 백틱을 이용한 포맷팅**"
   ]
  },
  {
   "cell_type": "code",
   "execution_count": null,
   "metadata": {
    "vscode": {
     "languageId": "javascript"
    }
   },
   "outputs": [],
   "source": [
    "const greeting1 = 'hello';\n",
    "const greeting2 = 'bye';\n",
    "const name1 = 'kyeongok';\n",
    "const name2 = 'jihyun';\n",
    "\n",
    "const statement1 = `${greeting1}! my name is ${name2}`;\n",
    "const statement2 = `${greeting2}! my name is ${name2}`;\n",
    "\n",
    "console.log(`${greeting1}! my name is ${name1}`);\n",
    "console.log(`${greeting2}! my name is ${name1}`);\n",
    "console.log('statement1:', statement1);\n",
    "console.log('statement2:', statement2);"
   ]
  },
  {
   "cell_type": "markdown",
   "metadata": {
    "vscode": {
     "languageId": "javascript"
    }
   },
   "source": [
    "### **주석 comment**"
   ]
  },
  {
   "cell_type": "code",
   "execution_count": null,
   "metadata": {
    "vscode": {
     "languageId": "javascript"
    }
   },
   "outputs": [],
   "source": [
    "// 한 줄 주석 처리하기\n",
    "\n",
    "/*\n",
    "여러 줄 주석 처리하기\n",
    "*/\n",
    "\n",
    "console.log('hello');\n",
    "// console.log('bye');\n",
    "\n",
    "console.log('welcome');\n",
    "/*\n",
    "    console.log('happy');\n",
    "    console.log('birth');\n",
    "    console.log('day');\n",
    "*/"
   ]
  },
  {
   "cell_type": "markdown",
   "metadata": {},
   "source": [
    "### **변수 선언하기 let**"
   ]
  },
  {
   "cell_type": "code",
   "execution_count": null,
   "metadata": {
    "vscode": {
     "languageId": "javascript"
    }
   },
   "outputs": [],
   "source": [
    "let fruit = 'apple';\n",
    "console.log('fruit:', fruit);\n",
    "\n",
    "fruit = 'grape';\n",
    "console.log('fruit:', fruit);"
   ]
  },
  {
   "cell_type": "code",
   "execution_count": null,
   "metadata": {
    "vscode": {
     "languageId": "javascript"
    }
   },
   "outputs": [],
   "source": [
    "var variable1 = 'hello';\n",
    "var variable1 = 'bye';\n",
    "\n",
    "console.log(variable1);"
   ]
  },
  {
   "cell_type": "markdown",
   "metadata": {},
   "source": [
    "### **변수와 상수**"
   ]
  },
  {
   "cell_type": "code",
   "execution_count": null,
   "metadata": {
    "vscode": {
     "languageId": "javascript"
    }
   },
   "outputs": [],
   "source": [
    "let fruit1 = 'apple';\n",
    "fruit1 = 'banana';\n",
    "const pi = 3.14;\n",
    "\n",
    "console.log('fruit1:', fruit1);\n",
    "console.log('pi:', pi);"
   ]
  },
  {
   "cell_type": "code",
   "execution_count": null,
   "metadata": {
    "vscode": {
     "languageId": "javascript"
    }
   },
   "outputs": [],
   "source": [
    "const pi = 3.14;\n",
    "pi = 3.15;\n",
    "\n",
    "console.log(pi);"
   ]
  },
  {
   "cell_type": "markdown",
   "metadata": {},
   "source": [
    "### **문자와 숫자**"
   ]
  },
  {
   "cell_type": "code",
   "execution_count": null,
   "metadata": {
    "vscode": {
     "languageId": "javascript"
    }
   },
   "outputs": [],
   "source": [
    "const string10 = '10';\n",
    "const string20 = '20';\n",
    "const number10 = 10;\n",
    "const number20 = 20;\n",
    "\n",
    "console.log('string:%s', string10 + string20);\n",
    "console.log()"
   ]
  },
  {
   "cell_type": "markdown",
   "metadata": {},
   "source": []
  }
 ],
 "metadata": {
  "kernelspec": {
   "display_name": "skn08-312",
   "language": "python",
   "name": "python3"
  },
  "language_info": {
   "codemirror_mode": {
    "name": "ipython",
    "version": 3
   },
   "file_extension": ".py",
   "mimetype": "text/x-python",
   "name": "python",
   "nbconvert_exporter": "python",
   "pygments_lexer": "ipython3",
   "version": "3.12.7"
  }
 },
 "nbformat": 4,
 "nbformat_minor": 2
}
