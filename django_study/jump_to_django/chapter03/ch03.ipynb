{
 "cells": [
  {
   "cell_type": "markdown",
   "metadata": {},
   "source": [
    "## **03-1 내비게이션 기능 추가하기**\n",
    "---"
   ]
  },
  {
   "cell_type": "markdown",
   "metadata": {},
   "source": [
    "지금까지 만든 파이보의 기능(질문 등록, 조회, 답변 등록, 조회)을 사용해 봤다면 편의 기능이 없어서 이런저런 불편함을 느꼈을 것이다.\n",
    "그중에서 메인 페이지로 돌아갈 수 있는 장치가 없다는 것이 가장 불편하다.\n",
    "여기서는 이런 불편함을 해소할 수 있는 기능을 추가하기 위해 내비게이션바를 만들어 볼 것이다."
   ]
  },
  {
   "cell_type": "markdown",
   "metadata": {},
   "source": [
    "#### **내비게이션바 추가하기**"
   ]
  },
  {
   "cell_type": "markdown",
   "metadata": {},
   "source": [
    "##### **01단계 로고, 로그인 링크 추가하기**"
   ]
  },
  {
   "cell_type": "markdown",
   "metadata": {},
   "source": [
    "내비게이션바는 모든 페이지에서 보여야 하므로 base.html 템플릿 파일을 열어 <body> 태그 바로 아래에 추가한다.\n",
    "내비게이션바에는 메인 페이지로 이동해주는 'Pybo' 로고(클래스값 navbar-brand)를 가장 왼쪽에 배치히고, 오른쪽에는 '로그인' 링크를 추가한다."
   ]
  },
  {
   "cell_type": "code",
   "execution_count": null,
   "metadata": {
    "vscode": {
     "languageId": "html"
    }
   },
   "outputs": [],
   "source": [
    "{% load static %}\n",
    "<!doctpye html>\n",
    "<html lang=\"ko\">\n",
    "<head>\n",
    "    <!--Requried meta tags-->\n",
    "    <meta charset=\"utf-8\">\n",
    "    <meta name=\"viewport\" content=\"width=device-width, initial-scale=1, shrink-to-fit=no\">\n",
    "    <!--Bootstrap CSS-->\n",
    "    <link rel=\"stylesheet\" type=\"text/css\" href=\"{% static 'bootstrap.min.css' %}\">\n",
    "    <!--pybo CSS-->\n",
    "    <link rel=\"stylesheet\" type=\"text/css\" href=\"{% static 'style.css' %}\">\n",
    "    <title>Hello, pybo!</title>\n",
    "</head>\n",
    "<body>\n",
    "<!-- 내비게이션바 -->\n",
    " <nav class=\"navbar navbar-expand-lg navbar-light bg-light border-bottom\">\n",
    "    <a class=\"navbar-brand\" href=\"{% url 'pybo:index' %}\">Pybo</a>\n",
    "    <button class=\"navbar-toggler ml-auto\" type=\"button\" data-toggle=\"collapse\"\n",
    "            data-target=\"#navbarNav\" aria-controls=\"navbarNav\"\n",
    "            aria-expanded=\"false\" aria-label=\"Toggle navigation\">\n",
    "        <span class=\"navbar-toggler-icon\"></span>\n",
    "    </button>\n",
    "    <div class=\"collapse navbar-collapse flex-grow-0\" id=\"navbarNav\">\n",
    "        <ul class=\"navbar-nav\">\n",
    "            <li class=\"nav-item\">\n",
    "                <a class=\"nav-link\" href=\"#\">로그인</a>\n",
    "            </li>\n",
    "        </ul>\n",
    "    </div>\n",
    " </nav>\n",
    "<!--기본 템플릿 안에 삽입될 내용 Start-->\n",
    "{% block content %}\n",
    "{% endblock %}\n",
    "<!--기본 템플릿 안에 삽입될 내용 End-->\n",
    "</body>\n",
    "</html>"
   ]
  }
 ],
 "metadata": {
  "language_info": {
   "name": "python"
  }
 },
 "nbformat": 4,
 "nbformat_minor": 2
}
