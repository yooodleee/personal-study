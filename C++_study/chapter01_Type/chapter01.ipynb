{
 "cells": [
  {
   "cell_type": "markdown",
   "metadata": {},
   "source": [
    "## **Chapter01 타입(Type)**"
   ]
  },
  {
   "cell_type": "markdown",
   "metadata": {},
   "source": [
    "### **1.1. 디지털화**\n",
    "---"
   ]
  },
  {
   "cell_type": "markdown",
   "metadata": {},
   "source": [
    "컴퓨터(디지털 기기)가 개발되면서 많은 정보를 컴퓨터로 처리하기 시작했다.\n",
    "컴퓨터는 오직 0과 1만을 구분할 수 있다.\n",
    "컴퓨터가 처리하는 최소 단위인 비트(bit)는 0과 1 두 가지 상태를 나타낼 수 있기 때문에 N 비트는 2의 N승 개수만큼 나타낼 수 있다.\n",
    "즉, 1바이트(8비트)는 2의 8승인 256가지의 상태를 나타낼 수 있다."
   ]
  },
  {
   "cell_type": "markdown",
   "metadata": {},
   "source": [
    "디지털화란 처리하고자 하는 사물과 정보를 컴퓨터가 인식할 수 있는 비트 집합으로 대응시키는 것을 의미한다.\n",
    "컴퓨터는 비트 집합을 입력으로 받아들여 처리한 후 새로운 비트 집합을 출력하게 된다. \n",
    "출력으로 나온 비트 집합은 역으로 사물이나 정보로 환원되게 된다."
   ]
  },
  {
   "cell_type": "markdown",
   "metadata": {},
   "source": [
    "가령 계산을 한다고 가정해보자.\n",
    "계산기를 비롯한 컴퓨터가 개발되기 이전의 시대에는 종이와 연필 혹은 주판을 이용하여 계산을 했지만 지금은 교육을 위한 용도를 제외하고는 모두 계산기나 컴퓨터로 계산을 한다."
   ]
  },
  {
   "cell_type": "markdown",
   "metadata": {},
   "source": [
    "예컨대 5 + 7이라는 계산을 수행한다고 가정해보자.\n",
    "이 식을 정보로 표현하면 (5, 7, +) 세 가지의 요소로 표현할 수 있다.\n",
    "그러나 컴퓨터는 각각의 요소들이 무엇인지 알지 못한다.\n",
    "컴퓨터는 오직 비트로 표현되는 상태들만 처리할 수 있기 때문이다.\n",
    "따라서 (5, 7, +) 각각의 요소를 컴퓨터가 이해할 수 있는 비트 상태(Bit state)로 변경해주어야만 한다.\n",
    "미리 정해진 약속에 의해서 5는 101, 7은 111로 변환된다.\n",
    "더하기인 + 또한 0과 1로 이루어진 약속된 조합으로 변경된다.\n",
    "즉, (5, 7, +) 세 요소가 모두 0과 1로 표현될 수 있는 비트 상태로 변환된다.\n",
    "세 요소인 비트 상태는 컴퓨터에 입력되어 이미 구현된 전자회로에 의해서 새로운 비트 상태인 1100을 도출해낸다.\n",
    "1100이란 비트 상태는 인간이 이해할 수 있는 개념인 숫자로서 12를 나타낸다."
   ]
  },
  {
   "cell_type": "markdown",
   "metadata": {},
   "source": [
    "#### **1.1.1. 디지털 대상**"
   ]
  },
  {
   "cell_type": "markdown",
   "metadata": {},
   "source": [
    "컴퓨터는 비트 상태를 처리할 수 있기 때문에 비트 상태로 표현할 수 있는 모든 대상이 컴퓨터로 처리될 수 있다.\n",
    "결국 컴퓨터에게 일을 시키기 위해서는 가장 먼저 처리할 대상을 컴퓨터가 이해할 수 있는 비트 상태로 표현하는 것부터 시작해야 한다.\n",
    "이 세상의 모든 대상이 비트 상태로 표현될 수 있는 것은 아니다.\n",
    "비트 상태로 표현하기 위해서는 처리할 대상을 각각의 명확한 상태로 구분할 수 있어야만 하기 때문이다.\n",
    "수라는 개념은 비트 상태로 나타내기에 알맞은 것 같다.\n",
    "1, 2, 3... 이라는 값 자체를 각각의 상태에 대응시키면 그만이기 때문이다.\n",
    "그러나 모든 수를 비트 상태로 표현할 수 있는 것은 아니다.\n",
    "가령 1/3이라는 무한 소수의 경우 비트 상태로 완벽하게 표현할 수가 없다.\n",
    "대신 극히 적은 오차를 가지고 비슷한 값을 표현할 뿐이다.\n",
    "오차를 가지고 비슷하게 표현할 수조차 없는 경우도 있다. 아주 작거나 너무 큰 수의 경우 비트 상태가 표현할 수 있는 범위를 넘어서기 때문이다.\n",
    "아주 작거나 너무 큰 수의 경우 비트 상태가 표현할 수 있는 범위를 넘어서기 때문이다.\n",
    "결국 수의 경우 비트 상태를 통해서 대응될 수 있는 수만 디지털화될 수 있다."
   ]
  },
  {
   "cell_type": "markdown",
   "metadata": {},
   "source": [
    "수와 더불어서 문자도 디지털화할 수 있다.\n",
    "많은 우여곡절이 있었지만 전세계 문자와 기호들에 각각의 번호(상태)를 부여하여 완벽하게 디지털화할 수 있게 되었다.\n",
    "시청각 정보 또한 디지털 대상이 된다.\n",
    "시각 정보의 경우 최소의 요소인 색 정보를 비트 상태로 나눌 수 있다.\n",
    "빛의 3원색인 RGB를 각각 256 단계로 나누면 3바이트만으로 모든 색을 대응시킬 수 있기 때문이다.\n",
    "색 정보를 표현할 수 있으므로 그림, 사진, 동영상은 쉽게 디지털로 표현될 수 있다.\n",
    "그림이나 사진, 동영상은 결국 픽셀(Pixel)이란 점으로 구성되고 각각이 색을 가지고 있기 때문이다.\n",
    "즉, 색을 가진 픽셀 정보를 적절히 잘 구성하면 시각 정보를 모두 컴퓨터로 처리할 수 있다."
   ]
  },
  {
   "cell_type": "markdown",
   "metadata": {},
   "source": [
    "청각 정보인 소리는 시각 정보보다 디지털화하기가 좀 더 복잡하다.\n",
    "소리의 근원은 공기의 떨림인데 이 떨림은 주파수, 진폭, 음색으로 표현될 수 있고, 이런 것들을 각각 비트 상태로 대응시켜줘야 하기 때문이다.\n",
    "수많은 방식이 개발되어 있고, 앞으로도 더 정확한 소리를 표현하기 위한 디지털 대응 방식이 개발될 것이다.\n",
    "\n",
    "시청각 정보는 디지털화될 수 있기 때문에 종합 정보인 영화가 컴퓨터에 파일로 저장되거나 네트워크를 통해서 스트림으로 전송될 수 있는 것이다.\n",
    "물론 처리된 디지털 정보는 다시 시청각 정보로 환원되게 되며 그 역할을 맡고 있는 대표적인 기기나 모니터와 스피커가 된다.\n",
    "\n",
    "최근에는 후각 정보까지 디지털화하려는 시도도 이어지고 있다."
   ]
  },
  {
   "cell_type": "markdown",
   "metadata": {},
   "source": [
    "이 세상 모든 것을 디지털화하려는 시도가 이루어지고 있으나 쉬운 것만은 아니다.\n",
    "명확하게 나눌 수 없는 것은 디지털화하는 것이 불가능하기 때문이다.\n",
    "과연 사람의 마음 상태를 디지털화할 수 있을까?"
   ]
  },
  {
   "cell_type": "markdown",
   "metadata": {},
   "source": [
    "#### **1.1.2. 프로그래밍 대상**"
   ]
  },
  {
   "cell_type": "markdown",
   "metadata": {},
   "source": [
    "C/C++를 비롯한 프로그래밍에서는 비트 상태로 표현될 수 있는 것 중에서도 매우 제한적인 대상을 주로 처리한다.\n",
    "대표적으로 문자와 숫자이다.\n",
    "물론 색상이나 소리도 처리하기는 하지만 숫자와 문자에 대한 처리가 양적으로 압도적으로 많다고 할 수 있다.\n",
    "숫자와 문자를 처리하기 위해서는 각각의 숫자와 문자가 비트 상태로 대응되는 규칙이 필요하다.\n",
    "대응되는 규칙을 마련하기 위해서는 신경 써야만 할 것들이 많이 있다.\n",
    "일단 정확히 어떤 대상을 나타낼지를 정해야 한다.\n",
    "가령 숫자 중에서도 정수나 부동소수점, 양수와 음수 그리고 범위 등을 지정해야만 한다.\n",
    "대상이 명확하게 정해지면 각각의 상태를 표현하기 위해 몇 비트가 필요한지 결정하고, 각각의 대상이 나타내는 의미를 비트 상태에 어떻게 대응시킬지도 결정해야만 한다.\n",
    "그뿐 아니라 비트 상태로 표현된 대상이 어떤 식으로 처리되는지도 명확하게 기술해야만 한다."
   ]
  },
  {
   "cell_type": "markdown",
   "metadata": {},
   "source": [
    "이런 종합적인 규칙과 처리 방식 등을 바로 타입(Type)이라고 한다.\n",
    "프로그래밍 언어에서 특히 C/C++의 경우 기본적인 타입들을 제공하여 숫자와 문자를 쉽게 처리할 수 있도록 하고 있다.\n",
    "숫자를 다루기 위한 타입은 int, short, long, __int64, float, double 등 다양하게 있다.\n",
    "문자를 위해서는 char와 whcar_t 타입 등을 제공한다.\n",
    "기본적인 타입을 응용하여 새로운 타입을 만들어낼 수도 있다.\n",
    "가령 문자열의 경우 문자들의 모임이기 때문에 문자들을 담을 수 있는 문자열 전용 파생 타입을 제공하기도 한다."
   ]
  },
  {
   "cell_type": "markdown",
   "metadata": {},
   "source": [
    "이번 장은 프로그래밍에서 다루는 타입에 대해서 자세히 알아보도록 하겠다.\n",
    "특히 C/C++에서 자주 다루는 타입을 중심으로 설명할 것이다.\n",
    "타입은 쉽게 넘어갈 수 있을 정도로 특별히 어려운 내용이 없을 수도 있지만 결국 컴퓨터가 처리하는 원천 데이터는 모두 타입을 가지고 있으므로 타입에 대해서 정확히 이해한다면 높은 수준의 프로그래밍을 하는데 도움이 될 것이다."
   ]
  },
  {
   "cell_type": "markdown",
   "metadata": {},
   "source": [
    "### **1.2. 정수 타입**\n",
    "---"
   ]
  },
  {
   "cell_type": "markdown",
   "metadata": {},
   "source": [
    "초기 인간은 자연수를 다루었고, 0을 도입함과 동시에 음수를 다루면서 수의 범위를 정수까지 넓히게 되었다.\n",
    "이처럼 가장 기본이 되는 자연수나 정수를 위해서 C/C++는 적당한 타입을 제공하고 있다.\n",
    "정수형은 크게 두 가지로 나눌 수 있는데 0을 포함한 자연수와 등ㅁ수까지 표현되는 정수로 나눌 수 있다."
   ]
  },
  {
   "cell_type": "markdown",
   "metadata": {},
   "source": [
    "#### **1.2.1. 부호 없는 정수(unsigned type)**"
   ]
  },
  {
   "cell_type": "markdown",
   "metadata": {},
   "source": [
    "0, 1, 2, 3, ...과 같이 0을 포함한 자연수를 부호 없는 정수(unsigned type)라고 한다.\n",
    "부호가 필요하지 않기 때문에 unsigned로 표시된다.\n",
    "부호 없는 정수의 타입으로는 unsigned sort/int/long/__int64 등이 있는데 숫자와 비트 상태가 대응되는 규칙은 모든 타입이 일정하지만 각 타입이 표현할 수 있는 최대 숫자의 크기는 다르다.\n",
    "여기서는 숫자와 비트 상태가 대응되는 규칙을 설명하기 위해 간단하게 4 비트만을 사용할 것이다.\n",
    "4 비트는 2의 4승으로 16가지 상태를 나타낼 수 있으며 숫자를 대응시킨다면 0 ~ 15까지의 수를 대응시킬 수 있다."
   ]
  },
  {
   "cell_type": "markdown",
   "metadata": {},
   "source": [
    "중요한 것은 모든 비트가 0인 상태는 0과 대응된다는 사실이다.\n",
    "2진법의 표현을 그대로 따르면서 숫자와 비트 상태가 일대일로 대응하게 되어 있다.\n",
    "\n",
    "타입에 따라서 크기는 달라진다.\n",
    "unsigned short의 경우 2 바이트(16비트), unsigned int의 경우 4 바이트(32비트), unsigned __int64의 경우 8 바이트(64비트)를 사용해서 숫자를 대응시킨다.\n",
    "당연히 많은 비트를 사용할 경우 더 많은 숫자를 대응시킬 수 있다."
   ]
  },
  {
   "cell_type": "markdown",
   "metadata": {},
   "source": [
    "#### **1.2.2. 부호 있는 정수(signed type)**"
   ]
  },
  {
   "cell_type": "markdown",
   "metadata": {},
   "source": [
    "가량 -3을 2진법으로 표현한다면 -11로 나타내면 그만이지만 컴퓨터에게 음수를 표현하려면 까다로운 면이 있다.\n",
    "-11처럼 앞에 '-'(minus)와 같은 부호를 따로 표현해야만 하기 때문이다.\n",
    "그래서 부호(+, -)를 나타내기 위하여 1 비트를 사용하기로 하였다.\n",
    "이것을 부호 비트라고 한다.\n",
    "가장 큰 문제가 있었는데 부호 비트와 숫자 비트를 어떻게 조화시키느냐가 관건이었다.\n",
    "처음에는 가장 왼쪽 끝의 비트를 부호 비트로 사용하기로 하였다."
   ]
  },
  {
   "cell_type": "markdown",
   "metadata": {},
   "source": [
    "가장 왼쪽 비트를 부호 비트로 사용할 경우 -7 ~ 7 까지를 대응할 수 있었다.\n",
    "괜찮은 방식 같아 보이지만 단점도 있었다.\n",
    "바로 0이 (+0, -0)과 같이 두 가지 상태와 대응된다는 것이었다(물론 이것을 큰 장점이라고 지지하는 학자도 있긴 하다).\n",
    "더 큰 단점도 있는데 바로 누산기(Accumulate)를 설계하기가 어렵다는 것이었다.\n",
    "누산기란 덧셈, 뺄셈과 같은 사칙연산을 처리하는 가산회로와 레지스터로 이루어진 CPU의 부분인데 음수를 대상으로 더하기를 처리하기 위해서는 상당히 복잡한 논리회로를 구현해야만 했다.\n",
    "가령 4 + (-3)을 처리할 경우 (0100,1011)을 입력 받아서 0001을 도출해내는 논리회로를 작성해야만 하는 것이다(막상 실제 논리회를 설계한다고 하면은 머리가 아파진다...)\n",
    "\n",
    "이와 같은 단점으로 인하여 맨 왼쪽 비트를 단순히 부호 비트로 사용하는 대응법은 채택될 수 없었고 대신 새로운 방식이 도입되었는데 그것이 바로 2의 보수법(2's complement)이다."
   ]
  },
  {
   "cell_type": "markdown",
   "metadata": {},
   "source": [
    "#### **1.2.3. 2의 보수법(2's complement)**"
   ]
  },
  {
   "cell_type": "markdown",
   "metadata": {},
   "source": [
    "'2의 보수'란 말에서 '1의 보수'도 있을 것이라고 생각할 수 있는데 당연히 1의 보수도 있다.\n",
    "먼저 1의 보수라는 것은 어떤 2진수에서 각 비트를 반전시킨 것을 나타낸다.\n",
    "즉, 4비트로 표현되는 3이라는 숫자는 0011이 되는데 이것의 1의 보수는 1100이 된다.\n",
    "\n",
    "그렇다면 2의 보수란 무엇인가?\n",
    "바로 1의 보수에 1을 더한 것을 의미한다. \n",
    "따라서 3이란 숫자의 2의 보수는 0011 => 1100 + 1이 된다.\n",
    "여기서 2의 보수를 어디다 써먹는 것인지 잘 이해가 되지 않을 수도 있는데 2의 보수를 부호가 반대인 수로 사용한다는 것이 핵심이다.\n",
    "즉, 3의 2의 보수인 1101을 -3으로 대응시키는 것이 2의 보수법인 것이다.\n",
    "당연히 반대도 성립한다.\n",
    "1101이 - 3이므로 -3의 2의 보수는 1101 => 0010 + 1 => 0011이 되어서 부호가 반대인 3이 된다."
   ]
  },
  {
   "cell_type": "markdown",
   "metadata": {},
   "source": [
    "\"2의 보수는 각 비트를 반전시킨 후에 1을 더한 것이다\""
   ]
  },
  {
   "cell_type": "markdown",
   "metadata": {},
   "source": [
    "4 비트로 표현되는 2진수는 0000에서 시작하여 1111로 진행한 뒤에 다시 0000으로 돌아가게 된다.\n",
    "2의 보수법은 0000을 0으로 대응시키고, 순서대로 다음 숫자인 0001을 1로 대응시킨다.\n",
    "반대로 0000의 이전 숫자인 1111은 -1로 대응시키는 방식이다.\n",
    "따라서 2의 보수법으로 표현된 대응표를 살펴보게 되면 0과 -1이 가장 중심에 위치하게 됨을 알 수 있다.\n",
    "따라서 4비트로 표현되는 2의 보수법은 -8 ~ 7까지를 나타낼 수 있는 것이다.\n",
    "또한 음수의 경우 가장 왼쪽 비트 1이 되므로 자연스럽게 부호 비트 역할을 하게 된다."
   ]
  },
  {
   "cell_type": "markdown",
   "metadata": {},
   "source": [
    "2의 보수법 대응을 이해한다면 앞에서 질문한 것을 쉽게 대답할 수 있을 것이다.\n",
    "가장 적은 수를 2진수로 표현하는 방법은 맨 왼쪽 비트가 1이고 나머지는 모두 0인 것이고, -1을 표현하는 방법은 모든 비트가 1이기만 하면 된다.\n",
    "\n",
    "그렇다면 2의 보수법의 장점은 무엇일까?\n",
    "당연히 0이 하나만 나타나는 것도 있을 수 있지만 가장 큰 장점은 누산기 설계가 상당히 쉬워진다.\n",
    "이전 방식은 양수와 음수의 덧셈의 경우 복잡한 논리회로를 필요로 했지만 2의 보수법을 사용할 경우 양수 음수에 상관없이 간단한 덧셈 회로만으로도 처리할 수 있기 때문이다."
   ]
  },
  {
   "cell_type": "markdown",
   "metadata": {},
   "source": [
    "4 + (-3)을 2의 보수법으로 계산하면 단순히 덧셈 회로에 의해서 0100 + 1101 = (1)0001이 될 것이고, 왼쪽의 넘치는 비트를 버린다면 0001이 되어서 1이 나오게 된다.\n",
    "이와 같은 이유로 2의 보수법은 부호 있는 정수를 비트 상태로 대응시키는 표준 방식이 되었으며 이것은 모든 프로그래밍 언어의 부호 있는 정수 타입 표현 방식으로 사용되기에 이른 것이다."
   ]
  },
  {
   "cell_type": "markdown",
   "metadata": {},
   "source": [
    "#### **1.2.4. 타입별 최솟값, 최댓값**"
   ]
  },
  {
   "cell_type": "markdown",
   "metadata": {},
   "source": [
    "이제 부호 없는 정수와 부호 있는 정수의 비트 상태 대응 방식을 이용해서 각 타입의 최댓값과 최솟값을 구하는 것을 살펴보자."
   ]
  },
  {
   "cell_type": "raw",
   "metadata": {
    "vscode": {
     "languageId": "raw"
    }
   },
   "source": [
    "#include <iostream>\n",
    "using namepsace std;\n",
    "\n",
    "void main()\n",
    "{\n",
    "    int i = 1;\n",
    "    i = (i << 31);\n",
    "    cout << i << endl;  // (1) signed int 최솟값\n",
    "\n",
    "    i = ~i;\n",
    "    cout << i << endl;  // (2) signed int 최댓값\n",
    "\n",
    "    unsigned ui = 0;\n",
    "    cout << ui << endl; // (3) unsigned int 최솟값\n",
    "\n",
    "    ui = -1;\n",
    "    cout << ui << endl; // (4) unsigned int 최댓값\n",
    "\n",
    "}"
   ]
  },
  {
   "cell_type": "markdown",
   "metadata": {},
   "source": [
    "프로그래밍을 할 경우 비교의 기준 값으로 최솟값이나 최댓값을 설정하는 경우가 많이 있다.\n",
    "물론 각 타입별로 최솟값과 최댓값을 나타내는 매크로 상수가 있긴 하지만 컴파일러 의존성이 있으므로 코드 호환성에 약간의 문제가 있을 수 있다. 이럴 경우는 직접 타입별로 최솟값, 최댓값을 설정할 수 있어야 한다."
   ]
  },
  {
   "cell_type": "markdown",
   "metadata": {},
   "source": [
    "먼저, 부호 있는 정수의 최소, 최댓값을 설정해보자.\n",
    "4 바이트의 int 타입의 경우 최솟값은 맨 왼쪽 부호 비트만 1로 설정하면 된다.\n",
    "따라서 1을 설정한 뒤에 비트 이동 연산자를 이용하여 31자리 왼쪽으로 이동시키면 구할 수 있다.\n",
    "\n",
    "최댓값은 최솟값을 비트 반전만 하면 되므로 비트 반전 연산자(~)를 이용하여 구할 수 있다.\n",
    "부호 없는 정수의 최소, 최댓값은 무척 간단하다.\n",
    "부호가 없기 때문에 최솟값은 단지 0일 뿐이고, 최댓값은 모든 비트가 1로 채워진 것이기 때문에 -1만 대입해주면 된다."
   ]
  },
  {
   "cell_type": "markdown",
   "metadata": {},
   "source": [
    "#### **1.2.5. 비트 이동 연산자(Shift Operator)**"
   ]
  },
  {
   "cell_type": "markdown",
   "metadata": {},
   "source": [
    "비트 이동 연산자는 비트 상태를 변화시킬 수 있는 연산자이다.\n",
    "C/C++에서는 <<, >>라는 연산자를 통해 원하는 만큼 비트들을 이동시킬 수 있다.\n",
    "간단한 개념이긴 하지만 주의해야 할 점이 몇 가지 있다."
   ]
  },
  {
   "cell_type": "raw",
   "metadata": {
    "vscode": {
     "languageId": "raw"
    }
   },
   "source": [
    "#include <iostream>\n",
    "using namespace std;\n",
    "\n",
    "void main()\n",
    "{\n",
    "    char c = 1;\n",
    "\n",
    "    c = c << 7; // (1)\n",
    "    cout << (int)c << endl;\n",
    "\n",
    "    c = c >> 7; // (2)\n",
    "    cout << (int)c << endl;\n",
    "\n",
    "}"
   ]
  },
  {
   "cell_type": "markdown",
   "metadata": {
    "vscode": {
     "languageId": "raw"
    }
   },
   "source": [
    "먼저 char라는 타입부터 살펴보자.\n",
    "char는 문자를 나타내는 타입이다.\n",
    "그러나 문자뿐 아니라 숫자도 나타내는데, 바로 1 바이트 크기의 부호 있는 정수를 나타내는 타입이기도 하다.\n",
    "즉, -128 ~ 127까지의 256개의 정수를 표현할 수 있다.\n",
    "\n",
    "먼저 char 타입 변수 c에 1을 대입한다.\n",
    "2진수로 표현한다면 [0000,0001]이 될 것이다.\n",
    "소스코드 (1)에서는 7만큼 왼쪽으로 비트 이동을 시킨다.\n",
    "따라서 c는 이제 [1000,0000]이 될 것이다.\n",
    "부호 있는 정수이기 때문에 이 값을 출력하면 -128이 나오게 된다.\n",
    "\n",
    "이제 소스 코드 (2)를 살펴보자.\n",
    "현재 c는 -128 즉, [1000,0000] 상태이다.\n",
    "여기서 7만큼 오른쪽으로 비트 이동을 시킬 경우 비트 상태는 어떻게 될까?\n",
    "다시 처음처럼 [0000,0001]이 될 것이라고 예상할 수도 있지만 사실 그렇지 않다.\n",
    "정답은 [1111,1111]이 된다.\n",
    "숫자로 출력하면 -1이 될 것이다."
   ]
  },
  {
   "cell_type": "markdown",
   "metadata": {},
   "source": [
    "왜 이런 현상이 발생하는 것일까?\n",
    "바로 비트 이동 연산자의 부호 유지 정책 때문이다.\n",
    "비트 이동 연산자는 왼쪽으로 한 번 이동할 경우 원래 값에 2를 곱하고 오른쪽으로 한 번 이동할 경우 2로 나눈다.\n",
    "-128을 7번 오른쪽으로 비트 이동시킨다고 해서 그 값이 1이 된다면 부호가 유지되지 않을 것이다.\n",
    "따라서 부호를 유지하기 위하여 왼쪽 이동과 오른쪽 이동의 경우 다른 규칙이 적용된다."
   ]
  },
  {
   "cell_type": "markdown",
   "metadata": {},
   "source": [
    "* (1) << N: 비트 상태를 N만큼 왼쪽으로 이동시킨다. 가장 왼쪽의 넘치는 N개의 비트들은 버리고, 오른쪽에 새로 생기는 N개의 비트들은 모두 0으로 채운다.\n",
    "* (2) >> N: 비트 상태를 N만큼 오른쪽으로 이동시킨다. 가장 오른쪽의 넘치는 N개의 비트들은 버리고 왼쪽에 새로 생기는 N개의 비트들은 부호 비트가 존재할 경우 부호 비트로 채우고, 부호 비트가 존재하지 않을 경우 0으로 채운다."
   ]
  },
  {
   "cell_type": "markdown",
   "metadata": {},
   "source": [
    "왼쪽 비트 이동은 이해하기가 쉽지만 오른쪽 비트 이동은 다소 복잡할 수 있다.\n",
    "하지만 어려울 것은 없다.\n",
    "오른쪽 이동으로 인해서 왼쪽에 새로 생기는 N개의 비트들에 한해서 부호 비트가 존재하는 타입(즉, 부호 있는 정수)이라면 해당 부호 비트에 채워진 값(0 or 1)을 그대로 채우라는 것이고 부호 비트가 없는 타입(즉, 부호 없는 정수)이라면 0으로 채우라는 것이다."
   ]
  },
  {
   "cell_type": "raw",
   "metadata": {
    "vscode": {
     "languageId": "raw"
    }
   },
   "source": [
    "#include <iostream>\n",
    "using namespace std;\n",
    "\n",
    "void main()\n",
    "{\n",
    "    ////////////////////////\n",
    "    char c;         // signed type\n",
    "    c = 0x02;       // [0000,0010]      2\n",
    "    c = c >> 1;     // [000000,0001]    1\n",
    "    cout << (int)c << endl;\n",
    "\n",
    "    c = 0x82;       // [1000,0010]      -126\n",
    "    c = c >> 1;     // [1100,0001]      -63\n",
    "    cout << (int)c << endl;\n",
    "\n",
    "    ////////////////////////\n",
    "    unsigned char uc;       // unsigned type\n",
    "    uc = 0x02;      // [0000,0010]      2\n",
    "    uc = uc >> 1;   // [0000,0001]      1\n",
    "    cout << (int)uc << endl;\n",
    "\n",
    "    uc = 0x82;      // [1000,0010]      130\n",
    "    uc = uc >> 1;   // [0100,0001]      65\n",
    "    cout << (int)uc << endl;\n",
    "\n",
    "}"
   ]
  },
  {
   "cell_type": "markdown",
   "metadata": {},
   "source": [
    "위의 예제는 오른쪽 비트 이동 연산자(>>)에 대한 여러 가지 정보를 보여준다.\n",
    "각각 부호 있는 정수와 부호 없는 정수로 나누었고 각각에 대해서 다시 맨 왼쪽의 비트가 0과 1인 경우로 나누었다.\n",
    "즉, 4 가지 경우에 대하여 오른쪽으로 1만큼 비트 이동을 시키는 것이다.\n",
    "옆의 주석에는 처음 비트 상태를 보여주며, 1만큼 오른쪽 비트 이동을 한 후의 비트 상태도 보여준다.\n",
    "각각의 경우를 자세히 살펴보면 알 수 있듯이, 부호가 있는 char의 경우 부호 비트에 들어있는 값(0 혹은 1)이 그대로 가장 왼쪽에 채워지고, 부호가 없는 unsigned char의 경우 가장 왼쪽에는 무조건 0이 채워짐을 확인할 수 있다."
   ]
  },
  {
   "cell_type": "markdown",
   "metadata": {},
   "source": [
    "비트 이동 연산에서 주의해야 할 점은 오른쪽 비트 이동일 경우 부호가 있고 없고의 차이에 따라서 동작이 달라진다는 것이다.\n",
    "참고로 비트 이동 연산은 정수 타입에 대해서만 유효하다.\n",
    "무슨 의미인가 하면 정수가 아닌 부동소수점을 나타내는 타입인 float, double 객체에는 비트 이동 연산을 사용할 수 없다는 것이다.\n",
    "만일 비트 이동 연산을 사용할 경우 컴파일 에러가 발생하게 된다.\n",
    "\n",
    "추가적으로 자바(Java)의 경우 오른쪽 비트 연산자로 >>>를 지원한다.\n",
    "이것은 오른쪽으로 비트 이동을 한 후에 왼쪽에 새로 생기는 비트에 대해서 무조건 0을 채우는 것이다.\n",
    ">>> 연산자는 C/C++에서는 아직 지원하지 않는다."
   ]
  },
  {
   "cell_type": "markdown",
   "metadata": {},
   "source": [
    "#### **1.2.6. 컴파일러 상수 한계**"
   ]
  },
  {
   "cell_type": "raw",
   "metadata": {
    "vscode": {
     "languageId": "raw"
    }
   },
   "source": [
    "#include <iostream>\n",
    "using namespace std;\n",
    "\n",
    "void main()\n",
    "{\n",
    "\tint max1 = 18446744073709551615;\t// 상수 최댓값\n",
    "\tint max2 = 18446744073709551616;\t// Compole Error\n",
    "\tint min1 = -18446744073709551615;\t// 상수 최솟값\n",
    "\tint min2 = -18446744073709551616;\t// Compile Error\n",
    "}"
   ]
  },
  {
   "cell_type": "markdown",
   "metadata": {},
   "source": [
    "예제 코드를 살펴보자.\n",
    "굉장히 큰 수와 작은 수를 대입하는 것을 볼 수 있다.\n",
    "컴파일러는 소스 코드에 쓰여진 상수를 분석해서 실제 int 객체 max1과 min1에 들어갈 비트 상태를 결정해서 어셈블리 코드로 작성한다.\n",
    "그러나 컴파일러가 어떤 숫자라도 분석할 수 있는 것은 아니다.\n",
    "상수에는 한계가 있기 때문이다.\n",
    "예제에서 사용된 숫자가 바로 현재 컴파일러가 분석할 수 있는 정수형의 최소, 최댓값을 나타낸다."
   ]
  },
  {
   "cell_type": "markdown",
   "metadata": {},
   "source": [
    "어떻게 저런 상수가 도출된 것일까?\n",
    "8 바이트 부호 없는 정수형인 unsigned __int64 혹은 unsigned long long 타입의 최댓값이 바로 18446744073709551615이기 때문이다.\n",
    "반대로 최솟값은 단순히 최댓값에 -1을 곱한 값이 된다.\n",
    "만일 상수 한계를 넘어가는 숫자를 상수로서 사용하게 될 경우 컴파일 에러가 발생하게 된다.\n",
    "(참고로 __int64는 VC++에서는 8 바이트 부호 있는 정수 타입인데, long long 타입과 일치한다)"
   ]
  },
  {
   "cell_type": "markdown",
   "metadata": {},
   "source": [
    "#### **1.2.7. 데이터 모델**"
   ]
  },
  {
   "cell_type": "markdown",
   "metadata": {},
   "source": [
    "타입은 정보를 비트 상태로 대응시키는 법과 더불어서 크기 또한 나타낸다.\n",
    "char는 1 바이트이고, short는 2 바이트를 차지하듯이 타입은 각각 정의된 크기를 가지게 된다.\n",
    "그런데 타입에 따른 크기가 항상 일정하지만은 않다는 데 문제가 있다.\n",
    "타입에 따른 크기는 플랫폼에 종속적이기 때문이다.\n",
    "즉, 어떤 타입의 경우 윈도우에서는 4 바이트이지만 리눅스의 경우에는 8 바이트가 되기도 한다.\n",
    "이런 차이가 나는 이유는 각 플랫폼 별로 데이터 모델이 다르기 때문이다.\n",
    "데이터 모델이란 각 타입에 따른 크기가 어떻게 결정되는지를 나타내는 것이다."
   ]
  },
  {
   "cell_type": "markdown",
   "metadata": {},
   "source": [
    "데이터 모델의 이름에서 바로 타입의 크기를 알 수 있는데, ILP32의 경우 int, long, pointer가 32비트라는 것이고, LP64의 경우 long, pointer가 64비트, LLP64는 long long, pointer가 64비트라는 의미이다.\n",
    "어떤 데이터 모델이든지 char, short, long long은 그 크기가 (8, 16, 64)로 일정하다.\n",
    "모델에 따라서 달라지는 것은 int, long, pointer이므로 해당 타입을 사용하는 코드를 작성할 경우에는 이종 플랫폼 간 호환성을 위하여 주의를 기울여야만 한다."
   ]
  },
  {
   "cell_type": "markdown",
   "metadata": {},
   "source": [
    "x86 32비트 시스템에서는 윈도우, 리눅스 모두 ILP32 모델을 사용하였다.\n",
    "따라서 서로 호환하는데 큰 문제가 없었다.\n",
    "그러나 x64 64비트 시스템에 이르러서는 차이가 발생하게 되었다.\n",
    "윈도우의 경우 LLP64를 채택하였고, 리눅스는 LP64를 채택하였기 때문이다.\n",
    "따라서 x64 프로그래밍을 위해서는 두 플랫폼의 차이를 잘 이해해야만 한다."
   ]
  },
  {
   "cell_type": "markdown",
   "metadata": {},
   "source": [
    "LLP64와 LP64이 가장 큰 차이점은 바로 long 타입의 크기이다.\n",
    "LLP64에서는 여전히 32비트이지만, LP64에서는 64비트이기 때문이다.\n",
    "따라서 호환성 있는 프로그래밍을 위해서는 가능하면 long 타입은 사용하지 않는 것이 좋을 것 같다.\n",
    "\n",
    "참고로 int 타입의 크기는 플랫폼의 기본 데이터 크기를 따른다고 잘못 알고 있는 사람들이 있다.\n",
    "즉, x64와 같은 64비트 시스템에서는 int의 크기도 64비트가 된다고 믿는 것이다.\n",
    "물론 ILP64 모델을 따르는 시스템이라면 맞을 수도 있겠지만, 전혀 그렇지 않다는 사실을 반드시 기억해야만 한다.\n",
    "즉, int 크기는 x64 시스템의 윈도우, 리눅스에서 여전히 4바이트이며, 8바이트 정수 타입을 사용하기 위해서는 long long 타입을 사용해야 한다\n",
    "(VC++에서는 __int64를 long long으로 정의하였다)"
   ]
  },
  {
   "attachments": {
    "image.png": {
     "image/png": "[encoded data removed]"
    }
   },
   "cell_type": "markdown",
   "metadata": {},
   "source": [
    "![image.png](attachment:image.png)"
   ]
  },
  {
   "cell_type": "markdown",
   "metadata": {},
   "source": [
    "#### **1.2.8 long long format control**"
   ]
  },
  {
   "cell_type": "markdown",
   "metadata": {},
   "source": [
    "VC++의 __int64를 비롯하여 long long과 같은 64비트 정수 타입을 사용할 경우 주의할 점이 있다.\n",
    "바로 printf와 같은 출력 함수의 format control이다.\n",
    "기존에는 숫자를 출력할 경우 %d를 사용하곤 했다.\n",
    "하지만 이것의 의미는 4 바이트의 값을 찍으라는 의미이다.\n",
    "따라서 long long 타입에 %d를 사용하면 원하는 결과를 얻을 수 없다."
   ]
  },
  {
   "cell_type": "raw",
   "metadata": {
    "vscode": {
     "languageId": "raw"
    }
   },
   "source": [
    "void main()\n",
    "{\n",
    "    long long ll = 1;       // 최댓값 설정\n",
    "    ll = (ll << 63);\n",
    "    ll = ~ll;\n",
    "\n",
    "    printf(\" (A) %d \\r\\n\", ll);         // (A)\n",
    "    printf(\" (B) %lld \\r\\n\", ll);       // (B)\n",
    "    printf(\" (B) %I64d \\r\\n\", ll);      // (C)\n",
    "\n",
    "}"
   ]
  },
  {
   "cell_type": "markdown",
   "metadata": {},
   "source": [
    "예제의 출력 결과는 다음과 같다.\n",
    "\n",
    "(A) -1\n",
    "(B) 9223372036854775807\n",
    "(C) 9223372036854775807"
   ]
  },
  {
   "cell_type": "markdown",
   "metadata": {},
   "source": [
    "long long은 64비트 부호 있는 정수 타입이다.\n",
    "VC++이나 GCC에서 사용 가능하다.\n",
    "특히 VC++에서는 __int64를 대신 사용해도 된다.\n",
    "중요한 것은 long long 타입을 위한 format control이 다르다는 것이다.\n",
    "기존의 %d를 사용할 경우 32비트로 취급되어서 -1이 출력되게 된다.\n",
    "따라서 %lld 혹은 %I64d를 사용해야만 한다.\n",
    "참고로 %I64d는 VC++ 에서만 사용 가능하다.\n",
    "GCC에서 사용할 경우 -1이 출력된다."
   ]
  },
  {
   "cell_type": "markdown",
   "metadata": {},
   "source": [
    "### **1.3. 부동소수점 타입**\n",
    "---"
   ]
  },
  {
   "cell_type": "markdown",
   "metadata": {},
   "source": [
    "보통 개발자들은 부동소수점이 1보다 작은 소수를 표현하기 위해 도입된 개념이라는 인식을 많이 가지고 있다.\n",
    "아마도 이름에 '소수점'이란 말이 들어있기 때문일 것이다.\n",
    "분명 그런 목적도 있긴 하지만 본래 목적의 일부만을 나타낼 뿐이다.\n",
    "부동소수점은 아주 작은 수와 큰 수 양쪽을 아우르는 실수를 표현하기 위하여 도입된 것이다."
   ]
  },
  {
   "cell_type": "markdown",
   "metadata": {},
   "source": [
    "#### **1.3.1. 고정소수점과 부동소수점**"
   ]
  },
  {
   "cell_type": "markdown",
   "metadata": {},
   "source": [
    "부동소수점이란 실수를 표현할 때 소수점의 위치를 고정하지 않는 것을 말한다.\n",
    "왜 소수점을 고정하지 않는 것일까?\n",
    "반대의 경우인 고정 소수점을 살펴보면 알 수 있다.\n",
    "가령 123.456의 경우 고정소수점에서는 정수 부분 123과 소수 부분 456을 나누어서 표현해야 한다.\n",
    "결국 한정된 비트에 정수와 소수 부분을 분할하여 배치할 경우 고정소수점이 나타낼 수 있는 범위가 무척 한정되게 된다.\n",
    "그에 비해서 부동소수점에서는 123.456을 123456이라는 유효숫자와 3이라는 소수점 위치를 통해서 고정소수점보다 훨씬 넓은 범위의 수를 표현할 수 있는 장점이 있다.\n",
    "그래서 프로그래밍에서는 실수를 표현할 때는 부동 소수점을 주로 사용하게 된다.\n",
    "\n",
    "사실 계산기만 봐도 왜 부동소수점을 사용하는지를 알 수 있다.\n",
    "계산기가 표현할 수 한계(칸)를 넘어설 경우 E(e)가 나오면서 지수 표기법이 나오는 것을 확인할 수 있다.\n",
    "여기서 E(e)가 바로 부동소수점, 즉 소수점의 위치를 표시하겠다는 의미이다."
   ]
  },
  {
   "cell_type": "markdown",
   "metadata": {},
   "source": [
    "#### **1.3.2. 부동소수점과 2진법**"
   ]
  },
  {
   "cell_type": "markdown",
   "metadata": {},
   "source": [
    "앞에서 살펴보았듯이 정수는 '2의 보수법'을 통해서 2진법으로 표현된다.\n",
    "그렇다면 1이하의 소수는 어떻게 2진법으로 표현하는 것일까?\n",
    "사실 소수점 이하를 2진법으로 표현하는 것은 그리 어렵지 않다.\n",
    "부동소수점을 이해하기 위해서는 실수를 2진법으로 표현하는 방법부터 확실히 알고 있어야만 한다."
   ]
  },
  {
   "cell_type": "markdown",
   "metadata": {},
   "source": [
    "10진법으로 표현되는 -9.6875를 2진법으로 나타내보자.\n",
    "먼저 부호, 정수, 소수로 나누어서 생각하면 된다.\n",
    "부호는 음수이고, 정수 9는 2진수로 1001이 되는 것을 쉽게 알 수 있다.\n",
    "소수 부분이 문제인데, 정수 부분을 2진수로 변환할 때는 2로 나누어서 나머지를 구한 반면, 소수 부분의 경우 2를 곱해서 정수 부분을 취하면 된다."
   ]
  },
  {
   "cell_type": "markdown",
   "metadata": {},
   "source": [
    "만일 2를 곱한 결과가 1을 넘어설 경우 1을 빼준다.\n",
    "각 단계에서 정수 부분(1 or 0)을 2진수로 얻어낸다.\n",
    "위의 경우 최종 결과가 0.0이 나와서 멈추었지만, 보통 대부분의 실수는 무한히 순환하면서 반복된다.\n",
    "즉, 적당한 개수의 유효숫자만을 취하게 된다.\n",
    "결국 -9.6875를 2진법으로 표현하면 -1001.1011_(2)이 됨을 알 수 있다."
   ]
  },
  {
   "cell_type": "markdown",
   "metadata": {},
   "source": [
    "#### **1.3.3. 부동소수점 구조**"
   ]
  },
  {
   "cell_type": "markdown",
   "metadata": {},
   "source": [
    "실제로 앞에서 예로 들었던 -9.6875를 부동소수점 타입으로 변환하면서 부동소수점의 구조를 파악해보자.\n",
    "-9.6875는 2진법으로 -1001.1011_(2)으로 표현된다.\n",
    "-1001.1011_(2)을 어떻게 저장할 수 있을까?\n",
    "부동소수점으로 저장하기 위하여 정규화 과정을 거치는데, 바로 지수를 이용하여 실수를 표현하는 것이다."
   ]
  },
  {
   "cell_type": "markdown",
   "metadata": {},
   "source": [
    "-1001.1011_(2)은 정규화할 경우 -1.0011011 * 2^3이 된다.\n",
    "정규화란 정수부를 1로 맞추어 놓고, 적절하게 소수점 위치를 조정하는 것을 말한다.\n",
    "여기서 지수부는 2^3으로 보통 승수인 3을 얘기한다.\n",
    "이제 간단하게 실수를 부동소수점으로 표현할 수 있게 되었다.\n",
    "정규화를 거친 후에 부호와 소수부의 유효숫자들 그리고 지수부만 있으면 되기 때문이다.\n",
    "특히 정규화를 거친 후 소수부의 유효숫자들을 특별히 '가수부'라고 부른다."
   ]
  },
  {
   "cell_type": "markdown",
   "metadata": {},
   "source": [
    "-9.6875 -> 1001.1011_(2) -> -1.0011011 * 2^3 -> [부호부 음수,지수부 3,가수부 0011011]"
   ]
  },
  {
   "cell_type": "markdown",
   "metadata": {},
   "source": [
    "일반적으로 C/C++, Java에서는 부동소수점으로 float(32Bit), double(64Bit) 타입을 제공한다.\n",
    "부동소수점 형식은 정해진 비트(32Bit or 64Bit)를 적절히 분배하여 부호부, 지수부, 가수부를 할당하는 일종의 규칙이자 약속이다.\n",
    "일반적으로 가장 많이 사용되는 표준은 IEEE754이며, 여기서는 IEEE754를 기준으로 설명할 것이다.\n",
    "\n",
    "float에 비해서 double이 비트수가 2배 많으므로 정밀도가 좋으며 표현 범위도 훨씬 넓다.\n",
    "따라서 가능하다면 double을 사용해야 한다.\n",
    "그러나 여기서는 부동소수점의 구조를 알아보는 것이 목적이므로 편의상 float을 기준으로 설명할 것이다."
   ]
  },
  {
   "cell_type": "markdown",
   "metadata": {},
   "source": [
    "float   :[부호부 1Bit   | 지수부 8Bit   | 가수부 23Bit ] = 총 32Bit\n",
    "\n",
    "double  : [부호부 1Bit  | 지수부 11Bit  | 가수부 52Bit ] = 총 64Bit"
   ]
  },
  {
   "cell_type": "markdown",
   "metadata": {},
   "source": [
    "지금부터는 float을 기준으로 설명한다.\n",
    "부호부는 정말 간단하다.\n",
    "양수면 0, 음수면 1이다.\n",
    "지수부를 설명하기 전에 가수부부터 설명한다.\n",
    "이미 변환된 가수부를 왼쪽부터 그대로 채우면 된다.\n",
    "물론 나머지 부분은 모두 0이다.\n",
    "가장 이해하기 어려운 부분이 바로 지수부이다.\n",
    "보통 float에서 사용되는 지수는 2^-127 ~ 2^128이다.\n",
    "-127부터 128까지 사용해서 아주 작은 수부터 아주 큰 수까지 다양하게 표현할 수 있다.\n",
    "부동소수점의 목적은 1보다 작은 소수를 표현하는 것도 있지만, 아주 큰 수를 표현하는 것도 있다는 사실을 명심해야 한다.\n",
    "즉, 지수부 8비트로 -127~128까지 256 단계를 나타내야 한다."
   ]
  },
  {
   "cell_type": "markdown",
   "metadata": {},
   "source": [
    "-127~128이라는 정수를 표현하기 위해 간단히 2의 보수법을 사용할 수도 있겠지만 그렇지는 않다.\n",
    "지수부 8비트가 모두 0으로 채워진 [0000,0000]이 -127을 나타내고, 1이 증가한 [0000,0001]은 -126을 나타내며, 이렇게 반복하여 모두 1로 채워진 [1111,1111]은 128을 나타나게 된다.\n",
    "이런 방식을 바이어스 표현법이라고 하는데, 왜 이런 구조를 택했는지 궁금할 것이다.\n",
    "바로 순수한 0을 표시하기 위함이다.\n",
    "일반적으로 모든 변수를 기본값으로 설정하는 방법은 변수가 차지하는 메모리 비트를 모두 0으로 설정하는 것이다.\n",
    "만일 float의 모든 비트를 0으로 채운다고 가정해보자.\n",
    "지수부를 일반적인 정수 표현 방식인 2의 보수법으로 표시할 경우 지수부는 0이 되므로 지수는 2^0 = 1이 될 것이다.\n",
    "즉, 모든 비트가 0으로 채워진 float이 나타내는 실제 값은 1.00000....0000 * 2^0 = 1이 된다.\n",
    "결국 부동소수점에서 지수부를 2의 보수법으로 표현할 경우 모든 비트를 0으로 채울 경우 기본값이 1이 되는 문제가 발생하는 것이다.\n",
    "그러나 바이어스 표현법을 사용하게 될 경우 모든 비트가 0인 경우 순수하게 0을 표시하게 된다.\n",
    "이 부분은 의문이 들 수도 있는데, 이후에 자세히 설명할 것이다."
   ]
  },
  {
   "cell_type": "markdown",
   "metadata": {},
   "source": [
    "이제 실제로 -9.6875를 float으로 나타내보자.\n",
    "[부호부 음수, 지수부 3, 가수부 0011011]로 정규화하고, 지수부는 3이므로 -127을 1번째 기준으로 삼을 경우 130번째가 될 것이다.\n",
    "즉, 130을 2진수로 표현하면 [1000,0010]이 된다.\n",
    "이제 이것을 그대로 비트 배열로 옮겨 보자."
   ]
  },
  {
   "cell_type": "markdown",
   "metadata": {},
   "source": [
    "이것을 실제로 확인해보자.\n",
    "C/C++은 2진수를 직접 표현하지 못하며, 16진수 표현방식으로 비트 배열을 표현할 수 있다.\n",
    "4 비트씩 16진수 하나로 변경하면 [0xC11B,0000]으로 표현된다."
   ]
  },
  {
   "cell_type": "raw",
   "metadata": {
    "vscode": {
     "languageId": "raw"
    }
   },
   "source": [
    "void main()\n",
    "{\n",
    "    unsigned int ui = 0xC11B0000;\n",
    "\n",
    "    float f;\n",
    "    memcpy(&f, &ui, 4);\n",
    "    cout << f << endl;\n",
    "}"
   ]
  },
  {
   "cell_type": "markdown",
   "metadata": {},
   "source": [
    "소스 코드를 실행할 경우 정확하게 -9.6875가 출력되는 것을 확인할 수 있다.\n",
    "여기까지는 실수를 부동소수점으로 표현하는 방법을 살펴보았다.\n",
    "그러나 중요한 부분은 지금부터 시작된다.\n",
    "위에서 제시되었던 모든 비트가 0으로 채워진 경우에 대해 살펴보자."
   ]
  },
  {
   "cell_type": "markdown",
   "metadata": {},
   "source": [
    "지금까지 살펴본 float의 구조를 적용하면 모든 비트가 0으로 채워진 경우는 부호부가 양수이며, 지수는 -127, 유효숫자는 1.0000...0000으로 표현할 수 있을 것이다.\n",
    "즉, 2^-127가 될 것이며, 이것은 (1/2^127)이라는 아주 작은 수를 표현하게 된다.\n",
    "분명 아주 작은 수이긴 하지만 0은 아니다.\n",
    "만일 이 값을 0으로 지정해버리게 된다면 (1/2^127)보다 작은 양수를 표현할 수 없게 된다.\n",
    "그리하여 IEEE754는 2^-127보다 더 작은 수를 표현할 수 있도록 특별한 규정을 두었는데, 바로 지수부가 모두 0으로 채워진 경우에는 유효숫자의 정수부가 1이 되는 것이 아니라 0이 되도록 하였으며, 그에 맞추어 지수를 -127이 아닌 -126으로 고정한 것이다.\n",
    "즉, 지수부가 모두 0인 경우는 -127이 아닌 -126을 나타내게 된다(만일 지수부가 모두 0인 경우를 -127로 하고, 유효숫자의 정수부를 0으로 할 경우 2^-127을 표현할 방법이 없어진다. 따라서 지수부가 실제로 표현할 수 있는 지수의 범위는 -126~128이 된다)."
   ]
  },
  {
   "cell_type": "markdown",
   "metadata": {},
   "source": [
    "이런 규정을 적용하게 되면 float은 더욱 작은 수를 표현할 수 있게 된다.\n",
    "가령 지수부는 모두 0으로 채워지고, 가수부의 마지막 비트만 1인 경우를 살펴본다."
   ]
  },
  {
   "cell_type": "markdown",
   "metadata": {},
   "source": [
    "즉 (1 / 2^149)라는 훨씬 작은 수를 표현할 수 있게 된다.\n",
    "실제로 이 값은 float이 표현할 수 있는 가장 작은 양의 실수가 되는 것이다.\n",
    "만일 가수부가 모두 0으로 채워진 경우에는 순수하게 0을 나타낼 수도 있다.\n",
    "float의 구조는 그대로 double에도 적용될 수 있다.\n",
    "double은 지수부가 11비트이고, 가수부가 52비트이므로 이론적으로 2^-1074, 즉 (1 / 2^1074)라는 상상할 수 없이 작은 값을 표현할 수 있는 것이다.\n",
    "즉, 오차를 충분히 줄일 수 있어서 정밀도가 급격히 상승하게 된다.\n",
    "그러나 여기서 착각하기 쉬운 점이 있는데, 모든 실수를 최소 양자 값(float: 2^-149 혹은 double: 2^-1074) 정도의 오차를 가지고 표현할 수 있는 것은 아니라는 것이다."
   ]
  },
  {
   "cell_type": "markdown",
   "metadata": {},
   "source": [
    "#### **1.3.4. 부동소수점 표현 한계**"
   ]
  },
  {
   "cell_type": "markdown",
   "metadata": {},
   "source": [
    "부동소수점의 구조에서 알 수 있듯이, float이나 double의 경우 가수부의 크기는 일정하다.\n",
    "따라서 지수가 충분히 클 경우에는 소수점 이하를 표현할 수 없게 된다."
   ]
  },
  {
   "cell_type": "markdown",
   "metadata": {},
   "source": [
    "만일 지수부의 지수가 23을 나타낸다고 가정해보자.\n",
    "지수부가 어떤 비트로 채워져 있건 상관없이 오른쪽으로 23자리 이동하게 되므로 더 이상 소수점 이하 부분이 남아있지 않게 된다.\n",
    "이것이 무슨 의미인가 하면 지수부의 지수가 23이상일 경우에는 더 이상 float은 소수점 이하를 표현할 수 없다는 의미이다.\n",
    "즉, 정수만을 표현하게 된다.\n",
    "실제로 가수부가 모두 0일 경우를 계산할 경우 float이 나타내는 값은 10진수로 8,388,608이 된다.\n",
    "즉, float으로 8,388,608 이상을 나타낼 때는 더 이상 소수점 이하를 표현할 수 없다."
   ]
  },
  {
   "cell_type": "raw",
   "metadata": {
    "vscode": {
     "languageId": "raw"
    }
   },
   "source": [
    "#include <stdio.h>\n",
    "#include <iostream>\n",
    "using namespace std;\n",
    "\n",
    "void main()\n",
    "{\n",
    "    float f[10];\n",
    "    f[0] = 8388608.0;\n",
    "    f[1] = 8388608.1;\n",
    "    f[2] = 8388608.2;\n",
    "    f[3] = 8388608.3;\n",
    "    f[4] = 8388608.4;\n",
    "    f[5] = 8388608.5;\n",
    "    f[6] = 8388608.6;\n",
    "    f[7] = 8388608.7;\n",
    "    f[8] = 8388608.8;\n",
    "    f[9] = 8388608.9;\n",
    "\n",
    "    cout.precision(32);             // (1)\n",
    "    for (int i = 0; i < 10; i++)\n",
    "    {\n",
    "        cout << f[i] << endl;\n",
    "    }\n",
    "} "
   ]
  },
  {
   "cell_type": "markdown",
   "metadata": {},
   "source": [
    "실제로 확인해보자.\n",
    "float 배열 f를 마련하여 8388608.0 ~ 8388608.9까지 10개의 수를 입력해보고, 출력해본다.\n",
    "(1)은 전체 숫자를 표현해주는 옵션이다.\n",
    "옵션을 주지 않을 경우 지수 표기법(E) 형식으로 출력되어 확인이 어렵다.\n",
    "출력 결과는 다음과 같다."
   ]
  },
  {
   "cell_type": "raw",
   "metadata": {
    "vscode": {
     "languageId": "raw"
    }
   },
   "source": [
    "8388608     // (1)\n",
    "8388608\n",
    "8388608\n",
    "8388608\n",
    "8388608\n",
    "8388608\n",
    "8388609     // (2)\n",
    "8388609\n",
    "8388609\n",
    "8388609"
   ]
  },
  {
   "cell_type": "markdown",
   "metadata": {},
   "source": [
    "float은 8388608 이상에서 소수 부분을 표현할 수 없기 때문에, 소수가 입력될 경우 가장 근사한 정수 값을 선택하게 된다.\n",
    "그래서 (1), (2)에서 확인할 수 있듯이 8388608.0 ~ 8388608.5까지 여섯 개는 8388608이 되고, 8388608.6 ~ 8388608.9까지 네 개는 8388609가 되는 것이다.\n",
    "이런 과정에서 부동 소수점은 오차를 가질 수밖에 없다."
   ]
  },
  {
   "cell_type": "markdown",
   "metadata": {},
   "source": [
    "이런 방식을 계속해서 적용해본다면 재미있는 사실을 알게 된다.\n",
    "바로 숫자가 커지면 커질 수록 표현할 수 있는 수의 오차도 급격히 증가한다는 사실이다.\n",
    "지수가 23 이상일 때는 더 이상 소수점 이하를 표현할 수 없고, 오직 정수만을 표현할 수 있었다.\n",
    "마찬가지로 지수가 24 이상일 때는 짝수 정수만을 표현하게 된다.\n",
    "즉, 홀수 정수는 표현할 수 없게 된다.\n",
    "지수가 25 이상일 때는 오직 4의 배수만을 표현할 수 있다.\n",
    "혹시라도 이해가 안 갈 경우를 위해 다시 한번 테스트를 해보자."
   ]
  },
  {
   "cell_type": "markdown",
   "metadata": {},
   "source": [
    "지수가 25인 경우를 따져보자.\n",
    "가수부가 23 비트이므로 지수가 25 이상일 경우 소수점을 오른쪽으로 이동할 경우 마지막에 0이 두 개 이상 붙게 된다.\n",
    "2진수에서 마지막이 00으로 끝날 경우 4의 배수가 된다.\n",
    "따라서 33,554,432 이상의 수를 float으로 표현할 경우 오직 4의 배수만을 나타낼 수 있다.\n",
    "즉, 33,554,432 다음으로 나타낼 수 있는 수는 33,554,436이 된다.\n",
    "아래는 확인용 소스 코드와 출력 결과이다."
   ]
  },
  {
   "cell_type": "raw",
   "metadata": {
    "vscode": {
     "languageId": "raw"
    }
   },
   "source": [
    "#include <stdio.h>\n",
    "#include <iostream>\n",
    "using namespace std;\n",
    "\n",
    "void main()\n",
    "{\n",
    "    float [10];\n",
    "    f[0] = 33554432;\n",
    "    f[1] = 33554433;\n",
    "    f[2] = 33554434;\n",
    "    f[3] = 33554435;\n",
    "    f[4] = 33554436;\n",
    "    f[5] = 33554437;\n",
    "    f[6] = 33554438;\n",
    "    f[7] = 33554439;\n",
    "    f[8] = 33554440;\n",
    "    f[9] = 33554441;\n",
    "\n",
    "    cout.precision(32);     // (1)\n",
    "    for (int i = 0; i < 10; i++)\n",
    "    {\n",
    "        cout << f[i] << endl;\n",
    "    }\n",
    "}"
   ]
  },
  {
   "cell_type": "markdown",
   "metadata": {},
   "source": [
    "출력 결과는 다음과 같다."
   ]
  },
  {
   "cell_type": "raw",
   "metadata": {
    "vscode": {
     "languageId": "raw"
    }
   },
   "source": [
    "33554432            // (1)\n",
    "33554432\n",
    "33554432\n",
    "33554436            // (2)\n",
    "33554436\n",
    "33554436\n",
    "33554440            // (3)\n",
    "33554440\n",
    "33554440\n",
    "33554440"
   ]
  },
  {
   "cell_type": "markdown",
   "metadata": {},
   "source": [
    "지수가 커지면 커질수록 오차 또한 급격하게 커진다.\n",
    "float의 경우 지수를 128까지 표현할 수 있기 때문에, 표현 가능한 이웃된 숫자 사이의 격차는 2의 제곱씩 커지게 된다.\n",
    "\n",
    "즉, 2^-149, 2^-148, ..., 1, 2, 4, 8, ..., 2^105\n",
    "\n",
    "왜 부동소수점은 이런 형식을 사용하는 것일까?\n",
    "바로 인간이 그와 유사한 방식으로 수를 세기 때문이다.\n",
    "나이를 따져보자.\n",
    "갓 태어난 아기의 나이를 따질 때는 태어난 지 며칠 지났다고 표현한다.\n",
    "서너 살까지는 몇 개월 지났다고 얘기한다.\n",
    "그러나 어느 정도 나이가 차면 년 단위로 얘기를 하지, 몇 일 지났다고 얘기하지는 않는다.\n",
    "나이의 대상이 사람이 아닐 경우는 더욱 극명하게 그러난다.\n",
    "암석의 경우 최소 십 만년 ~ 백 만년 단위로 얘기하지 정확히 몇 년 지났다고 얘기하지 않는다.\n",
    "우주의 나이를 얘기할 때는 기본 단위가 수 억년이다."
   ]
  },
  {
   "cell_type": "markdown",
   "metadata": {},
   "source": [
    "#### **1.3.5 부동소수점 사용시 주의점**"
   ]
  },
  {
   "cell_type": "markdown",
   "metadata": {},
   "source": [
    "간단하게 정리하자.\n",
    "우주 나이를 계산할 때 정확하게 빅뱅 이후 몇 년 따지는 것이 무의미하듯이, 부동소수점 타입을 이용하여 큰 수를 대상으로 정밀 계산하는 것은 무척 위험한 일이다.\n",
    "따라서 정수 단위로 큰 수를 정확하게 다루어야 한다면 64비트 정수 타입인 long long(= __int64)을 사용해야 한다."
   ]
  },
  {
   "cell_type": "raw",
   "metadata": {
    "vscode": {
     "languageId": "raw"
    }
   },
   "source": [
    "#include <stdio.h>\n",
    "#include <iostream>\n",
    "using namespace std;\n",
    "\n",
    "void main()\n",
    "{\n",
    "    float f = 33554432 + 3;\n",
    "    cout << f << endl;          // (1) 33554436 출력\n",
    "\n",
    "    long long ll = 33554432 + 3;\n",
    "    cout << ll << endl;         // (2) 33554435 출력\n",
    "}"
   ]
  },
  {
   "cell_type": "markdown",
   "metadata": {},
   "source": [
    "소스의 출력 결과에서 확인할 수 있듯이 정수로 정확한 계산을 수행하고자 할 경우 반드시 정수 타입을 사용해야만 한다."
   ]
  },
  {
   "cell_type": "raw",
   "metadata": {
    "vscode": {
     "languageId": "raw"
    }
   },
   "source": [
    "#include <stdio.h>\n",
    "#include <iostream>\n",
    "using namespace std;\n",
    "\n",
    "void main() \n",
    "{\n",
    "    printf(\"%.3f\\r\\n\", 0.3255);     // (1) 0.326\n",
    "    printf(\"%.3f\\r\\n\", 0.4255);     // (2) 0.425\n",
    "    printf(\"%.3f\\r\\n\", 0.42550001); // (3) 0.426\n",
    "}"
   ]
  },
  {
   "cell_type": "markdown",
   "metadata": {},
   "source": [
    "부동소수점은 반올림에서도 문제가 발생할 수 있다.\n",
    "[%.3f]는 소수점 아래 네 자리에서 반올림을 하여 소수점 아래 세 자리까지 출력하는 format이다.\n",
    "(2)를 보면 알 수 있듯이 제대로 반올림되지 않을 수도 있다.\n",
    "왜냐하면 0.4225가 실제로 부동소수점으로 표현될 경우 0.425499999...이기 때문이다.\n",
    "따라서 반올림을 정확하게 수행하고자 한다면 (3)과 같이 반올림 경계를 넘을 만큼 작은 값을 더해줄 필요도 있다."
   ]
  },
  {
   "cell_type": "markdown",
   "metadata": {},
   "source": [
    "이외에도 부동소수점의 구조적 한계로 인하여 계산상 많은 문제가 발생할 수 있다.\n",
    "계산 상의 오차를 줄이기 위해서는 float보다는 정밀도가 훨씬 큰 double을 사용해야만 한다.\n",
    "물론 double을 사용한다고 해서 문제가 완전히 사라지는 것은 아니겠으나 오차를 무시할 수 있는 수준으로 줄일 수 있을 것이다.\n",
    "만일 더욱 정밀한 계산을 해야만 한다면 계산 전용 라이브러리를 사용해야만 한다.\n",
    "더 많은 연산 능력과 계산을 요구하겠지만, 단순히 부동소수점 타입만을 사용할 때보다 훨씬 안전하게 수행할 수 있다."
   ]
  },
  {
   "cell_type": "markdown",
   "metadata": {},
   "source": [
    "#### **1.3.6 무한 & NaN**"
   ]
  },
  {
   "cell_type": "markdown",
   "metadata": {},
   "source": [
    "지금까지이 내용을 살펴보면 부동소수점은 아직 작은 수와 아주 큰 수를 표현하기 위하여 설계되었음을 알 수 있다.\n",
    "그런데 이것이 전부인 것은 아니다.\n",
    "IEEE754 부동소수점은 좀 더 특별한 것을 표현할 수 있도록 추가적인 규정을 마련하였다.\n",
    "바로 무한(Infinity)과 NaN(Not a Number)이다.\n",
    "무한이야 개념적으로 알고 있을 것이고, NaN은 DB 작업을 할 때 많이 보게 되는 [미정의 결과 | 값이 없는 상태]를 나타낸다."
   ]
  },
  {
   "cell_type": "markdown",
   "metadata": {},
   "source": [
    "무한과 NaN을 어떻게 표현할까?\n",
    "지수부의 모든 비트가 1로 채워져 있는 경우가 그렇다.\n",
    "위에서 float의 지수부는 8비트이므로, 표현 가능한 지수의 범위는 -126 ~ 128이라고 하였으나,  모든 비트가 1로 채워진 상태인 128이 무한과 NaN에 대하여 예약되어 있으므로 실제 지수의 범위는 -126 ~ 127이 된다.\n",
    "무한과 NaN은 가수부에 의해서 나누어진다.\n",
    "가수부의 모든 비트가 0으로 채워져 있는 경우가 바로 무한을 나타내며, 가수부 비트 중 하나라도 1이 있을 경우에는 NaN을 나타나게 된다.\n",
    "무한은 양의 무한과 음의 무한으로 나누어진다.\n",
    "무한의 부호를 결정하는 것은 역시 부호 비트이다.\n",
    "그러나 NaN의 경우 크기를 가지는 수가 아니기 때문에 양의 NaN, 음의 NaN이라고 특별히 구분하지 않는다."
   ]
  },
  {
   "cell_type": "markdown",
   "metadata": {},
   "source": [
    "실제로 float을 이용하여 양의 무한을 표현해보자.\n",
    "부호 비트는 0으로 하고, 지수부를 나타내는 8비트는 모두 1로 채운다.\n",
    "무한의 핵심은 가수부 23비트가 모두 0이라는 것이다.\n",
    "따라서 양의 무한은 아래와 같이 표현될 수 있다.\n",
    "\n",
    "[0111,1111,1110,0000,0000,0000,0000,0000] => 0x7F80,0000"
   ]
  },
  {
   "cell_type": "raw",
   "metadata": {
    "vscode": {
     "languageId": "raw"
    }
   },
   "source": [
    "#include <stdio.h>\n",
    "#include <iostream>\n",
    "using namespace std;\n",
    "\n",
    "void main()\n",
    "{\n",
    "    unsigned int ui = 0x7F800000;\n",
    "\n",
    "    float f;\n",
    "    memcpy (&f, &ui, 4);    // (1) f is infinity\n",
    "    cout << f << endl;\n",
    "\n",
    "    float f2 = f + f;       // (2) f2 is infinity\n",
    "    cout << f2 << endl;\n",
    "}"
   ]
  },
  {
   "cell_type": "markdown",
   "metadata": {},
   "source": [
    "위 소스의 출력 결과는 다음과 같다."
   ]
  },
  {
   "cell_type": "raw",
   "metadata": {
    "vscode": {
     "languageId": "raw"
    }
   },
   "source": [
    "1. #INF     // (1) f\n",
    "2. #INF     // (2) f2"
   ]
  },
  {
   "cell_type": "markdown",
   "metadata": {},
   "source": [
    "INF는 infinity를 나타낸다.\n",
    "즉, 무한을 나타낸다(출력 형식은 컴파일러에 따라 달리질 수 있는데, 위의 결과는 VC++를 기준으로 한 것이며, GCC의 경우 inf로 출력된다.음의 무한일 경우는 1 앞에 마이너스 부호(-)가 붙게 된다).\n",
    "주의 깊게 보아야 할 점은 (2)와 같다.\n",
    "무한끼리 더해도 역시 무한일 뿐이다.\n",
    "따라서 f2의 경우도 무한으로 표현될 뿐이다."
   ]
  },
  {
   "cell_type": "markdown",
   "metadata": {},
   "source": [
    "이번에는 float으로 NaN을 표현해보자.\n",
    "NaN을 가장 간단히 표현할 수 있는 방법은 모든 비트를 1로 채우는 것이다.\n",
    "따라서 0xFFFF, FFFF은 NaN을 나타내기에 충분하다."
   ]
  },
  {
   "cell_type": "raw",
   "metadata": {
    "vscode": {
     "languageId": "raw"
    }
   },
   "source": [
    "#include <stdio.h>\n",
    "#include <iostream>\n",
    "using namepsace std;\n",
    "\n",
    "void main()\n",
    "{\n",
    "    unsigned int ui = 0xFFFFFFFF;\n",
    "\n",
    "    float f;\n",
    "    memcpy (&f, &ui, 4);    // (1) f is NaN\n",
    "    cout << f << endl;\n",
    "\n",
    "    float f2 = f + f;       // (2) f is NaN\n",
    "    cout << f2 << endl;\n",
    "}"
   ]
  },
  {
   "cell_type": "markdown",
   "metadata": {},
   "source": [
    "위 소스의 출력 결과는 다음과 같다."
   ]
  },
  {
   "cell_type": "raw",
   "metadata": {
    "vscode": {
     "languageId": "raw"
    }
   },
   "source": [
    "-1. #QNAN   // (1) f\n",
    "-1. #QNAN   // (2) f2"
   ]
  },
  {
   "cell_type": "markdown",
   "metadata": {},
   "source": [
    "결과에서 알 수 있듯이 QNAN은 NAN을 의미한다(NaN은 QNaN과 SNaN으로 나우지는데 여기서는 그 범위를 넘어서므로 자세한 설명은 생략하겠다).\n",
    "앞에 마이너스가 붙은 것은 부호 비트가 1로 설정되어 있기 때문이다.\n",
    "NaN끼리 더해도 그 결과는 NaN이 됨을 확인할 수 있다.\n",
    "역시 출력형식은 컴파일러에 따라 달라질 수 있는데, GCC의 경우 -nan으로 나타난다."
   ]
  },
  {
   "cell_type": "markdown",
   "metadata": {},
   "source": [
    "부동소수점에 대해서 꽤 자세히 알아보았다.\n",
    "이번 절을 간단히 정리한다면 다음과 같다.\n",
    "부동소수점은 아주 작은 수와 아주 큰 수, 그리고 무한과 NaN을 표현하기 위하여 도입된 타입이다.\n",
    "표현의 한계로 인하여 오차는 값이 커질수록 기하급수적으로 증가한다.\n",
    "이 사실을 기억하면서 정수 계산은 정수 타입에 맡기고, 정밀 계산을 위해서라면 전용 계산 라이브러리를 이용해야만 한다.\n",
    "부동소수점을 사용해야만 한다면 정밀도가 높을수록 좋기 때문에 double을 써야 한다."
   ]
  },
  {
   "cell_type": "markdown",
   "metadata": {},
   "source": [
    "### **1.4 문자 타입**\n",
    "---"
   ]
  },
  {
   "cell_type": "markdown",
   "metadata": {},
   "source": [
    "컴퓨터 처리 대상의 대부분을 차지하는 것이 숫자 다음으로 문자가 될 것은 너무나도 당연한 일이다.\n",
    "당연히 문자를 처리하기 위해 문자 전용 타입을 만들었는데 바로 char이다.\n",
    "그러나 C/C++ 설계자들이 세상의 모든 문자가 알파벳만 존재한다고 생각한 것인지, 아니면 알파벳만 다루기 위해서 char를 만든 것인지는 모르겠으나 어찌되었건 char는 철저하게 알파벳 기준으로 만들어진 타입이다."
   ]
  },
  {
   "cell_type": "markdown",
   "metadata": {},
   "source": [
    "char는 ASCII 인코딩을 사용하여 문자를 비트 상태와 대응시킨다.\n",
    "알바펫 대소문자와 숫자, 특수문자, 제어문자 등으로 이루어져 있다.\n",
    "다 합친 문자의 개수가 128개라서 7비트만 사용한다.\n",
    "즉, 맨 왼쪽 비트는 0으로 설정되어 있는 것이다."
   ]
  },
  {
   "cell_type": "markdown",
   "metadata": {},
   "source": [
    "#### **1.4.1 유니코드**"
   ]
  },
  {
   "cell_type": "markdown",
   "metadata": {},
   "source": [
    "이 세상 문자가 어디 알파벳만 있겠는가?\n",
    "한글과 한자뿐 아니라 일본, 베트남 등 자국에서만 사용하는 문자도 수두룩하게 있다.\n",
    "그뿐 아니라 한글이나 한자를 모두 표현하기 위해서 1바이트는 턱없이 부족한 크기였다.\n",
    "그래서 각각의 문자를 표현하기 위하여 char를 표현하는 방법을 사용하기 시작했는데, 맨 왼쪽 비트가 1일 경우 char 2개를 묶어서 한 문자로 표현하는 방법을 사용한 것이다.\n",
    "이 방법은 기존 ASCII 코드도 유지하면서 각각의 문자를 표현할 수 있어서 널리 퍼지게 되었다.\n",
    "그러나 문제가 없는 것은 아니었다.\n",
    "char 2개를 한 문자와 연결시키는 대응 방법을 코드페이지라고 부르는데, 각 문화권에 따라서 코드페이지가 개별적으로 존재할 수밖에 없다.\n",
    "따라서 같은 비트 상태를 가진 char 두 개가 코드페이지에 따라서 각기 다른 글자로 해석되는 문제가 있다.\n",
    "이것은 언어별 호환성에 상당한 제약을 주는 것이었고, 호환성 있는 프로그램을 제작하는데도 어려움을 안겨주었다.\n",
    "그리하여 이 세상 모든 문자를 단일 코드로 통합하려는 움직임이 나타나게 되었으며, 그로 인해서 유니코드라는 체계가 탄생하게 되었다."
   ]
  },
  {
   "cell_type": "markdown",
   "metadata": {},
   "source": [
    "유니코드는 이 세상 모든 문자들에게 코드를 부여한 것이다.\n",
    "그 코드라는 것은 순수하게 번호를 의미하며, 몇 바이트 크기의 비트 상태를 어떻게 설정해야 한다는 대응법과는 전혀 상관이 없다.\n",
    "단지 각각의 문자들에게 중복되지 않는 유일한 번호를 부여한 것 뿐이다.\n",
    "유니코드에 대해서 궁금하다면 유니코드 사이트에 들어가서 각각의 문자에 부여된 코드를 확인할 수 있다.\n",
    "한글은 상당히 많은 코드를 부여 받았는데, 한글의 자모가 조홥되어 나타날 수 있는 가지 수가 상당히 많기 때문이다."
   ]
  },
  {
   "cell_type": "markdown",
   "metadata": {},
   "source": [
    "유니코드는 각 문자에 유일하게 번호를 부여한 것이라고 했다.\n",
    "그렇다면 실제 컴퓨터의 타입으로는 어떻게 대응시키는 것일까?\n",
    "그런 대응 방식을 바로 UTF(Unicode Transformation Format)-N이라고 한다.\n",
    "보통 많이들 들어본 UTF-8, UTF-16, UTF-32가 있다."
   ]
  },
  {
   "cell_type": "markdown",
   "metadata": {},
   "source": [
    "#### **1.4.2 UTF(Unicode Transformatio Format)-N**"
   ]
  },
  {
   "cell_type": "markdown",
   "metadata": {},
   "source": [
    "UTF-N의 정확한 의미는 N 비트의 배수로 한 문자를 표현한다는 것이다.\n",
    "가령 UTF-8의 경우 8비트로 한 문자를 나타낼 수도 있으나, 경우에 따라서 16비트로 한 문자를 나타내고, 부족하면 24비트로 한 문자를 나타내겠다는 것이다.\n",
    "따라서 UTF-8에서 알파벳은 ASCII와 동일하게 1바이트만으로 표시되며 한글의 경우 한 글자가 3바이트를 차지하게 된다.\n",
    "\n",
    "마찬가지로 UTF-16의 경우 16비트의 배수로 한 문자를 나타내겠다는 것이다.\n",
    "따라서 알파벳이나 한글 모두 한 글자가 2바이트를 차지하지만 2바이트로 대응할 수 없는 문자의 경우 4바이트로 표시하겠다는 것을 의미한다.\n",
    "그러나 대부분의 문자는 2바이트로 표현 가능하므로 극히 일부 고어나 옛 문자 등이 4바이트로 대응된다.\n",
    "\n",
    "마지막으로 UTF-32인데 32비트로 한 문자를 나타내겠다는 것으로 모든 문자에 대해서 4바이트를 차지한다.\n",
    "너무 큰 용량을 차지하기 때문에 많이 사용되고 있지는 않다."
   ]
  },
  {
   "cell_type": "markdown",
   "metadata": {},
   "source": [
    "UTF-8과 UTF-6은 문화권에 따라서 선호도가 달라진다.\n",
    "알파벳을 사용하는 쪽에서는 UTF-8을 선호하는 경향이 있다.\n",
    "왜냐하면 ASCII와 그대로 호환되기 때문이고, 알파벳은 1바이트만을 차지하기 때문에 절약도 되기 떄문이다.\n",
    "우리나라의 경우 한글은 UTF-8에서 3바이트를 차지하므로 UTF-16에 비해서는 효율이 좋지 못한 편이다.\n",
    "그 뿐 아니라 UTF-8은 글자의 수를 셀 경우 각 글자마다 바이트 크기가 다르기 때문에 많은 연산을 요구하게 된다.\n",
    "그에 비해서 UTF-16은 글자 하나가 2바이트이므로 공간도 절약되고, 글자 수를 셀 경우에도 고속으로 처리할 수 있는 장점이 있긴 하다.\n",
    "그러나 이것은 한글을 많이 사용할 경우에 한정된 것이지, 실제로 프로그래밍에서 알파벳을 위주로 작업할 경우 UTF-8이 선호될 수도 있다."
   ]
  },
  {
   "cell_type": "markdown",
   "metadata": {},
   "source": [
    "C++는 UTF-16이나 UTF-32를 지원하는 데이터 타입을 제공한다.\n",
    "바로 wchar_t이다.\n",
    "아쉽긴 하지만 wchar_t는 컴파일러에 따라서 UTF-16이나 UTF-32에 대응된다.\n",
    "VC++의 경우 wchar_t는 2바이트며 UTF-16을 지원한다(엄밀히 따지면 UCS-2를 지원하는데, UTF-16이 UCS-2를 그대로 포함하는 확장이다).\n",
    "그에 비해서 GCC의 경우 wchar_t는 4바이트로 UTF-32를 지원한다.\n",
    "무척 아쉬운 일이지만 플랫폼 간 문자 타입을 통일하지는 못한 것이다."
   ]
  },
  {
   "cell_type": "markdown",
   "metadata": {},
   "source": [
    "Wide Character를 표현하기 위해서는 L 매크로를 사용할 수 있다.\n",
    "'A'는 char 타입이지만, L'A'는 wchar_t 타입이다.\n",
    "또한 \"ABC\"는 char 배열이지만 L\"ABC\"는 wchar_t의 배열이다."
   ]
  },
  {
   "cell_type": "markdown",
   "metadata": {},
   "source": [
    "#### **1.4.3. 은(는) 처리**"
   ]
  },
  {
   "cell_type": "markdown",
   "metadata": {},
   "source": [
    "\"여왕은 우아했고 공주는 아름다웠다.\"\n",
    "\n",
    "위의 문장에서 여왕과 공주를 바꾼다면 어떻게 될까?\n",
    "\n",
    "\"공주는 우아했고 여왕는 아름다웠다.\""
   ]
  },
  {
   "cell_type": "markdown",
   "metadata": {},
   "source": [
    "확실히 어색함을 느낄 수 있을 것이다.\n",
    "우리말은 앞의 단어에 따라서 조사가 달라질 수 있다.\n",
    "따라서 우리말 템플릿을 제작하는 것은 꽤 어려운 일이다.\n",
    "가끔은 [은(는)]과 같이 가능한 조사를 한 번에 써넣는 것으로 쉽게 해결하기도 하지만 별로 마음에 드는 구현은 아닐 것이다."
   ]
  },
  {
   "cell_type": "markdown",
   "metadata": {},
   "source": [
    "유니코드를 이용하면 완벽하지는 못하지만 어느 정도까지는 조사를 구분할 수 있는 기능을 쉽게 개발할 수 있다.\n",
    "먼저, 여왕과 공주의 차이를 살펴보자.\n",
    "받침이 있는 글자로 끝날 경우는 '은'이 어울리고, 받침이 없는 글자로 끝날 경우는 '는'이 어울린다.\n",
    "실제로 받침이 있는 글자로 끝날 경우 어울리는 조사로는 [은, 을, 으로] 등이 있으며, 받침이 없는 글자로 끝날 경우 어울리는 조사로는 [는, 를, 로]가 된다.\n",
    "즉, 받침이 있는지 여부만 확인해도 어느 정도 적절한 조사를 선택할 수 있다는 의미이다.\n",
    "물론 예외적인 단어도 있긴 하다.\n",
    "'서울'이란 단어는 '서울으로'보단 '서울로'가 더 어울린다.\n",
    "전문적인 것까지는 아니더라도 기본적인 것만 처리해도 고급 기능이 될 수 있다."
   ]
  },
  {
   "cell_type": "markdown",
   "metadata": {},
   "source": [
    "이와 같은 기능을 개발하기 위하여 알아야 할 지식이 몇 가지 있다.\n",
    "먼저 유니코드에서 한글이 차지하는 코드 영역이다.\n",
    "유니코드에서는 한글의 자음, 모음, 완성형 글자가 모여있는데, 당연히 처리 대상은 완성형일 것이다.\n",
    "완성형 한글의 코드 범위는 0xAC00 ~ 0xD7A3이 된다."
   ]
  },
  {
   "cell_type": "markdown",
   "metadata": {},
   "source": [
    "유니코드 한글은 너무 많기 때문에 극히 일부분인 완성형 글자인 '가', '개'로 시작하는 한글을 보여준다.\n",
    "유니코드 표의 위쪽(AC0 ~ AC3)과 왼쪽(0 ~ F) 코드가 조합되어서 한 글자의 코드를 나타낸다.\n",
    "가령 '감'을 나타내는 유니코드는 위쪽의 ACIㅇ과 왼쪽의 0이 만나서 [0xAC10]이 된다."
   ]
  },
  {
   "cell_type": "markdown",
   "metadata": {},
   "source": [
    "다시 돌아와서 '은(는)' 처리를 위해서는 유니코드 한글 범위의 글자 중에서 받침이 있는 것과 없는 것을 구분해야만 한다.\n",
    "그것 또한 무척 쉬운 일이다.\n",
    "유니코드는 한글 완성형을 기록할 때 순차적으로 받침을 넣으면서 번호를 부여했기 때문에 28자마다 받침이 없는 글자가 나타나게 된다.\n",
    "[가, 각, ..., 갚, 갛]과 같이 28자가 나타나고 그 다음에 [개 객 ,,, 갶, 갷]이 이어지는 방식이다.\n",
    "2ㅡㄱ, 28자를 주기로 코드를 검사한다면 받침 있는 글자인지 아닌지를 알 수 있는 것이다.\n",
    "여기서 '가'의 코드는 0xAC00이고, '개'의 코드는 0xAC1C로써 정확히 28만큼 차이가 난다."
   ]
  },
  {
   "cell_type": "raw",
   "metadata": {
    "vscode": {
     "languageId": "raw"
    }
   },
   "source": [
    "#include <stdio.h>\n",
    "#include <iostream>\n",
    "using namespace std;\n",
    "\n",
    "bool HasFinalConsonant(wchar_t Letter)\n",
    "{\n",
    "    if (Letter >= 0xAC00 && Letter <= 0xD7A3)   // (1) 한글 완성형 확인\n",
    "    {\n",
    "        if ((Letter - 0xAC00) % 28 == 0)        // (2) 받침 없는 글자 확인\n",
    "        {\n",
    "            return true;\n",
    "        }\n",
    "    }\n",
    "\n",
    "    return false;\n",
    "}\n",
    "\n",
    "void main()\n",
    "{\n",
    "    if (HasFinalConsonant(L'왕'));\n",
    "    {\n",
    "        cout << \"왕-받침 없음\" << endl;\n",
    "    }\n",
    "\n",
    "    if (HasFinalConsonant(L'주'));\n",
    "    {\n",
    "        cout << \"주-받침 없음\" << endl;\n",
    "    }\n",
    "}"
   ]
  },
  {
   "cell_type": "markdown",
   "metadata": {
    "vscode": {
     "languageId": "raw"
    }
   },
   "source": [
    "예제를 테스트해보면 [주-받침 없음]만 잘 출력되는 것을 확인할 수 있다."
   ]
  },
  {
   "cell_type": "markdown",
   "metadata": {},
   "source": [
    "### **1.5. 문자열**\n",
    "---"
   ]
  },
  {
   "cell_type": "markdown",
   "metadata": {},
   "source": [
    "문자열은 문자들이 모인 것이다.\n",
    "따라서 특별히 문자열을 위한 타입이란 것을 C/C++가 기본적으로 제공하지는 않는다.\n",
    "기본적으로 문자열은 문자들이 나열된 것으로 보아서 문자 배열로 표현할 수 있다.\n",
    "또한 NULL 종료 문자열(NULL Terminated String)이라고해서 문자열 끝에 NULL을 넣어서 어디까지가 문자열인지를 판별할 수 있도록 하였다.\n",
    "NULL 종료 문자열의 단점이라면 문자열을 파악하기 위하여 NULL을 찾아야 한다는 것이다.\n",
    "그런 단점으로 인해서 약간 구조를 개선하여 문자열 맨 앞에 총 바이트 수를 넣는 방식도 있는데 보통 BSTR이 그런 방식을 사용한다.\n",
    "BTSR은 베이직이나 파스칼에서 사용되며, 윈도우의 COM에서도 사용되는 문자열 표현 방식이다.\n",
    "C/C++에서 문자열을 주로 표현하는 방식은 NULL 종료 문자열이기에 여기에셔는 BSTR에 대해서는 더 이상 설명을 하지는 않을 것이다."
   ]
  },
  {
   "cell_type": "markdown",
   "metadata": {},
   "source": [
    "문자열을 문자 배열을 통해서 다루는 것은 어려운 점이 있다.\n",
    "배열의 특성으로 인해서 문자열을 수정하는 것은 무척 힘든 작업이다.\n",
    "따라서 문자열을 쉽게 다룰 수 있는 자료구조가 제공되기도 하는데, C++ 표준 라이브러리에서 string 클래스를 제공하며 VC++ 경우에는 Cstring 클래스를 제공한다.\n",
    "string이나 CString의 사용 방법은 상당히 직관적이므로 도움말이나 예제 등을 조금만 살펴봐도 쉽게 사용할 수 있을 것이다.\n",
    "또한 문자열 클래스는 뒤에서도 조금씩 설명될 것이므로 여기서는 특이하거나 주의할 점에 대해서만 설명을 진행할 것이다."
   ]
  },
  {
   "cell_type": "markdown",
   "metadata": {},
   "source": [
    "#### **1.5.1. 문자열 클래스의 길이**"
   ]
  },
  {
   "cell_type": "markdown",
   "metadata": {},
   "source": [
    "문자열을 나타내는 문자 배열에서 문자열의 길이를 구하기 위해서 사용하는 함수는 strlen이다.\n",
    "이 함수는 문자열 시작부터 NULL을 찾을 때까지 검색을 진행한다.\n",
    "문제가 있다면 문자열에 대해서도 strlen을 100번 수행하면 100번 모두 검색을 진행한다는 것이다.\n",
    "만일 문자열 안에 길이 정보가 추가되어 있다면 단 한 번만 문자열 길이를 구하고, 그 뒤에 추가적인 요청에 대해서는 길이 정보만 변환하면 될 것이다."
   ]
  },
  {
   "cell_type": "markdown",
   "metadata": {},
   "source": [
    "문자 배열에서는 당연히 이런 구조를 만들 수 없지만, 문자열 클래스라면 충분히 가능하다.\n",
    "왜냐하면 문자열 클래스의 목적이 문자열의 정보를 관리하는 것이기 때문이다.\n",
    "실제로 string과 CString에서는 자체적으로 길이 정보를 보관하고 있다."
   ]
  },
  {
   "cell_type": "raw",
   "metadata": {
    "vscode": {
     "languageId": "raw"
    }
   },
   "source": [
    "#include <stdio.h>\n",
    "#include <iostream>\n",
    "using namespace std;\n",
    "\n",
    "void main()\n",
    "{\n",
    "    ///////////////////////////////////////////////\n",
    "    Cstring str1 = \"ABCDEFG\";\n",
    "    cout << str1 << str.GetLength() << endl;\n",
    "\n",
    "    char* p1 = str1.GetBuffer();        // (1) 문자 배열을 얻는다.\n",
    "    p1[3] = '\\0';                       // (2) 문자 배열을 수정한다.\n",
    "    cout << str1 << str1.GetLength() << endl;\n",
    "\n",
    "    ///////////////////////////////////////////////\n",
    "    string str2 = \"ABCDEFG\";\n",
    "    cout << str2.c_str() << str2.size() << endl;\n",
    "\n",
    "    char* p2 = (char*)str2.c_str();     // (1) 문자 배열을 얻는다.\n",
    "    p2[3] = '\\0';                       // (2) 문자 배열을 수정한다.\n",
    "    cout << str.c_str() << str2.size() << endl;\n",
    "}"
   ]
  },
  {
   "cell_type": "markdown",
   "metadata": {
    "vscode": {
     "languageId": "raw"
    }
   },
   "source": [
    "예제는 문자열 클래스에서 길이를 어떻게 처리하는지를 보여준다.\n",
    "클래스 멤버로 길이를 관리하기 때문에 성능면에서는 뛰어나긴 하지만 잘못 사용할 경우 버그를 양산할 수도 있다.\n",
    "문자열 클래스도 결국 문자열을 NULL 종료 문자열 방식으로 저장하고 있다.\n",
    "실제 문자열이 저장되는 장소는 힙 영역인데 자동으로 메모리를 할당 및 재할당 할 수 있기 때문에 단순한 문자 배열에 비해서 훨씬 쉽게 문자열 수정을 할 수 있다."
   ]
  },
  {
   "cell_type": "markdown",
   "metadata": {},
   "source": [
    "CString과 string에서 문자열이 저장된 위치를 변환하는 멤버 함수는 GetBuffer()와 c_str()이다.\n",
    "이것을 통해서 실제 문자열에 접근할 수 있으며, 원한다면 수정을 할 수도 있다.\n",
    "소스 코드의 (2)에서는 강제로 문자 배열의 네 번째 문자를 NULL로 설정해버렸다.\n",
    "따라서 NULL 종료 문자열의 방식에 따라서 문자열은 단시 \"ABC\"가 될 것이다.\n",
    "그러나 이런 수정 작업이 내부의 길이 정보에 영향을 주는 것은 아니다.\n",
    "따라서 문자열과 길이를 출력할 경우 올바르지 못한 결과를 얻게 되는 것이다. "
   ]
  },
  {
   "cell_type": "markdown",
   "metadata": {},
   "source": [
    "예제는 일반적으로 잘 사용하지 않는 방식을 사용하고 있는데, 강조하고 싶은 바는 문자열 클래스를 사용할 경우에는 가능하면 클래스가 제공하는 인터페이스만을 사용해서 문자열을 다루라는 것이다.\n",
    "만일 예제와 같이 직접 문자열 메모리에 접근하여 어떤 처리를 할 경우에는 어떤 문제가 발생할 지 알 수 없기 때문이다."
   ]
  },
  {
   "cell_type": "markdown",
   "metadata": {},
   "source": [
    "#### **1.5.2. string의 대소문자 변경**"
   ]
  },
  {
   "cell_type": "markdown",
   "metadata": {},
   "source": [
    "일반적으로 문자열을 다루어야 할 때 가능하다면 string보다는 CString을 애용한다.\n",
    "왜냐하면 CString이 훨씬 잘 만들어졌으며 안정성도 뛰어나기 때문이다.\n",
    "물론 충분히 이의를 제기하는 부류들도 있으나 둘 다 사용해보면 Cstring에 더욱 편안함과 안정성을 느낄 수 있을 것이다.\n",
    "이번에는 실제로 string을 사용하는 환경에서 발생한 문제를 설명하면서 string 사용시 주의를 기울여야 한다는 것을 설명하고자 한다."
   ]
  },
  {
   "cell_type": "markdown",
   "metadata": {},
   "source": [
    "CString의 경우 대소문자를 변경하는 함수가 제공된다.\n",
    "바로 MakeLower, MakeUpper이다.\n",
    "단 한 번만 호출하면 완벽하게 대소문자 변환이 완료된다.\n",
    "그런데 string은 이와 같은 기능을 수행하는 멤버 함수를 제공하지 않는다.\n",
    "그러나 string에 대해서 대소문자를 변경을 못하는 것은 아니다.\n",
    "인터넷만 찾아봐도 string의 대소문자를 변경하는 자체 함수들이 제시되어 있다.\n",
    "대략 다음과 같은 코드를 이용하여 대소문자를 변경하는 것을 확인할 수 있다."
   ]
  },
  {
   "cell_type": "raw",
   "metadata": {
    "vscode": {
     "languageId": "raw"
    }
   },
   "source": [
    "transform(str.begin(), str.end(), str.begin(), tolwer);"
   ]
  },
  {
   "cell_type": "markdown",
   "metadata": {},
   "source": [
    "여기서 str이 string 객체이고, tolower는 대문자를 소문자로 바꿔주는 알고리즘이다.\n",
    "즉, C++ 표준 라이브러리에서는 string에 대소문자 변환 기능을 부여하는 대신 알고리즘을 사용하도록 권고하는 것이다.\n",
    "물론 나쁘지 않은 설계 방식이다.\n",
    "그러나 대소문자 변경이 그리 간단하지 않는다는데 문제가 있다."
   ]
  },
  {
   "cell_type": "raw",
   "metadata": {
    "vscode": {
     "languageId": "raw"
    }
   },
   "source": [
    "#include <iostream>\n",
    "#include <stdio.h>\n",
    "#include <algorithm>\n",
    "using namespace std;\n",
    "\n",
    "void main()\n",
    "{\n",
    "    string str = \"ABC가나다묭DEF\";\n",
    "    transform(str.begin(), str.end(), str.begin(), tolwer);\n",
    "    cout << str.c_str() << endl;\n",
    "}"
   ]
  },
  {
   "cell_type": "markdown",
   "metadata": {},
   "source": [
    "과연 어떤 결과가 나올까?\n",
    "소문자로 변경하는 것이기 때문에 [abc가나다묭def]이 나올 것 같지만 그렇지 않다는데 문제가 있다.\n",
    "실제로는 [abc가나다뭗def]이 출력된다.\n",
    "즉, '묭'자가 '뭗'자로 변환된 것이다.\n",
    "\n",
    "왜 이런 현상이 발생하는 것일까?\n",
    "원인은 tolower 및 toupper에 있다.\n",
    "이 알고리즘은 컨테이너의 요소를 하나씩 받아서 처리한다.\n",
    "즉, 각각 요소를 입력 받아서 대소문자 변환이 필요하면 처리하는 식이다.\n",
    "그런데 string 컨테이너의 한 요소는 한 글자가 아니라 char 객체 하나라는데 문제가 있다.\n",
    "알파벳은 아무 문제가 없지만 한글을 비롯한 수많은 문자들은 한 글자로 2바이트를 사용하기 때문이다(UTF-8의 경우 한글 하나가 3바이트를 차지하기도 한다. 일단 여기서는 일반적인 MBCS인 EUC-KR을 사용한다고 가정한다)."
   ]
  },
  {
   "cell_type": "markdown",
   "metadata": {},
   "source": [
    "'묭'은 2바이트로 표현되며, 각각 10진수로 표현하면 146과 68이 된다.\n",
    "68은 char로 따진다면 알파벳 대문자 'D'를 나타낸다.\n",
    "따라서 tolower는 146에 대해서는 변환을 수행하지 않고, 'D'를 나타내는 68에 대해서는 'd'를 나타내는 100으로 바꾸는 것이다.\n",
    "그리하여 변환된 2바이트 146과 100이 합쳐져서 '뭗'으로 표현되는 것이다."
   ]
  },
  {
   "cell_type": "markdown",
   "metadata": {},
   "source": [
    "그 동안 위와 같은 string의 대소문자 변환 코드가 널리 사용될 수 있었던 이유는 우리가 주로 사용하는 한글의 경우 2바이트 각각의 코드가 ASCII와 겹치지 않기 때문이었다.\n",
    "그러나 겅의 사용되지 않는 '묭', '뭗'과 같은 생소한 한글들은 2바이트 중 하나가 ASCII와 중복되므로 문제가 발생할 수 있는 것이다.\n",
    "그렇다면 string에서 제대로 된 대소문자 변환을 하기 위해서는 어떻게 해야 할까?\n",
    "제일 좋은 방법은 wstring을 사용하면 된다.\n",
    "wstring의 컨테이너 한 요소는 wchar_t이므로 STL 알고리즘인 tolower, toupper가 제대로 동작한다.\n",
    "만일 string을 사용할 수밖에 없다면 변환 함수를 따로 만들어 주어야 한다.\n",
    "아래는 간단히 만들어진 소문자 변환 함수이다."
   ]
  },
  {
   "cell_type": "raw",
   "metadata": {
    "vscode": {
     "languageId": "raw"
    }
   },
   "source": [
    "#include <stdio.h>\n",
    "#include <iostream>\n",
    "using namespace std;\n",
    "\n",
    "void ToLower(std::string && str)\n",
    "{\n",
    "    bool bStartExtension = false;\n",
    "\n",
    "    std::string::iterator it = str.begin();\n",
    "    while(it != str.end())\n",
    "    {\n",
    "        // (1) 0과 양수만 처리하기 위해야 unsigned char를 사용\n",
    "        unsigned char c = *it;\n",
    "\n",
    "        if(bStartExtension)\n",
    "        {\n",
    "            bStartExtension = false;\n",
    "        }\n",
    "        else\n",
    "        {\n",
    "            // (2) 128 아래는 알파벳 및 기본문자이다.\n",
    "            if (c < 128 && !bStartExtension)\n",
    "            {\n",
    "                *it = tolower(c);\n",
    "            }\n",
    "            else\n",
    "            {\n",
    "                bStartExtension = true;\n",
    "            }\n",
    "        }\n",
    "\n",
    "        it ++;\n",
    "    }\n",
    "}\n",
    "\n",
    "void main()\n",
    "{\n",
    "    using namespace std;\n",
    "\n",
    "    string str = \"ABC가나다묭DEF\";\n",
    "    ToLower(str);\n",
    "    cout << str.c_str() << endl;\n",
    "}"
   ]
  },
  {
   "cell_type": "markdown",
   "metadata": {
    "vscode": {
     "languageId": "raw"
    }
   },
   "source": [
    "함수 ToLower를 만들었다.\n",
    "소스 코드의 (1)에서는 unsigned char로 string의 컨테이너 요소를 받는다.\n",
    "그러면 0 이상인 수에 대해서 처리하기 쉽다.\n",
    "(2)를 보면 문자코드가 128 아래일 경우에 대해서는 기존 소문자 변환 함수인 tolower를 호출하는 것을 볼 수 있다.\n",
    "보통 MBCS에서 한 글자는 1바이트 혹은 2바이트로 표시되는데, 이것을 구분하는 기준이 바로 128이기 때문이다.\n",
    "만일 첫 번째 바이트가 128 아래일 경우 ASCII이며, 128 이상이 될 경우 다음 바이트까지 합친 2바이트가 확장되는 것이다.\n",
    "bStartExtension이라는 플래그를 사용하였는데, 확장 문자에 대해서는 소문자 변환을 할 필요가 없기 때문이다."
   ]
  },
  {
   "cell_type": "markdown",
   "metadata": {},
   "source": [
    "참고적으로 CString의 경우 대소문자 변환에 아무 문제가 없는데, 내부에서 위와 같은 처리를 수행하고 있기 때문이다.\n",
    "추가적으로 위의 코드는 확장 문자에 대해서는 대소문자 변환을 수행하지는 않지만 특정 문화권의 문자에서는 대소문자 변환이 필요할 수도 있다.\n",
    "즉, ToLower는 알파벳과 한글만을 사용하는 문자열에서만 제대로 동작할 수 있다."
   ]
  },
  {
   "cell_type": "markdown",
   "metadata": {},
   "source": [
    "#### **1.5.3. 문자열 타입 변환**"
   ]
  },
  {
   "cell_type": "markdown",
   "metadata": {},
   "source": [
    "앞에서 문자열은 특별한 타입이 없다고 하였다.\n",
    "그렇다면 문자열은 어떻게 인자로 넘길 수 있을까?\n",
    "문자열을 인자로 받는 함수는 인자의 타입을 어떻게 정해야 하는지 생각해보자.\n",
    "보통 문자열을 큰따옴표(\" \")로 감싸서 표현한다.\n",
    "문자열은 상수로서 메모리 어딘가에 위치하고 있다.\n",
    "결국 메모리의 어딘가에 위치하는 문자열을 인자로 넘길 방법은 메모리의 주소인 포인터밖에 없다.\n",
    "즉, 문자열을 인자로 받을 경우 인자의 타입으로는 포인터가 어울린다."
   ]
  },
  {
   "cell_type": "raw",
   "metadata": {
    "vscode": {
     "languageId": "raw"
    }
   },
   "source": [
    "#include <stdio.h>\n",
    "#include <iostream>\n",
    "using namespace std;\n",
    "\n",
    "void Func(const char* str)          // (1)\n",
    "{\n",
    "    cout << \"const char*\" << endl;\n",
    "}\n",
    "\n",
    "void Func(char* str)                // (2)\n",
    "{\n",
    "    cout << \"char*\" << endl;\n",
    "}\n",
    "\n",
    "void Func(void* str)                // (3)\n",
    "{\n",
    "    cout << \"void\" << endl;\n",
    "}\n",
    "\n",
    "void Func(string str)               // (4)\n",
    "{\n",
    "    cout << \"string\" << endl;\n",
    "}\n",
    "\n",
    "void main()\n",
    "{\n",
    "    Func(\"Hello World!\");\n",
    "}"
   ]
  },
  {
   "cell_type": "markdown",
   "metadata": {
    "vscode": {
     "languageId": "raw"
    }
   },
   "source": [
    "예제의 main에서 Func를 호출한 경우 어떤 Func가 선택될까?\n",
    "정답은 바로 소스 코드 중 (1)의 Func이다.\n",
    "컴파일러는 문자열 상수에 가장 어울리는 타입으로 const char*를 선택한다.\n",
    "그렇다면 만일 (1)의 Func를 제거하고 다시 Func를 호출한다면 새롭게 선택되는 Func는 어느 것일까?\n",
    "바로 (2)의 Func이다.\n",
    "컴파일러는 문자열 상수에 대하여 const char*가 없을 경우 가장 유사한 char*를 선택한다.\n",
    "\n",
    "만일 (1), (2)의 Func를 모두 제거한 후 다시 Func를 호출하면 어떤 것이 호출될까?\n",
    "즉, 인자의 타입으로 void*와 string 중에 어떤 것을 선택하는 것이 합리적인지 따져보자는 것이다.\n",
    "어차피 문자열 상수는 주소로서 전달되므로 void*가 맞을 것 같기도 하지만, 실질적으로는 문자열이기 때문에 문자열 클래스인 string이 더 어울릴 것 같기도 하다.\n",
    "즉, 선택하기가 애매한 점이 있다."
   ]
  },
  {
   "cell_type": "markdown",
   "metadata": {},
   "source": [
    "실제로 애매해서 그런지 모르겠으나 위의 경우에는 특별한 정답이 없다.\n",
    "정답이 없다는 의미는 자기 멋대로 선택되는 것이 아니라 컴파일러에 따라서 달리진다는 것이다.\n",
    "vc++의 경우 void*가 선택되지만, GCC의 경우 string이 선택되기 때문이다.\n",
    "결국 이런 문제로 인하여 플랫폼간 호환 코드를 작성할 때는 주의를 기울여야만 한다.\n",
    "일단은 기억하자.\n",
    "문자열 상수의 타입 변환의 우선 순위를 정리하면 가장 먼저 const char*이고 그 다음이 char*이다."
   ]
  },
  {
   "cell_type": "markdown",
   "metadata": {},
   "source": [
    "### **1.6. 날짜 시간**\n",
    "---"
   ]
  },
  {
   "cell_type": "markdown",
   "metadata": {},
   "source": [
    "프로그래밍에서 많이 다루는 것 중 하나가 바로 날짜와 시간이다.\n",
    "날짜와 시간에 관련된 다양한 라이브러리가 존재하지만 가장 기본적으로 사용할 수 있는 자료구조인 struct tm에 대해서 알아볼 것이고, tm을 조작할 수 있는 함수들도 간단히 살펴볼 것이다."
   ]
  },
  {
   "cell_type": "markdown",
   "metadata": {},
   "source": [
    "#### **1.6.1. struct tm**"
   ]
  },
  {
   "cell_type": "raw",
   "metadata": {
    "vscode": {
     "languageId": "raw"
    }
   },
   "source": [
    "struct tm\n",
    "{\n",
    "    int tm_sec;     /* seconds afther the minute - [0, 59] */\n",
    "    int tm_min;     /* minutes afther the hour - [0, 59] */\n",
    "    int tm_hour;    /* hours since midnight - [0, 23] */\n",
    "    int tm_mday;    /* day of the month - [1, 31] */\n",
    "    int tm_mon;     /* months since january - [0, 11] */\n",
    "    int tm_year;    /* years since 1900 */\n",
    "    int tm_wday;    /* days since Sunday - [0, 6] */\n",
    "    int tm_yday;    /* days since january 1 - [0, 365] */\n",
    "    int tm_isdst;   /* daylight savings time flag */\n",
    "}"
   ]
  },
  {
   "cell_type": "markdown",
   "metadata": {},
   "source": [
    "struct tm은 날짜와 시간을 표현하기에 적당한 구조체이다.\n",
    "주의할 점이라고 한다면 년도를 나타내는 tm_year가 1900을 기준으로 한다는 의미이다.\n",
    "즉, tm_year가 100일 경우 서기 2000년을 의미하는 것이다.\n",
    "또한, tm_mon도 주의해야 한다.\n",
    "0부터 시작하기 때문에 tm_mon이 0일 경우 1월을 의미한다.\n",
    "그 외에 tm_isdst라는 생소한 멤버도 볼 수 있는데 이것은 일광절약시간(Daylight Saving Time)을 나타내는 플래그이다."
   ]
  },
  {
   "cell_type": "markdown",
   "metadata": {},
   "source": [
    "우리나라는 현재 일광절약시간제를 시행하지 않고 있지만 미국을 비롯한 유럽에서는 일광절약시간제를 시행하고 있다.\n",
    "즉, 국제적으로 사용되는 프로그램을 작성하기 위해서는 tm_isdst도 잘 알아두어야만 한다."
   ]
  },
  {
   "cell_type": "raw",
   "metadata": {
    "vscode": {
     "languageId": "raw"
    }
   },
   "source": [
    "#define _CRT_SECURE_NO_WARNINGS\n",
    "#include <stdio.h>\n",
    "#include <time.h>\n",
    "#include <ctime>\n",
    "\n",
    "void main()\n",
    "{\n",
    "\ttime_t ct;\n",
    "\ttime(&ct);\t\t\t\t\t\t\t// (1) ÇöÀç ½Ã°£ ÀÐ±â\n",
    "\ttm* pT = localtime(&ct);\t\t\t// (2) tm ¼³Á¤\n",
    "}\n",
    "\n",
    "// localtime: This function or variable may be unsafe\n",
    "// Consider using localtime_s instead. To disable deprecation, use _CRT_SECURE_NO_WARNINGS"
   ]
  },
  {
   "cell_type": "markdown",
   "metadata": {},
   "source": [
    "예제는 tm 구조체에 현재 날짜와 시간을 설정하는 방법을 보여준다.\n",
    "기본적으로 time_t 객체 ct와 함수 time을 통해서 현재 시간을 알아낸 뒤에, 함수 localtime을 통해서 tm 구조체에 현재 날짜와 시간을 설정할 수 있다."
   ]
  },
  {
   "cell_type": "markdown",
   "metadata": {},
   "source": [
    "참고로 time 함수는 1970년 1월 1일부터 현재까지 경과한 시간을 초 단위로 반환하는데 하루를 86,400초라고 계산해서 값을 돌려준다.\n",
    "물론 하루는 86,400초이긴 하지만 절대적인 것은 아니다.\n",
    "윤초라는 개념이 있어서 몇 년에 한 번씩 특정일에 1초씩 더하는 작업을 하기 때문이다.\n",
    "그러나 윤초 개념까지 포함하기 위해서는 time 함수가 복잡해질 뿐 아니라 윤초를 적용한 이력까지 고려해야 하므로 일반적으로 윤초를 제외한 채로 계산을 수행한다."
   ]
  },
  {
   "cell_type": "markdown",
   "metadata": {},
   "source": [
    "#### **1.6.2. mktime**"
   ]
  },
  {
   "cell_type": "markdown",
   "metadata": {},
   "source": [
    "struct tm이 날짜나 시간을 멤버로 가진다는 것 이외에는 특별한 이점이 없는 것 같다.\n",
    "그러나 tm이 mktime이라는 함수와 같이 사용될 때는 위력을 발휘하게 된다.\n",
    "가령 날짜를 계산하는 프로그램을 작성한다면 무척 골치 아플 수 있지만, tm을 mktime을 사용하면 쉽게 처리할 수 있다."
   ]
  },
  {
   "cell_type": "raw",
   "metadata": {
    "vscode": {
     "languageId": "raw"
    }
   },
   "source": [
    "#define _CRT_SECURE_NO_WARNINGS\n",
    "#include <stdio.h>\n",
    "#include <iostream>\n",
    "#include <ctime>\n",
    "#include <time.h>\n",
    "using namespace std;\n",
    "\n",
    "void main()\n",
    "{\n",
    "\ttime_t ct;\t\t\t\t\t\t\n",
    "\ttime(&ct);\t\t\t\t\t\t// (1) 현재 시간 얻기\n",
    "\ttm* pT = localtime(&ct);\t\t// (2) tm 설정\n",
    "\n",
    "\tpT->tm_mday += 50;\t\t\t\t// (3) 현재 날짜로부터 50일 뒤\n",
    "\tmktime(pT);\t\t\t\t\t\t// (4) pT 갱신\n",
    "\tcout << pT->tm_year + 1900 << \"년\" << endl;\n",
    "\tcout << pT->tm_mon + 1 << \"월\" << endl;\n",
    "\tcout << pT->tm_mday << \"일\" << endl;\n",
    "}"
   ]
  },
  {
   "cell_type": "markdown",
   "metadata": {},
   "source": [
    "예제의 (3)처럼 tm_mday에 50일을 더할 경우 pT는 50일 뒤의 날짜와 시간을 나타내게 된다.\n",
    "물론 mt의 정의에서 tm_mday는 1~31까지의 범위이기 때문에 현재가 17일일 경우 67을 나타내므로 유효하지 않은 값이 될 것이다.\n",
    "그러나 mktime을 수행할 경우 알아서 pT가 유효하게 변하게 된다.\n",
    "즉, 적절하게 유효한 날짜 시간으로 멤버 값이 갱신된다는 의미이다.\n",
    "날짜 뿐 아니라 월, 년, 시, 분, 초등을 더하거나 빼서 앞 뒤의 날짜와 시간을 정확하게 알아낼 수 있다."
   ]
  },
  {
   "cell_type": "markdown",
   "metadata": {},
   "source": [
    "### **1.7. 참조 타입**\n",
    "---"
   ]
  },
  {
   "cell_type": "markdown",
   "metadata": {},
   "source": [
    "참조 타입은 C++에 도입된 개념이다.\n",
    "참조 타입을 사용할 경우 포인터를 사용하지 않을 경우 포인터를 사용하지 않고도 같은 효과를 낼 수 있다.\n",
    "분명 마법처럼 느껴지는 일이지만, 사실 참조 타입 역시 포인터를 사용하는 것에 불과할 뿐이다.\n",
    "여기서는 참조 타입의 셀체를 확인해볼 것이다."
   ]
  },
  {
   "cell_type": "markdown",
   "metadata": {},
   "source": [
    "#### **1.7.1. 참조 타입의 실체**"
   ]
  },
  {
   "cell_type": "raw",
   "metadata": {
    "vscode": {
     "languageId": "raw"
    }
   },
   "source": [
    "#include <stdio.h>\n",
    "#include <iostream>\n",
    "#include <typeinfo>\n",
    "using namespace std;\n",
    "\n",
    "void main()\n",
    "{\n",
    "\tint a = 1;\n",
    "\tint& ra = a;\t\t\t// Reference\n",
    "\tra = 2;\n",
    "\tcout << a << endl;\n",
    "\n",
    "\tint* pa = &a;\t\t\t\t// Pointer\n",
    "\t*pa = 3;\n",
    "\tcout << a << endl;\n",
    "}"
   ]
  },
  {
   "cell_type": "markdown",
   "metadata": {},
   "source": [
    "예제를 살펴보면 참조 변수 ra나 포인터 pa를 통해서 변수 a의 값을 변경할 수 있음을 확인할 수 있다.\n",
    "C 언어에서는 오직 (2)와 같이 포인터만을 사용할 수밖에 없었다.\n",
    "그러나 C++에서는 (1)과 같이 참조 타입을 사용하여 포인터와 같은 효과를 발휘할 수 있는 것이다.\n",
    "보통 위의 코드를 이해할 때 ra가 단지 변수 a의 별칭 정도라고 이해하고 넘어가는 경우가 많다.\n",
    "즉, 컴파일러가 a와 ra를 같은 객체의 다른 이름 정도로 취급하는 것으로 착각할 수 있는 것이다.\n",
    "그러나 실제로 ra를 위하여 메모리에 공간이 마련된다.\n",
    "ra는 일종의 포인터로 동작하며 초기화할 경우 주소(&) 연산자가 생략되고, 직접 사용할 경우에는 직접(*) 연산자가 생략되는 것이다.\n",
    "즉, (1)과 (2)는 완전히 같은 방식으로 동작한다."
   ]
  },
  {
   "cell_type": "raw",
   "metadata": {
    "vscode": {
     "languageId": "raw"
    }
   },
   "source": [
    "#include <stdio.h>\n",
    "#include <iostream>\n",
    "#include <typeinfo>\n",
    "using namespace std;\n",
    "\n",
    "void main()\n",
    "{\n",
    "\tconst int& ra = 1;\t\t\t\t// (1)\n",
    "\tint* pa = (int*)&ra;\t\t\t// (2)\n",
    "\t*pa = 2;\n",
    "\tcout << ra << endl;\n",
    "}\n",
    "\n",
    "// 2"
   ]
  },
  {
   "cell_type": "markdown",
   "metadata": {
    "vscode": {
     "languageId": "raw"
    }
   },
   "source": [
    "예제는 참조 타입이 포인터로 동작하는 것을 확실하게 보여준다.\n",
    "ra를 살펴보자.\n",
    "참조 타입임에도 상수 1로 초기화된다.\n",
    "앞에 const 지정자가 있기에 가능한 일이지만, 근본적으로 상수로 초기화가 가능한 이유는 ra를 위한 메모리 공간이 확보되기 때문이다.\n",
    "\n",
    "일반적으로 참조 타입 객체가 초기화되는 과정은 포인터 영역이 마련되고, 초기화되는 변수의 주소가 포인터 영역에 써지게 된다.\n",
    "그러나 const 지정자가 있을 경우에는 포인터 영역 뿐 아니라 int 객체의 임시 영역이 마련되어 상수가 대입되고, 해당 임시 영역의 주소가 포인터 영역에 써지게 된다."
   ]
  },
  {
   "cell_type": "raw",
   "metadata": {
    "vscode": {
     "languageId": "raw"
    }
   },
   "source": [
    "#include <stdio.h>\n",
    "#include <iostream>\n",
    "#include <typeinfo>\n",
    "using namespace std;\n",
    "\n",
    "void main()\n",
    "{\n",
    "\t/*\n",
    "\tpush ebp\n",
    "\tmov ebp, esp\n",
    "\tsub esp, 10h\t\t\t\t\t// (1)\n",
    "\t*/\n",
    "\n",
    "\tint a = 1;\n",
    "\tint& ra = a;\n",
    "\t/*\n",
    "\tmov  dword ptr [ebp-0Ch], 1\t\t// (2)\n",
    "\tlea  eax, [ebp-0Ch]\n",
    "\tmov dword ptr [ebp-10h], eax\t// (3) ra\n",
    "\t*/\n",
    "\n",
    "\tconst int& rc = 2;\n",
    "\t/*\n",
    "\tmov  dword ptr [ebp-4], 2\t\t// (4) Temp\n",
    "\tlea  ecx, [ebp-4]\n",
    "\tmov  dword ptr [ebp-8], ecx\t\t// (5) rc\n",
    "\t*/\n",
    "}"
   ]
  },
  {
   "cell_type": "markdown",
   "metadata": {},
   "source": [
    "코드의 실행 환경은 32비트 x86을 기준으로 하였다."
   ]
  },
  {
   "cell_type": "markdown",
   "metadata": {},
   "source": [
    "먼저 (1)을 살펴보자.\n",
    "sub esp, 10h라는 의미는 스택에 16바이트의 영역을 확보하라는 의미이다.\n",
    "왜 16비트일까?\n",
    "지역 변수 a와 ra, rc 그리고 임시 공간인 Temp까지 총 4개의 4 바이트 영역이 필요하기 때문이다.\n",
    "이것만 봐도 참조 타입을 위한 메모리 영역이 확보된다는 것을 알 수 있다."
   ]
  },
  {
   "cell_type": "markdown",
   "metadata": {},
   "source": [
    "(2)에서 ebp-0Ch가 바로 변수 a의 위치를 나타낸다.\n",
    "그리고 (3)에서 ebp-10h에 변수 a의 주소를 기록하는 것을 볼 수 있다.\n",
    "즉, ebp-10h라는 위치가 바로 참조 변수 ra를 위한 공간임을 알 수 있다.\n",
    "(4)에서는 const 참조 타입의 동작을 확인할 수 있다.\n",
    "ebp-4는 임시로 마련된 영역이다.\n",
    "여기에 2를 대입한 뒤에 (5)에서 ebp-8이 나타내는 참조 변수 rc 영역에 임시 영역의 주소를 대입하는 것을 확인할 수 있다."
   ]
  },
  {
   "cell_type": "markdown",
   "metadata": {},
   "source": [
    "#### **1.7.2. 우측 값 참조(RValue Reference)**"
   ]
  },
  {
   "cell_type": "markdown",
   "metadata": {},
   "source": [
    "참조 타입이 결국 포인터임을 알 수 있었다.\n",
    "즉, 메모리를 차지하는 영역의 주소를 받는 것이라고 할 수 있다.\n",
    "주소를 받으면 실제 해당 메모리 영역에 접근할 수 있다.\n",
    "그런데 C++0x에는 새롭게 우측 값 참조라는 개념이 추가되었다."
   ]
  },
  {
   "cell_type": "markdown",
   "metadata": {},
   "source": [
    "우측 값(RValue)이 있으니 당연히 좌측 값(LValue)도 있을 것이다.\n",
    "먼저 개념부터 파악해보자.\n",
    "C++의 모든 식은 lvalue 또는 rvalue인데 식이 끝났을 때도 지속되는 객체를 lvalue라고 하며 유지되지 않는 임시 값을 rvalue라고 한다.\n",
    "간단하게 예를 든다면 int a = 1;이라는 식이 있을 경우 a는 lvalue이고 1은 rvalue라는 것이다.\n",
    "더 쉽게 얘기한다면 모든 변수는 lvalue이다."
   ]
  },
  {
   "cell_type": "markdown",
   "metadata": {},
   "source": [
    "기존에 참조 타입은 바로 lvalue의 참조를 의미했다.\n",
    "즉, 변수의 주소를 취하는 것이었다.\n",
    "그런데 C++0x에서 임시 값인 rvalue의 참조도 타입으로 쓸 수 있도록 추가된것이다."
   ]
  },
  {
   "cell_type": "raw",
   "metadata": {
    "vscode": {
     "languageId": "raw"
    }
   },
   "source": [
    "#include <stdio.h>\n",
    "#include <iostream>\n",
    "#include <typeinfo>\n",
    "using namespace std;\n",
    "\n",
    "int GetValue()\n",
    "{\n",
    "\tint a = 1;\n",
    "\treturn a;\n",
    "}\n",
    "\n",
    "int& getReference()\n",
    "{\n",
    "\tint a = 2;\n",
    "\treturn a;\n",
    "}\n",
    "\n",
    "void Func(int& arg)\t\t\t\t\t// (A)\n",
    "{\n",
    "\tcout << \"Lvalue\" << endl;\n",
    "}\n",
    "\n",
    "void Func(int&& arg)\t\t\t\t// (B)\n",
    "{\n",
    "\tcout << \"Rvalue\" << endl;\n",
    "}\n",
    "\n",
    "void main()\n",
    "{\n",
    "\tFunc(1);\t\t\t\t\t// (1) RValue Reference\n",
    "\n",
    "\tint a = 1;\n",
    "\tFunc(a);\t\t\t\t\t// (2) LValue Reference\n",
    "\n",
    "\tFunc(GetValue());\t\t\t// (3) Rvalue Reference\n",
    "\tFunc(getReference());\t\t// (40 LValue Reference\n",
    "}\n",
    "\n",
    "//Rvalue\n",
    "//Lvalue\n",
    "//Rvalue\n",
    "//Lvalue"
   ]
  },
  {
   "cell_type": "markdown",
   "metadata": {
    "vscode": {
     "languageId": "raw"
    }
   },
   "source": [
    "예제의 (A)에서 Func의 인자 타입이 바로 보통의 참조 타입인 좌측 값 참조이며 (B)에서 Func의 인자 타입이 바로 새롭게 추가된 우측 값 참조이다.\n",
    "우측 값 참조는 주소(&) 연산자 두 개를 붙여서 사용한다.\n",
    "(1), (3)과 같이 우측 값을 인자로 넘길 경우 인자의 타입이 우측 값 참조인 (B)의 Func가 호출된다.\n",
    "반면 (2), (4)와 같이 좌측 값이 인자로 넘어갈 경우에는 (A)의 Func가 실행된다."
   ]
  },
  {
   "cell_type": "markdown",
   "metadata": {},
   "source": [
    "우측 값 참조 역시 실제로는 포인터가 사용된다.\n",
    "메모리사용의 임시 영역이 마련되어 그곳에 값이 복사된 뒤에 임시 영역의 주소가 넘어간다.\n",
    "왜 갑자기 우측 값 참조라는 개념이 도입되었는지 무척 궁금하다.\n",
    "가장 큰 목적은 임시 값인 우측 값에서 필요한 것은 재활용하여 효율을 높이겠다는 것이다.\n",
    "우측 값 참조는 주로 클래스의 복사 생성자와 복사 대입 연산자에 사용되어서 메모리 사용 효율을 높이는데 사용된다.\n",
    "일단은 우측 값 참조라는 것이 추가되었다는 사실만 알아두고 이후 [클래스] 장에서 다시 한 번 우측 값 참조에 대해서 알아볼 것이다."
   ]
  },
  {
   "cell_type": "markdown",
   "metadata": {},
   "source": []
  }
 ],
 "metadata": {
  "kernelspec": {
   "display_name": "venv",
   "language": "python",
   "name": "python3"
  },
  "language_info": {
   "codemirror_mode": {
    "name": "ipython",
    "version": 3
   },
   "file_extension": ".py",
   "mimetype": "text/x-python",
   "name": "python",
   "nbconvert_exporter": "python",
   "pygments_lexer": "ipython3",
   "version": "3.9.21"
  }
 },
 "nbformat": 4,
 "nbformat_minor": 2
}
