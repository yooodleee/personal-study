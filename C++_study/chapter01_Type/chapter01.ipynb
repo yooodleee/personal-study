{
 "cells": [
  {
   "cell_type": "markdown",
   "metadata": {},
   "source": [
    "## **Chapter01 타입(Type)**"
   ]
  },
  {
   "cell_type": "markdown",
   "metadata": {},
   "source": [
    "### **1.1. 디지털화**\n",
    "---"
   ]
  },
  {
   "cell_type": "markdown",
   "metadata": {},
   "source": [
    "컴퓨터(디지털 기기)가 개발되면서 많은 정보를 컴퓨터로 처리하기 시작했다.\n",
    "컴퓨터는 오직 0과 1만을 구분할 수 있다.\n",
    "컴퓨터가 처리하는 최소 단위인 비트(bit)는 0과 1 두 가지 상태를 나타낼 수 있기 때문에 N 비트는 2의 N승 개수만큼 나타낼 수 있다.\n",
    "즉, 1바이트(8비트)는 2의 8승인 256가지의 상태를 나타낼 수 있다."
   ]
  },
  {
   "cell_type": "markdown",
   "metadata": {},
   "source": [
    "디지털화란 처리하고자 하는 사물과 정보를 컴퓨터가 인식할 수 있는 비트 집합으로 대응시키는 것을 의미한다.\n",
    "컴퓨터는 비트 집합을 입력으로 받아들여 처리한 후 새로운 비트 집합을 출력하게 된다. \n",
    "출력으로 나온 비트 집합은 역으로 사물이나 정보로 환원되게 된다."
   ]
  },
  {
   "cell_type": "markdown",
   "metadata": {},
   "source": [
    "가령 계산을 한다고 가정해보자.\n",
    "계산기를 비롯한 컴퓨터가 개발되기 이전의 시대에는 종이와 연필 혹은 주판을 이용하여 계산을 했지만 지금은 교육을 위한 용도를 제외하고는 모두 계산기나 컴퓨터로 계산을 한다."
   ]
  },
  {
   "cell_type": "markdown",
   "metadata": {},
   "source": [
    "예컨대 5 + 7이라는 계산을 수행한다고 가정해보자.\n",
    "이 식을 정보로 표현하면 (5, 7, +) 세 가지의 요소로 표현할 수 있다.\n",
    "그러나 컴퓨터는 각각의 요소들이 무엇인지 알지 못한다.\n",
    "컴퓨터는 오직 비트로 표현되는 상태들만 처리할 수 있기 때문이다.\n",
    "따라서 (5, 7, +) 각각의 요소를 컴퓨터가 이해할 수 있는 비트 상태(Bit state)로 변경해주어야만 한다.\n",
    "미리 정해진 약속에 의해서 5는 101, 7은 111로 변환된다.\n",
    "더하기인 + 또한 0과 1로 이루어진 약속된 조합으로 변경된다.\n",
    "즉, (5, 7, +) 세 요소가 모두 0과 1로 표현될 수 있는 비트 상태로 변환된다.\n",
    "세 요소인 비트 상태는 컴퓨터에 입력되어 이미 구현된 전자회로에 의해서 새로운 비트 상태인 1100을 도출해낸다.\n",
    "1100이란 비트 상태는 인간이 이해할 수 있는 개념인 숫자로서 12를 나타낸다."
   ]
  },
  {
   "cell_type": "markdown",
   "metadata": {},
   "source": [
    "#### **1.1.1. 디지털 대상**"
   ]
  },
  {
   "cell_type": "markdown",
   "metadata": {},
   "source": [
    "컴퓨터는 비트 상태를 처리할 수 있기 때문에 비트 상태로 표현할 수 있는 모든 대상이 컴퓨터로 처리될 수 있다.\n",
    "결국 컴퓨터에게 일을 시키기 위해서는 가장 먼저 처리할 대상을 컴퓨터가 이해할 수 있는 비트 상태로 표현하는 것부터 시작해야 한다.\n",
    "이 세상의 모든 대상이 비트 상태로 표현될 수 있는 것은 아니다.\n",
    "비트 상태로 표현하기 위해서는 처리할 대상을 각각의 명확한 상태로 구분할 수 있어야만 하기 때문이다.\n",
    "수라는 개념은 비트 상태로 나타내기에 알맞은 것 같다.\n",
    "1, 2, 3... 이라는 값 자체를 각각의 상태에 대응시키면 그만이기 때문이다.\n",
    "그러나 모든 수를 비트 상태로 표현할 수 있는 것은 아니다.\n",
    "가령 1/3이라는 무한 소수의 경우 비트 상태로 완벽하게 표현할 수가 없다.\n",
    "대신 극히 적은 오차를 가지고 비슷한 값을 표현할 뿐이다.\n",
    "오차를 가지고 비슷하게 표현할 수조차 없는 경우도 있다. 아주 작거나 너무 큰 수의 경우 비트 상태가 표현할 수 있는 범위를 넘어서기 때문이다.\n",
    "아주 작거나 너무 큰 수의 경우 비트 상태가 표현할 수 있는 범위를 넘어서기 때문이다.\n",
    "결국 수의 경우 비트 상태를 통해서 대응될 수 있는 수만 디지털화될 수 있다."
   ]
  },
  {
   "cell_type": "markdown",
   "metadata": {},
   "source": [
    "수와 더불어서 문자도 디지털화할 수 있다.\n",
    "많은 우여곡절이 있었지만 전세계 문자와 기호들에 각각의 번호(상태)를 부여하여 완벽하게 디지털화할 수 있게 되었다.\n",
    "시청각 정보 또한 디지털 대상이 된다.\n",
    "시각 정보의 경우 최소의 요소인 색 정보를 비트 상태로 나눌 수 있다.\n",
    "빛의 3원색인 RGB를 각각 256 단계로 나누면 3바이트만으로 모든 색을 대응시킬 수 있기 때문이다.\n",
    "색 정보를 표현할 수 있으므로 그림, 사진, 동영상은 쉽게 디지털로 표현될 수 있다.\n",
    "그림이나 사진, 동영상은 결국 픽셀(Pixel)이란 점으로 구성되고 각각이 색을 가지고 있기 때문이다.\n",
    "즉, 색을 가진 픽셀 정보를 적절히 잘 구성하면 시각 정보를 모두 컴퓨터로 처리할 수 있다."
   ]
  },
  {
   "cell_type": "markdown",
   "metadata": {},
   "source": [
    "청각 정보인 소리는 시각 정보보다 디지털화하기가 좀 더 복잡하다.\n",
    "소리의 근원은 공기의 떨림인데 이 떨림은 주파수, 진폭, 음색으로 표현될 수 있고, 이런 것들을 각각 비트 상태로 대응시켜줘야 하기 때문이다.\n",
    "수많은 방식이 개발되어 있고, 앞으로도 더 정확한 소리를 표현하기 위한 디지털 대응 방식이 개발될 것이다.\n",
    "\n",
    "시청각 정보는 디지털화될 수 있기 때문에 종합 정보인 영화가 컴퓨터에 파일로 저장되거나 네트워크를 통해서 스트림으로 전송될 수 있는 것이다.\n",
    "물론 처리된 디지털 정보는 다시 시청각 정보로 환원되게 되며 그 역할을 맡고 있는 대표적인 기기나 모니터와 스피커가 된다.\n",
    "\n",
    "최근에는 후각 정보까지 디지털화하려는 시도도 이어지고 있다."
   ]
  },
  {
   "cell_type": "markdown",
   "metadata": {},
   "source": [
    "이 세상 모든 것을 디지털화하려는 시도가 이루어지고 있으나 쉬운 것만은 아니다.\n",
    "명확하게 나눌 수 없는 것은 디지털화하는 것이 불가능하기 때문이다.\n",
    "과연 사람의 마음 상태를 디지털화할 수 있을까?"
   ]
  },
  {
   "cell_type": "markdown",
   "metadata": {},
   "source": [
    "#### **1.1.2. 프로그래밍 대상**"
   ]
  },
  {
   "cell_type": "markdown",
   "metadata": {},
   "source": [
    "C/C++를 비롯한 프로그래밍에서는 비트 상태로 표현될 수 있는 것 중에서도 매우 제한적인 대상을 주로 처리한다.\n",
    "대표적으로 문자와 숫자이다.\n",
    "물론 색상이나 소리도 처리하기는 하지만 숫자와 문자에 대한 처리가 양적으로 압도적으로 많다고 할 수 있다.\n",
    "숫자와 문자를 처리하기 위해서는 각각의 숫자와 문자가 비트 상태로 대응되는 규칙이 필요하다.\n",
    "대응되는 규칙을 마련하기 위해서는 신경 써야만 할 것들이 많이 있다.\n",
    "일단 정확히 어떤 대상을 나타낼지를 정해야 한다.\n",
    "가령 숫자 중에서도 정수나 부동소수점, 양수와 음수 그리고 범위 등을 지정해야만 한다.\n",
    "대상이 명확하게 정해지면 각각의 상태를 표현하기 위해 몇 비트가 필요한지 결정하고, 각각의 대상이 나타내는 의미를 비트 상태에 어떻게 대응시킬지도 결정해야만 한다.\n",
    "그뿐 아니라 비트 상태로 표현된 대상이 어떤 식으로 처리되는지도 명확하게 기술해야만 한다."
   ]
  },
  {
   "cell_type": "markdown",
   "metadata": {},
   "source": [
    "이런 종합적인 규칙과 처리 방식 등을 바로 타입(Type)이라고 한다.\n",
    "프로그래밍 언어에서 특히 C/C++의 경우 기본적인 타입들을 제공하여 숫자와 문자를 쉽게 처리할 수 있도록 하고 있다.\n",
    "숫자를 다루기 위한 타입은 int, short, long, __int64, float, double 등 다양하게 있다.\n",
    "문자를 위해서는 char와 whcar_t 타입 등을 제공한다.\n",
    "기본적인 타입을 응용하여 새로운 타입을 만들어낼 수도 있다.\n",
    "가령 문자열의 경우 문자들의 모임이기 때문에 문자들을 담을 수 있는 문자열 전용 파생 타입을 제공하기도 한다."
   ]
  },
  {
   "cell_type": "markdown",
   "metadata": {},
   "source": [
    "이번 장은 프로그래밍에서 다루는 타입에 대해서 자세히 알아보도록 하겠다.\n",
    "특히 C/C++에서 자주 다루는 타입을 중심으로 설명할 것이다.\n",
    "타입은 쉽게 넘어갈 수 있을 정도로 특별히 어려운 내용이 없을 수도 있지만 결국 컴퓨터가 처리하는 원천 데이터는 모두 타입을 가지고 있으므로 타입에 대해서 정확히 이해한다면 높은 수준의 프로그래밍을 하는데 도움이 될 것이다."
   ]
  },
  {
   "cell_type": "markdown",
   "metadata": {},
   "source": [
    "### **1.2. 정수 타입**\n",
    "---"
   ]
  },
  {
   "cell_type": "markdown",
   "metadata": {},
   "source": [
    "초기 인간은 자연수를 다루었고, 0을 도입함과 동시에 음수를 다루면서 수의 범위를 정수까지 넓히게 되었다.\n",
    "이처럼 가장 기본이 되는 자연수나 정수를 위해서 C/C++는 적당한 타입을 제공하고 있다.\n",
    "정수형은 크게 두 가지로 나눌 수 있는데 0을 포함한 자연수와 등ㅁ수까지 표현되는 정수로 나눌 수 있다."
   ]
  },
  {
   "cell_type": "markdown",
   "metadata": {},
   "source": [
    "#### **1.2.1. 부호 없는 정수(unsigned type)**"
   ]
  },
  {
   "cell_type": "markdown",
   "metadata": {},
   "source": [
    "0, 1, 2, 3, ...과 같이 0을 포함한 자연수를 부호 없는 정수(unsigned type)라고 한다.\n",
    "부호가 필요하지 않기 때문에 unsigned로 표시된다.\n",
    "부호 없는 정수의 타입으로는 unsigned sort/int/long/__int64 등이 있는데 숫자와 비트 상태가 대응되는 규칙은 모든 타입이 일정하지만 각 타입이 표현할 수 있는 최대 숫자의 크기는 다르다.\n",
    "여기서는 숫자와 비트 상태가 대응되는 규칙을 설명하기 위해 간단하게 4 비트만을 사용할 것이다.\n",
    "4 비트는 2의 4승으로 16가지 상태를 나타낼 수 있으며 숫자를 대응시킨다면 0 ~ 15까지의 수를 대응시킬 수 있다."
   ]
  },
  {
   "cell_type": "markdown",
   "metadata": {},
   "source": [
    "중요한 것은 모든 비트가 0인 상태는 0과 대응된다는 사실이다.\n",
    "2진법의 표현을 그대로 따르면서 숫자와 비트 상태가 일대일로 대응하게 되어 있다.\n",
    "\n",
    "타입에 따라서 크기는 달라진다.\n",
    "unsigned short의 경우 2 바이트(16비트), unsigned int의 경우 4 바이트(32비트), unsigned __int64의 경우 8 바이트(64비트)를 사용해서 숫자를 대응시킨다.\n",
    "당연히 많은 비트를 사용할 경우 더 많은 숫자를 대응시킬 수 있다."
   ]
  },
  {
   "cell_type": "markdown",
   "metadata": {},
   "source": [
    "#### **1.2.2. 부호 있는 정수(signed type)**"
   ]
  },
  {
   "cell_type": "markdown",
   "metadata": {},
   "source": [
    "가량 -3을 2진법으로 표현한다면 -11로 나타내면 그만이지만 컴퓨터에게 음수를 표현하려면 까다로운 면이 있다.\n",
    "-11처럼 앞에 '-'(minus)와 같은 부호를 따로 표현해야만 하기 때문이다.\n",
    "그래서 부호(+, -)를 나타내기 위하여 1 비트를 사용하기로 하였다.\n",
    "이것을 부호 비트라고 한다.\n",
    "가장 큰 문제가 있었는데 부호 비트와 숫자 비트를 어떻게 조화시키느냐가 관건이었다.\n",
    "처음에는 가장 왼쪽 끝의 비트를 부호 비트로 사용하기로 하였다."
   ]
  },
  {
   "cell_type": "markdown",
   "metadata": {},
   "source": [
    "가장 왼쪽 비트를 부호 비트로 사용할 경우 -7 ~ 7 까지를 대응할 수 있었다.\n",
    "괜찮은 방식 같아 보이지만 단점도 있었다.\n",
    "바로 0이 (+0, -0)과 같이 두 가지 상태와 대응된다는 것이었다(물론 이것을 큰 장점이라고 지지하는 학자도 있긴 하다).\n",
    "더 큰 단점도 있는데 바로 누산기(Accumulate)를 설계하기가 어렵다는 것이었다.\n",
    "누산기란 덧셈, 뺄셈과 같은 사칙연산을 처리하는 가산회로와 레지스터로 이루어진 CPU의 부분인데 음수를 대상으로 더하기를 처리하기 위해서는 상당히 복잡한 논리회로를 구현해야만 했다.\n",
    "가령 4 + (-3)을 처리할 경우 (0100,1011)을 입력 받아서 0001을 도출해내는 논리회로를 작성해야만 하는 것이다(막상 실제 논리회를 설계한다고 하면은 머리가 아파진다...)\n",
    "\n",
    "이와 같은 단점으로 인하여 맨 왼쪽 비트를 단순히 부호 비트로 사용하는 대응법은 채택될 수 없었고 대신 새로운 방식이 도입되었는데 그것이 바로 2의 보수법(2's complement)이다."
   ]
  },
  {
   "cell_type": "markdown",
   "metadata": {},
   "source": [
    "#### **1.2.3. 2의 보수법(2's complement)**"
   ]
  },
  {
   "cell_type": "markdown",
   "metadata": {},
   "source": [
    "'2의 보수'란 말에서 '1의 보수'도 있을 것이라고 생각할 수 있는데 당연히 1의 보수도 있다.\n",
    "먼저 1의 보수라는 것은 어떤 2진수에서 각 비트를 반전시킨 것을 나타낸다.\n",
    "즉, 4비트로 표현되는 3이라는 숫자는 0011이 되는데 이것의 1의 보수는 1100이 된다.\n",
    "\n",
    "그렇다면 2의 보수란 무엇인가?\n",
    "바로 1의 보수에 1을 더한 것을 의미한다. \n",
    "따라서 3이란 숫자의 2의 보수는 0011 => 1100 + 1이 된다.\n",
    "여기서 2의 보수를 어디다 써먹는 것인지 잘 이해가 되지 않을 수도 있는데 2의 보수를 부호가 반대인 수로 사용한다는 것이 핵심이다.\n",
    "즉, 3의 2의 보수인 1101을 -3으로 대응시키는 것이 2의 보수법인 것이다.\n",
    "당연히 반대도 성립한다.\n",
    "1101이 - 3이므로 -3의 2의 보수는 1101 => 0010 + 1 => 0011이 되어서 부호가 반대인 3이 된다."
   ]
  },
  {
   "cell_type": "markdown",
   "metadata": {},
   "source": [
    "\"2의 보수는 각 비트를 반전시킨 후에 1을 더한 것이다\""
   ]
  },
  {
   "cell_type": "markdown",
   "metadata": {},
   "source": [
    "4 비트로 표현되는 2진수는 0000에서 시작하여 1111로 진행한 뒤에 다시 0000으로 돌아가게 된다.\n",
    "2의 보수법은 0000을 0으로 대응시키고, 순서대로 다음 숫자인 0001을 1로 대응시킨다.\n",
    "반대로 0000의 이전 숫자인 1111은 -1로 대응시키는 방식이다.\n",
    "따라서 2의 보수법으로 표현된 대응표를 살펴보게 되면 0과 -1이 가장 중심에 위치하게 됨을 알 수 있다.\n",
    "따라서 4비트로 표현되는 2의 보수법은 -8 ~ 7까지를 나타낼 수 있는 것이다.\n",
    "또한 음수의 경우 가장 왼쪽 비트 1이 되므로 자연스럽게 부호 비트 역할을 하게 된다."
   ]
  },
  {
   "cell_type": "markdown",
   "metadata": {},
   "source": [
    "2의 보수법 대응을 이해한다면 앞에서 질문한 것을 쉽게 대답할 수 있을 것이다.\n",
    "가장 적은 수를 2진수로 표현하는 방법은 맨 왼쪽 비트가 1이고 나머지는 모두 0인 것이고, -1을 표현하는 방법은 모든 비트가 1이기만 하면 된다.\n",
    "\n",
    "그렇다면 2의 보수법의 장점은 무엇일까?\n",
    "당연히 0이 하나만 나타나는 것도 있을 수 있지만 가장 큰 장점은 누산기 설계가 상당히 쉬워진다.\n",
    "이전 방식은 양수와 음수의 덧셈의 경우 복잡한 논리회로를 필요로 했지만 2의 보수법을 사용할 경우 양수 음수에 상관없이 간단한 덧셈 회로만으로도 처리할 수 있기 때문이다."
   ]
  },
  {
   "cell_type": "markdown",
   "metadata": {},
   "source": [
    "4 + (-3)을 2의 보수법으로 계산하면 단순히 덧셈 회로에 의해서 0100 + 1101 = (1)0001이 될 것이고, 왼쪽의 넘치는 비트를 버린다면 0001이 되어서 1이 나오게 된다.\n",
    "이와 같은 이유로 2의 보수법은 부호 있는 정수를 비트 상태로 대응시키는 표준 방식이 되었으며 이것은 모든 프로그래밍 언어의 부호 있는 정수 타입 표현 방식으로 사용되기에 이른 것이다."
   ]
  },
  {
   "cell_type": "markdown",
   "metadata": {},
   "source": [
    "#### **1.2.4. 타입별 최솟값, 최댓값**"
   ]
  },
  {
   "cell_type": "markdown",
   "metadata": {},
   "source": [
    "이제 부호 없는 정수와 부호 있는 정수의 비트 상태 대응 방식을 이용해서 각 타입의 최댓값과 최솟값을 구하는 것을 살펴보자."
   ]
  },
  {
   "cell_type": "raw",
   "metadata": {
    "vscode": {
     "languageId": "raw"
    }
   },
   "source": [
    "#include <iostream>\n",
    "using namepsace std;\n",
    "\n",
    "void main()\n",
    "{\n",
    "    int i = 1;\n",
    "    i = (i << 31);\n",
    "    cout << i << endl;  // (1) signed int 최솟값\n",
    "\n",
    "    i = ~i;\n",
    "    cout << i << endl;  // (2) signed int 최댓값\n",
    "\n",
    "    unsigned ui = 0;\n",
    "    cout << ui << endl; // (3) unsigned int 최솟값\n",
    "\n",
    "    ui = -1;\n",
    "    cout << ui << endl; // (4) unsigned int 최댓값\n",
    "\n",
    "}"
   ]
  },
  {
   "cell_type": "markdown",
   "metadata": {},
   "source": [
    "프로그래밍을 할 경우 비교의 기준 값으로 최솟값이나 최댓값을 설정하는 경우가 많이 있다.\n",
    "물론 각 타입별로 최솟값과 최댓값을 나타내는 매크로 상수가 있긴 하지만 컴파일러 의존성이 있으므로 코드 호환성에 약간의 문제가 있을 수 있다. 이럴 경우는 직접 타입별로 최솟값, 최댓값을 설정할 수 있어야 한다."
   ]
  },
  {
   "cell_type": "markdown",
   "metadata": {},
   "source": [
    "먼저, 부호 있는 정수의 최소, 최댓값을 설정해보자.\n",
    "4 바이트의 int 타입의 경우 최솟값은 맨 왼쪽 부호 비트만 1로 설정하면 된다.\n",
    "따라서 1을 설정한 뒤에 비트 이동 연산자를 이용하여 31자리 왼쪽으로 이동시키면 구할 수 있다.\n",
    "\n",
    "최댓값은 최솟값을 비트 반전만 하면 되므로 비트 반전 연산자(~)를 이용하여 구할 수 있다.\n",
    "부호 없는 정수의 최소, 최댓값은 무척 간단하다.\n",
    "부호가 없기 때문에 최솟값은 단지 0일 뿐이고, 최댓값은 모든 비트가 1로 채워진 것이기 때문에 -1만 대입해주면 된다."
   ]
  },
  {
   "cell_type": "markdown",
   "metadata": {},
   "source": [
    "#### **1.2.5. 비트 이동 연산자(Shift Operator)**"
   ]
  },
  {
   "cell_type": "markdown",
   "metadata": {},
   "source": [
    "비트 이동 연산자는 비트 상태를 변화시킬 수 있는 연산자이다.\n",
    "C/C++에서는 <<, >>라는 연산자를 통해 원하는 만큼 비트들을 이동시킬 수 있다.\n",
    "간단한 개념이긴 하지만 주의해야 할 점이 몇 가지 있다."
   ]
  },
  {
   "cell_type": "raw",
   "metadata": {
    "vscode": {
     "languageId": "raw"
    }
   },
   "source": [
    "#include <iostream>\n",
    "using namespace std;\n",
    "\n",
    "void main()\n",
    "{\n",
    "    char c = 1;\n",
    "\n",
    "    c = c << 7; // (1)\n",
    "    cout << (int)c << endl;\n",
    "\n",
    "    c = c >> 7; // (2)\n",
    "    cout << (int)c << endl;\n",
    "\n",
    "}"
   ]
  },
  {
   "cell_type": "markdown",
   "metadata": {
    "vscode": {
     "languageId": "raw"
    }
   },
   "source": [
    "먼저 char라는 타입부터 살펴보자.\n",
    "char는 문자를 나타내는 타입이다.\n",
    "그러나 문자뿐 아니라 숫자도 나타내는데, 바로 1 바이트 크기의 부호 있는 정수를 나타내는 타입이기도 하다.\n",
    "즉, -128 ~ 127까지의 256개의 정수를 표현할 수 있다.\n",
    "\n",
    "먼저 char 타입 변수 c에 1을 대입한다.\n",
    "2진수로 표현한다면 [0000,0001]이 될 것이다.\n",
    "소스코드 (1)에서는 7만큼 왼쪽으로 비트 이동을 시킨다.\n",
    "따라서 c는 이제 [1000,0000]이 될 것이다.\n",
    "부호 있는 정수이기 때문에 이 값을 출력하면 -128이 나오게 된다.\n",
    "\n",
    "이제 소스 코드 (2)를 살펴보자.\n",
    "현재 c는 -128 즉, [1000,0000] 상태이다.\n",
    "여기서 7만큼 오른쪽으로 비트 이동을 시킬 경우 비트 상태는 어떻게 될까?\n",
    "다시 처음처럼 [0000,0001]이 될 것이라고 예상할 수도 있지만 사실 그렇지 않다.\n",
    "정답은 [1111,1111]이 된다.\n",
    "숫자로 출력하면 -1이 될 것이다."
   ]
  },
  {
   "cell_type": "markdown",
   "metadata": {},
   "source": [
    "왜 이런 현상이 발생하는 것일까?\n",
    "바로 비트 이동 연산자의 부호 유지 정책 때문이다.\n",
    "비트 이동 연산자는 왼쪽으로 한 번 이동할 경우 원래 값에 2를 곱하고 오른쪽으로 한 번 이동할 경우 2로 나눈다.\n",
    "-128을 7번 오른쪽으로 비트 이동시킨다고 해서 그 값이 1이 된다면 부호가 유지되지 않을 것이다.\n",
    "따라서 부호를 유지하기 위하여 왼쪽 이동과 오른쪽 이동의 경우 다른 규칙이 적용된다."
   ]
  },
  {
   "cell_type": "markdown",
   "metadata": {},
   "source": [
    "* (1) << N: 비트 상태를 N만큼 왼쪽으로 이동시킨다. 가장 왼쪽의 넘치는 N개의 비트들은 버리고, 오른쪽에 새로 생기는 N개의 비트들은 모두 0으로 채운다.\n",
    "* (2) >> N: 비트 상태를 N만큼 오른쪽으로 이동시킨다. 가장 오른쪽의 넘치는 N개의 비트들은 버리고 왼쪽에 새로 생기는 N개의 비트들은 부호 비트가 존재할 경우 부호 비트로 채우고, 부호 비트가 존재하지 않을 경우 0으로 채운다."
   ]
  },
  {
   "cell_type": "markdown",
   "metadata": {},
   "source": [
    "왼쪽 비트 이동은 이해하기가 쉽지만 오른쪽 비트 이동은 다소 복잡할 수 있다.\n",
    "하지만 어려울 것은 없다.\n",
    "오른쪽 이동으로 인해서 왼쪽에 새로 생기는 N개의 비트들에 한해서 부호 비트가 존재하는 타입(즉, 부호 있는 정수)이라면 해당 부호 비트에 채워진 값(0 or 1)을 그대로 채우라는 것이고 부호 비트가 없는 타입(즉, 부호 없는 정수)이라면 0으로 채우라는 것이다."
   ]
  },
  {
   "cell_type": "raw",
   "metadata": {
    "vscode": {
     "languageId": "raw"
    }
   },
   "source": [
    "#include <iostream>\n",
    "using namespace std;\n",
    "\n",
    "void main()\n",
    "{\n",
    "    ////////////////////////\n",
    "    char c;         // signed type\n",
    "    c = 0x02;       // [0000,0010]      2\n",
    "    c = c >> 1;     // [000000,0001]    1\n",
    "    cout << (int)c << endl;\n",
    "\n",
    "    c = 0x82;       // [1000,0010]      -126\n",
    "    c = c >> 1;     // [1100,0001]      -63\n",
    "    cout << (int)c << endl;\n",
    "\n",
    "    ////////////////////////\n",
    "    unsigned char uc;       // unsigned type\n",
    "    uc = 0x02;      // [0000,0010]      2\n",
    "    uc = uc >> 1;   // [0000,0001]      1\n",
    "    cout << (int)uc << endl;\n",
    "\n",
    "    uc = 0x82;      // [1000,0010]      130\n",
    "    uc = uc >> 1;   // [0100,0001]      65\n",
    "    cout << (int)uc << endl;\n",
    "\n",
    "}"
   ]
  },
  {
   "cell_type": "markdown",
   "metadata": {},
   "source": [
    "위의 예제는 오른쪽 비트 이동 연산자(>>)에 대한 여러 가지 정보를 보여준다.\n",
    "각각 부호 있는 정수와 부호 없는 정수로 나누었고 각각에 대해서 다시 맨 왼쪽의 비트가 0과 1인 경우로 나누었다.\n",
    "즉, 4 가지 경우에 대하여 오른쪽으로 1만큼 비트 이동을 시키는 것이다.\n",
    "옆의 주석에는 처음 비트 상태를 보여주며, 1만큼 오른쪽 비트 이동을 한 후의 비트 상태도 보여준다.\n",
    "각각의 경우를 자세히 살펴보면 알 수 있듯이, 부호가 있는 char의 경우 부호 비트에 들어있는 값(0 혹은 1)이 그대로 가장 왼쪽에 채워지고, 부호가 없는 unsigned char의 경우 가장 왼쪽에는 무조건 0이 채워짐을 확인할 수 있다."
   ]
  },
  {
   "cell_type": "markdown",
   "metadata": {},
   "source": [
    "비트 이동 연산에서 주의해야 할 점은 오른쪽 비트 이동일 경우 부호가 있고 없고의 차이에 따라서 동작이 달라진다는 것이다.\n",
    "참고로 비트 이동 연산은 정수 타입에 대해서만 유효하다.\n",
    "무슨 의미인가 하면 정수가 아닌 부동소수점을 나타내는 타입인 float, double 객체에는 비트 이동 연산을 사용할 수 없다는 것이다.\n",
    "만일 비트 이동 연산을 사용할 경우 컴파일 에러가 발생하게 된다.\n",
    "\n",
    "추가적으로 자바(Java)의 경우 오른쪽 비트 연산자로 >>>를 지원한다.\n",
    "이것은 오른쪽으로 비트 이동을 한 후에 왼쪽에 새로 생기는 비트에 대해서 무조건 0을 채우는 것이다.\n",
    ">>> 연산자는 C/C++에서는 아직 지원하지 않는다."
   ]
  },
  {
   "cell_type": "markdown",
   "metadata": {},
   "source": [
    "#### **1.2.6. 컴파일러 상수 한계**"
   ]
  },
  {
   "cell_type": "raw",
   "metadata": {
    "vscode": {
     "languageId": "raw"
    }
   },
   "source": [
    "#include <iostream>\n",
    "using namespace std;\n",
    "\n",
    "void main()\n",
    "{\n",
    "\tint max1 = 18446744073709551615;\t// 상수 최댓값\n",
    "\tint max2 = 18446744073709551616;\t// Compole Error\n",
    "\tint min1 = -18446744073709551615;\t// 상수 최솟값\n",
    "\tint min2 = -18446744073709551616;\t// Compile Error\n",
    "}"
   ]
  },
  {
   "cell_type": "markdown",
   "metadata": {},
   "source": [
    "예제 코드를 살펴보자.\n",
    "굉장히 큰 수와 작은 수를 대입하는 것을 볼 수 있다.\n",
    "컴파일러는 소스 코드에 쓰여진 상수를 분석해서 실제 int 객체 max1과 min1에 들어갈 비트 상태를 결정해서 어셈블리 코드로 작성한다.\n",
    "그러나 컴파일러가 어떤 숫자라도 분석할 수 있는 것은 아니다.\n",
    "상수에는 한계가 있기 때문이다.\n",
    "예제에서 사용된 숫자가 바로 현재 컴파일러가 분석할 수 있는 정수형의 최소, 최댓값을 나타낸다."
   ]
  },
  {
   "cell_type": "markdown",
   "metadata": {},
   "source": [
    "어떻게 저런 상수가 도출된 것일까?\n",
    "8 바이트 부호 없는 정수형인 unsigned __int64 혹은 unsigned long long 타입의 최댓값이 바로 18446744073709551615이기 때문이다.\n",
    "반대로 최솟값은 단순히 최댓값에 -1을 곱한 값이 된다.\n",
    "만일 상수 한계를 넘어가는 숫자를 상수로서 사용하게 될 경우 컴파일 에러가 발생하게 된다.\n",
    "(참고로 __int64는 VC++에서는 8 바이트 부호 있는 정수 타입인데, long long 타입과 일치한다)"
   ]
  },
  {
   "cell_type": "markdown",
   "metadata": {},
   "source": [
    "#### **1.2.7. 데이터 모델**"
   ]
  },
  {
   "cell_type": "markdown",
   "metadata": {},
   "source": [
    "타입은 정보를 비트 상태로 대응시키는 법과 더불어서 크기 또한 나타낸다.\n",
    "char는 1 바이트이고, short는 2 바이트를 차지하듯이 타입은 각각 정의된 크기를 가지게 된다.\n",
    "그런데 타입에 따른 크기가 항상 일정하지만은 않다는 데 문제가 있다.\n",
    "타입에 따른 크기는 플랫폼에 종속적이기 때문이다.\n",
    "즉, 어떤 타입의 경우 윈도우에서는 4 바이트이지만 리눅스의 경우에는 8 바이트가 되기도 한다.\n",
    "이런 차이가 나는 이유는 각 플랫폼 별로 데이터 모델이 다르기 때문이다.\n",
    "데이터 모델이란 각 타입에 따른 크기가 어떻게 결정되는지를 나타내는 것이다."
   ]
  },
  {
   "cell_type": "markdown",
   "metadata": {},
   "source": [
    "데이터 모델의 이름에서 바로 타입의 크기를 알 수 있는데, ILP32의 경우 int, long, pointer가 32비트라는 것이고, LP64의 경우 long, pointer가 64비트, LLP64는 long long, pointer가 64비트라는 의미이다.\n",
    "어떤 데이터 모델이든지 char, short, long long은 그 크기가 (8, 16, 64)로 일정하다.\n",
    "모델에 따라서 달라지는 것은 int, long, pointer이므로 해당 타입을 사용하는 코드를 작성할 경우에는 이종 플랫폼 간 호환성을 위하여 주의를 기울여야만 한다."
   ]
  },
  {
   "cell_type": "markdown",
   "metadata": {},
   "source": [
    "x86 32비트 시스템에서는 윈도우, 리눅스 모두 ILP32 모델을 사용하였다.\n",
    "따라서 서로 호환하는데 큰 문제가 없었다.\n",
    "그러나 x64 64비트 시스템에 이르러서는 차이가 발생하게 되었다.\n",
    "윈도우의 경우 LLP64를 채택하였고, 리눅스는 LP64를 채택하였기 때문이다.\n",
    "따라서 x64 프로그래밍을 위해서는 두 플랫폼의 차이를 잘 이해해야만 한다."
   ]
  },
  {
   "cell_type": "markdown",
   "metadata": {},
   "source": [
    "LLP64와 LP64이 가장 큰 차이점은 바로 long 타입의 크기이다.\n",
    "LLP64에서는 여전히 32비트이지만, LP64에서는 64비트이기 때문이다.\n",
    "따라서 호환성 있는 프로그래밍을 위해서는 가능하면 long 타입은 사용하지 않는 것이 좋을 것 같다.\n",
    "\n",
    "참고로 int 타입의 크기는 플랫폼의 기본 데이터 크기를 따른다고 잘못 알고 있는 사람들이 있다.\n",
    "즉, x64와 같은 64비트 시스템에서는 int의 크기도 64비트가 된다고 믿는 것이다.\n",
    "물론 ILP64 모델을 따르는 시스템이라면 맞을 수도 있겠지만, 전혀 그렇지 않다는 사실을 반드시 기억해야만 한다.\n",
    "즉, int 크기는 x64 시스템의 윈도우, 리눅스에서 여전히 4바이트이며, 8바이트 정수 타입을 사용하기 위해서는 long long 타입을 사용해야 한다\n",
    "(VC++에서는 __int64를 long long으로 정의하였다)"
   ]
  },
  {
   "attachments": {
    "image.png": {
     "image/png": "[encoded data removed]"
    }
   },
   "cell_type": "markdown",
   "metadata": {},
   "source": [
    "![image.png](attachment:image.png)"
   ]
  },
  {
   "cell_type": "markdown",
   "metadata": {},
   "source": [
    "#### **1.2.8 long long format control**"
   ]
  },
  {
   "cell_type": "markdown",
   "metadata": {},
   "source": [
    "VC++의 __int64를 비롯하여 long long과 같은 64비트 정수 타입을 사용할 경우 주의할 점이 있다.\n",
    "바로 printf와 같은 출력 함수의 format control이다.\n",
    "기존에는 숫자를 출력할 경우 %d를 사용하곤 했다.\n",
    "하지만 이것의 의미는 4 바이트의 값을 찍으라는 의미이다.\n",
    "따라서 long long 타입에 %d를 사용하면 원하는 결과를 얻을 수 없다."
   ]
  },
  {
   "cell_type": "raw",
   "metadata": {
    "vscode": {
     "languageId": "raw"
    }
   },
   "source": [
    "void main()\n",
    "{\n",
    "    long long ll = 1;       // 최댓값 설정\n",
    "    ll = (ll << 63);\n",
    "    ll = ~ll;\n",
    "\n",
    "    printf(\" (A) %d \\r\\n\", ll);         // (A)\n",
    "    printf(\" (B) %lld \\r\\n\", ll);       // (B)\n",
    "    printf(\" (B) %I64d \\r\\n\", ll);      // (C)\n",
    "\n",
    "}"
   ]
  },
  {
   "cell_type": "markdown",
   "metadata": {},
   "source": [
    "예제의 출력 결과는 다음과 같다.\n",
    "\n",
    "(A) -1\n",
    "(B) 9223372036854775807\n",
    "(C) 9223372036854775807"
   ]
  },
  {
   "cell_type": "markdown",
   "metadata": {},
   "source": [
    "long long은 64비트 부호 있는 정수 타입이다.\n",
    "VC++이나 GCC에서 사용 가능하다.\n",
    "특히 VC++에서는 __int64를 대신 사용해도 된다.\n",
    "중요한 것은 long long 타입을 위한 format control이 다르다는 것이다.\n",
    "기존의 %d를 사용할 경우 32비트로 취급되어서 -1이 출력되게 된다.\n",
    "따라서 %lld 혹은 %I64d를 사용해야만 한다.\n",
    "참고로 %I64d는 VC++ 에서만 사용 가능하다.\n",
    "GCC에서 사용할 경우 -1이 출력된다."
   ]
  },
  {
   "cell_type": "markdown",
   "metadata": {},
   "source": []
  }
 ],
 "metadata": {
  "kernelspec": {
   "display_name": "3.9.13",
   "language": "python",
   "name": "python3"
  },
  "language_info": {
   "codemirror_mode": {
    "name": "ipython",
    "version": 3
   },
   "file_extension": ".py",
   "mimetype": "text/x-python",
   "name": "python",
   "nbconvert_exporter": "python",
   "pygments_lexer": "ipython3",
   "version": "3.9.13"
  }
 },
 "nbformat": 4,
 "nbformat_minor": 2
}
