{
 "cells": [
  {
   "cell_type": "markdown",
   "metadata": {},
   "source": [
    "## **chapter01 Jax/Flax를 공부하기 전에**"
   ]
  },
  {
   "cell_type": "markdown",
   "metadata": {},
   "source": [
    "### **1.1 Jax/Flax에 대한 소개와 예시**\n",
    "---"
   ]
  },
  {
   "cell_type": "markdown",
   "metadata": {},
   "source": [
    "JAX는 구글 딥마인드에서 사용하고 있는 고성능 딥러닝 프레임워크이며, 딥마인드뿐만 아니라 허깅 페이스에서도 JAX로 변환한 모델들을 발표하고 있다. 해당 모델들을 간략하게 소개하면서 PyTorch로 이루어진 모델과 비교했을 때 어떤 장점이 있는지 파악할 것이다.\n",
    "\n",
    "한편, JAX/FLAX를 본격적으로 공부하기 앞서 함수형 프로그래밍에 대해 이해하는 것이 필요하다.\n",
    "TensorFlow나 PyTorch와 다르게 JAX는 함수형 프로그래밍을 일부 차용했으므로 해당 개념이 익숙하지 않다면 다소 어려움이 있을 수 있다.\n",
    "이에 이번 장에서는 함수형 프로그래밍에 대해서도 다룰 것이다.\n",
    "그다음 Jax/Flax에서 자주 사용하는 파이썬의 표준 라이브러리와 Jax 설치 방법에 대해서도 알아보도록 하겠다."
   ]
  },
  {
   "cell_type": "markdown",
   "metadata": {},
   "source": [
    "#### **1.1.1 Jax란?**"
   ]
  },
  {
   "cell_type": "markdown",
   "metadata": {},
   "source": [
    "JAX(잭스)를 한마디로 표현하면 자동 미분과 XLA를 결합해서 사용하는 고성능 머신러닝 프레임워크이다.\n",
    "JAx의 자동 미분의 경우 파이썬 함수뿐만 아니라 NumPy 함수에서도 적용할 수 있다.\n",
    "또한 일반적인 반복문과 재귀에서도 사용 가능하며 2차 미분도 가능하다.\n",
    "사실 자동 미분의 경우 JAX 뿐만 아니라 PyTorch, TensorFlow 등 대부분의 프레임워크들이 지원하고 있는 항목이다.\n",
    "JAX의 가장 큰 장점은 XLA를 적용해서 사용할 수 있다는 점이다."
   ]
  },
  {
   "cell_type": "markdown",
   "metadata": {},
   "source": [
    "XLA(Accelerated Linear Algebra)는 GPU에서, 그리고 구글에서 만든 딥러닝 전용 하드웨어인 TPU에서 NumPy 프로그램을 컴파일하고 실행할 수 있게 만든다. JAX의 경우 XLA를 이용하기 위해서 JIT 컴파일을 진행해 파이썬 함수를 XLA에 최적화된 커널로 변환한다. XLA로 컴파일을 진행할 경우 파이토치가 채택한 동적 그래프 방식보다 훨씬 빠른 속도로 학습과 추론이 가능하다. 그 외에도 JAX는 함수 변환에도 능해서 자동 벡터화도 쉽게 할 수 있으며, 단일 프로그램 다중 데이터 병렬 프로그래밍을 위한 병렬 변환도 쉽게 가능하다. "
   ]
  },
  {
   "cell_type": "markdown",
   "metadata": {},
   "source": [
    "다만 현재 JAX는 구글의 공식적인 제품으로 등록되어 있지 않고, 연구 프로젝트로 개발되고 있다.\n",
    "JAX 자체는 현재 구글 리서치(Google Research)에서 관리하고 있으며 지속적인 업데이트 또한 진행되고 있다.\n",
    "\n",
    "* flax: 0.8.5\n",
    "* jax: 0.4.30\n",
    "* optax: 0.2.4"
   ]
  },
  {
   "cell_type": "markdown",
   "metadata": {},
   "source": [
    "#### **1.1.2 Flax란?**"
   ]
  },
  {
   "cell_type": "markdown",
   "metadata": {},
   "source": [
    "Flax는 구글 브레인 팀에서 구글 리서치 JAX 팀과 협업하면서 만들어졌고 현재는 오픈소스 커뮤니티로 개발되고 있다.\n",
    "실제로 구글 내에서 만들어지는 프로덕트들은 Flax로 이루어져 있다.\n",
    "Flax는 JAX + Flexibility를 합쳐져서 만들었으며 엔지니어들이 JAX를 좀 더 쉽게 사용할 수 있게 만든 프레임워크이며, 다른 딥러닝 프레임워크들처럼 레이어 개념을 지원한다.\n",
    "그뿐만 아니라 평가 지표와 같은 유틸리티 또한 지원하고 있으며 빠른 설치 또한 가능하다."
   ]
  },
  {
   "cell_type": "markdown",
   "metadata": {},
   "source": [
    "JAX는 실제 고성능을 낼 수 있는 특성들을 가졌다고 할 수 있으며, Flax는 Jax를 조금 더 쉽게 사용할 수 있게 만든 프레임워크이다. \n",
    "실제로 Jax 기반으로 딥러닝 모델을 만든다고 한다면 대부분의 경우 Flax를 함께 사용하게 된다."
   ]
  },
  {
   "cell_type": "markdown",
   "metadata": {},
   "source": [
    "#### **1.1.3 JAX로 이루어진 기타 프레임워크들**"
   ]
  },
  {
   "cell_type": "markdown",
   "metadata": {},
   "source": [
    "딥마인드 또한 Jax를 활용한 프레임워크들을 개발하고 사용하고 있다.\n",
    "Flax처럼 Jax를 간편하게 사용할 수 있는 프레임워크로 Haiku가 있으며, 강화학습 버전으로 Jax를 쉽게 사용할 수 있게 만든 RLax도 있다.\n",
    "또한 이미지 처리용인 Pix, 그래프 신경망 버전인 Jraph 등이 있다."
   ]
  },
  {
   "cell_type": "markdown",
   "metadata": {},
   "source": [
    "이것과 별개로 Flax와 범용적으로 많이 사용하는 프레임워크는 Optax이다.\n",
    "Optax는 Optimization + Jax의 합성어이며 최적화를 진행할 때 많이 사용한다.\n",
    "Flax의 경우 Optimizer 파트가 없는 대신 Optax를 활용한다."
   ]
  },
  {
   "cell_type": "markdown",
   "metadata": {},
   "source": [
    "한편 최근 Jax 생태계에서는 Equinox(이퀴녹스)에 대한 언급이 늘어나고 있다.\n",
    "Flax가 일반적인 딥러닝 프레임워크 사용자들이 Jax를 더 쉽게 활용할 수 잇도록 돕는다면, Equinox는 pytree를 기반으로 Jax의 본질적인 특성을 최대한 살리는 데 집중한다는 의견이 있다.\n",
    "앞으로 Jax 생태계를 위해 Flax와 함께 Equinox의 발전도 중요한 요소가 될 것이다."
   ]
  },
  {
   "cell_type": "markdown",
   "metadata": {},
   "source": [
    "#### **1.1.4 Jax 프레임워크 사용 예시**"
   ]
  },
  {
   "cell_type": "markdown",
   "metadata": {},
   "source": [
    "구글에서 나온 대부분의 모델들은 Jax를 활용하고 있으며, 허깅 페이스의 경우 속도 향상을 위해 기존에 있던 모델들을 Jax로 변환하고 있다.\n",
    "구글에서 나온 모델 중에서 대표적인 사례로는 구글 리서치에서 관리하는 vision_transformer, maxtext, flan-T5 등이 있으며, 모델 변환의 대표적인 사례로는 Whisper-JAX, dalle-mini가 있다.\n",
    "그중에서 가장 많이 사용되고 있는 Whisper-JAx에 대해 잠시 살펴보도록 하자."
   ]
  },
  {
   "cell_type": "markdown",
   "metadata": {},
   "source": [
    "Whisper는 OpenAI가 음성인식 및 음성 번역을 하기 위해 만든 오픈소스 모델이다.\n",
    "Whisper의 경우 PyTorch 1.1.0.1로 만들어졌으며 단순히 영어만 인식하는 것이 아니라 한국어, 일본어, 스페인어, 네팔어 등 다양한 언어를 지원한다.\n",
    "Whisper-JAX는 OpenAI가 PyTorch로 만든 모델을 허깅 페이스 연구원이 JAX로 변환해서 만든 모델이다.\n",
    "Whisper-JAX의 경우 Whisper를 그대로 계승했기 때문에 질적 성능은 동일하다.\n",
    "그러나 JAX로 만들어졌기 때문에 추론과 학습 속도 면에서는 Whisper보다 훨씬 빠르다."
   ]
  },
  {
   "cell_type": "markdown",
   "metadata": {},
   "source": [
    "### **1.2 함수형 프로그래밍에 대한 이해**\n",
    "---"
   ]
  },
  {
   "cell_type": "markdown",
   "metadata": {},
   "source": [
    "함수형 프로그래밍을 처음 접한다면, 절차적 프로그래밍(Procedural Programming)과 비교해서 생각하면 이해하기가 더 쉽다.\n",
    "절차적 프로그래밍은 프로그램의 구조를 일련의 절차와 루틴으로 분해하는 방식으로 바라본다.\n",
    "특히 이러한 절차는 데이터를 입력으로 받아서 출력을 생성하는 함수의 형태를 띠고 있다.\n",
    "절차적 프로그래밍은 프로그램의 상태 변경에 초점을 맞추며, 함수가 데이터를 변경하고 이를 다른 함수로 전달하는 방식을 사용한다."
   ]
  },
  {
   "cell_type": "markdown",
   "metadata": {},
   "source": [
    "이에 반해 함수형 프로그래밍(functional programming)이란 계산을 수학적 함수로 취급하고 상태 및 변경 가능한 데이터를 피하는 프로그래밍 방식이다. \n",
    "따라서 절차적 프로그래밍에서 사용하는 상태 변경을 사용하지 않는 대신, 순수 함수를 사용하며 불변성을 강조한다.\n",
    "함수형 프로그래밍만을 지원하는 언어로 하스겔(Haskell), 엘릭서(Elixir) 등이 있다."
   ]
  },
  {
   "cell_type": "markdown",
   "metadata": {},
   "source": [
    "이번 절에서는 함수형 프로그래밍의 구성 요소인 순수 함수, 상태를 관리하는 방식, 딥러닝에서 함수형 프로그래밍을 사용했을 때의 장점에 대해 알아본다.\n",
    "해당 내용을 알게 된다면 Jax/Flax로 딥러닝 모델을 만드는 방식을 이해할 수 있어 앞으로 배울 내용들을 더 쉽게 파악할 수 있다."
   ]
  },
  {
   "cell_type": "markdown",
   "metadata": {},
   "source": [
    "#### **1.2.1 부수 효과와 순수 함수**"
   ]
  },
  {
   "cell_type": "markdown",
   "metadata": {},
   "source": [
    "순수 함수(pure function)는 부수 효과(side effect) 없이 출력이 오직 입력에만 의존하는 함수이다.\n",
    "부수 효과란 함수가 함수 외부에 영향을 끼치거나 상호작용을 수행하는 것을 의미한다.\n",
    "부수 효과의 대표적인 사례로 전역변수를 변경하는 것이 있다.\n",
    "다음은 부수 효과가 있는 파이썬 함수이다."
   ]
  },
  {
   "cell_type": "code",
   "execution_count": 1,
   "metadata": {},
   "outputs": [
    {
     "name": "stdout",
     "output_type": "stream",
     "text": [
      "1\n",
      "3\n",
      "6\n",
      "after_counter: 6\n"
     ]
    }
   ],
   "source": [
    "counter = 0\n",
    "\n",
    "def increment_counter(x):\n",
    "\n",
    "    global counter\n",
    "    counter += x\n",
    "    return counter\n",
    "\n",
    "print(increment_counter(1))\n",
    "print(increment_counter(2))\n",
    "print(increment_counter(3))\n",
    "print('after_counter:', counter)"
   ]
  },
  {
   "cell_type": "markdown",
   "metadata": {},
   "source": [
    "이 코드의 `increment_counter()` 함수를 보면 `counter` 변수를 따로 선언하고 `counter`를 전역변수로 활용해 `x`를 더해주고 결과를 `counter`로 반환한다. \n",
    "이때 함수를 여러 번 불러서 결과를 출력하면 `counter` 변수가 이전 함수에서 바뀌기 때문에 결과 또한 1, 3, 6으로 나오게 된다.\n",
    "이렇듯 입력은 변홤없으나 전역변수가 바뀌어서 이후에 계산되는 다른 변수에 영향을 주는 것을 부수 효과라고 한다."
   ]
  },
  {
   "cell_type": "markdown",
   "metadata": {},
   "source": [
    "그렇다면 부수 효과가 없는 파이썬 함수는 어떤 식으로 작성하는지 알아보자.\n",
    "다음은 부수 효과가 없는 파이썬 함수의 예시이다."
   ]
  },
  {
   "cell_type": "code",
   "execution_count": 2,
   "metadata": {},
   "outputs": [
    {
     "name": "stdout",
     "output_type": "stream",
     "text": [
      "1\n",
      "2\n",
      "3\n",
      "after_counter: 0\n"
     ]
    }
   ],
   "source": [
    "def not_side_effect_example(counter, x):\n",
    "    return counter + x\n",
    "\n",
    "counter = 0\n",
    "\n",
    "for a in range(3):\n",
    "    print(not_side_effect_example(counter, a+1))\n",
    "\n",
    "print('after_counter:', counter)"
   ]
  },
  {
   "cell_type": "markdown",
   "metadata": {},
   "source": [
    "두 예제의 차이점은 무엇일까?\n",
    "첫 번째는 함수 내부에서 `counter` 변수에 `x`가 더해지는 방식이고, 두 번째는 함수 내부에서 변하지는 않지만 출력에서 전역변수에 `x`가 더해지는 방식이다.\n",
    "그러다 보니 함수가 `counter` 변수에 영향을 주지 않기 때문에 첫 번째 예제에서 최종 `counter` 값은 6이지만, 두 번째의 `counter` 변수는 0으로 나온다.\n",
    "즉, 두 번째 예제의 함수는 계산을 진행할 때 전역변수가 영향을 끼치지 않기 때문에 부수 효과가 없는 함수이다. "
   ]
  },
  {
   "cell_type": "markdown",
   "metadata": {},
   "source": [
    "#### **1.2.2 불변성과 순수 함수**"
   ]
  },
  {
   "cell_type": "markdown",
   "metadata": {},
   "source": [
    "완벽한 순수 함수를 구성하기 위해서는 부수 효과가 없어야 할 뿐 아니라 불변성(immutability)도 지켜야 한다.\n",
    "불변성이란 한 번 생성된 데이터는 변경되지 않는다는 원칙이다.\n",
    "즉 변수에 값을 한 번 할당했으면 그 변수의 값은 변경될 수 없다는 것이다.\n",
    "다음은 파이썬으로 만든, 부수 효과는 없지만 불변성 또한 없는 함수이다."
   ]
  },
  {
   "cell_type": "code",
   "execution_count": 3,
   "metadata": {},
   "outputs": [
    {
     "name": "stdout",
     "output_type": "stream",
     "text": [
      "1\n",
      "2\n",
      "3\n",
      "4\n",
      "5\n"
     ]
    }
   ],
   "source": [
    "def create_counter():\n",
    "    count = [0]\n",
    "    def counter():\n",
    "        count[0] += 1\n",
    "        return count[0]\n",
    "    return counter\n",
    "\n",
    "counter = create_counter()\n",
    "print(counter())    # 1\n",
    "print(counter())    # 2\n",
    "print(counter())    # 3\n",
    "print(counter())    # 4\n",
    "print(counter())    # 5"
   ]
  },
  {
   "cell_type": "markdown",
   "metadata": {},
   "source": [
    "위의 `counter` 함수는 함수가 호출될 때마다 내부 변수인 `count`를 증가시키지만 밖에서 관찰되지는 않는다.\n",
    "따라서 부수 효과가 발생하지 않지만 `count`는 지속적으로 변하기 때문에 해당 함수는 불변하다고(불변성을 갖는다고) 볼 수 없다.\n",
    "\n",
    "그렇다면 부수 효과도 없으며 불변성을 유지하는 함수의 예시를 알아보자."
   ]
  },
  {
   "cell_type": "code",
   "execution_count": 4,
   "metadata": {},
   "outputs": [
    {
     "name": "stdout",
     "output_type": "stream",
     "text": [
      "1\n",
      "counter: 0\n",
      "2\n",
      "counter: 0\n",
      "3\n",
      "counter: 0\n"
     ]
    }
   ],
   "source": [
    "counter = 0\n",
    "def immutable_example(state, x):\n",
    "    counter = state\n",
    "    return counter + x\n",
    "\n",
    "for a in range(3):\n",
    "    print(immutable_example(0, a+1))\n",
    "    print('counter:', counter)"
   ]
  },
  {
   "cell_type": "markdown",
   "metadata": {},
   "source": [
    "위의 내부 `counter`를 `state`로 관리하기 때문에 `counter` 변수가 불변하는 것을 확인할 수 있다.\n",
    "만일 여기서 `counter` 변수의 값을 바꾸려면 새로운 데이터 구조를 생성하고, 원본은 그대로 유지해야 한다.\n",
    "이러한 방식을 사용한다면 다른 부분이 예기치 않게 영향을 받는 것을 방지하며, 프로그램의 동작 또한 예측하기 쉽게 만든다."
   ]
  },
  {
   "cell_type": "markdown",
   "metadata": {},
   "source": []
  }
 ],
 "metadata": {
  "kernelspec": {
   "display_name": "3.9.13",
   "language": "python",
   "name": "python3"
  },
  "language_info": {
   "codemirror_mode": {
    "name": "ipython",
    "version": 3
   },
   "file_extension": ".py",
   "mimetype": "text/x-python",
   "name": "python",
   "nbconvert_exporter": "python",
   "pygments_lexer": "ipython3",
   "version": "3.9.13"
  }
 },
 "nbformat": 4,
 "nbformat_minor": 2
}
