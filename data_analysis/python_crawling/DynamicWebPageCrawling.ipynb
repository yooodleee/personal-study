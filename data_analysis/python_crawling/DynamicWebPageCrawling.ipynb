{
 "cells": [
  {
   "cell_type": "markdown",
   "metadata": {},
   "source": [
    "## **동적 웹 페이지 크롤링**\n",
    "\n",
    "BeautifulSoup 라이브러리를 사용하여 HTML 페이지를 크롤링하는 것은 정적 웹 페이지에서만 가능하다.\n",
    "자바스크립트를 이용해 함수를 호출하고 데이터를 "
   ]
  }
 ],
 "metadata": {
  "language_info": {
   "name": "python"
  }
 },
 "nbformat": 4,
 "nbformat_minor": 2
}
