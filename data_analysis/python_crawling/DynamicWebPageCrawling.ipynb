{
 "cells": [
  {
   "cell_type": "markdown",
   "metadata": {},
   "source": [
    "## **동적 웹 페이지 크롤링**\n",
    "\n",
    "BeautifulSoup 라이브러리를 사용하여 HTML 페이지를 크롤링하는 것은 정적 웹 페이지에서만 가능하다.\n",
    "자바스크립트를 이용해 함수를 호출하고 데이터를 처리하는 구조를 가진 동적 웹 페이지를 크롤링하고자 할 때, BeautifulSoup만으로는 부족하다.\n",
    "\n",
    "BeautifulSoup은 웹 브라우저에서 자바스크립트 함수를 호출하여 필요한 데이터를 페이지로 불러오는 작업을 할 수 없다.\n",
    "자바스크립트를 사용하는 동적 웹 페이지는 웹 브라우저에서 자바스크립트가 실행되어야만 크롤링할 데이터가 나타난다.\n",
    "동적 웹 페이지에서 크롤링을 하려면 웹 브라우저를 원격으로 조작하는 Selenium 라이브러리를 사용한다.\n",
    "\n",
    "### **동적 웹 페이지 크롤링 준비**\n",
    "\n",
    "\n",
    "* Selenium 라이브러리 설치\n",
    "\n",
    "```\n",
    "pip install selenium\n",
    "```\n",
    "\n",
    "* Selenium의 WebDriver 임포트\n",
    "\n",
    "```\n",
    ">>> from selenium import webdriver\n",
    "```\n",
    "\n",
    "* Webdriver 객체 생성\n",
    "\n",
    "```\n",
    ">>> wb = webdriver.Chrome('./WebDriver/chromedriver.exe')\n",
    "```"
   ]
  },
  {
   "cell_type": "code",
   "execution_count": null,
   "metadata": {},
   "outputs": [],
   "source": [
    "from bs4 import BeautifulSoup\n",
    "from selenium import webdriver\n",
    "\n",
    "wd = webdriver.Chrome('./WebDrvier/chromedriver.exe')\n",
    "\n",
    "wd.get(\"https://coffeebeankorea.com/store/store.asp\")\n",
    "wd.execute_script(\"storePop2(1)\")\n",
    "\n",
    "html = wd.page_source\n",
    "\n",
    "soupCB1 = BeautifulSoup(html, 'html.parser')\n",
    "\n",
    "print(soupCB1.prettify())"
   ]
  },
  {
   "cell_type": "code",
   "execution_count": null,
   "metadata": {},
   "outputs": [],
   "source": []
  }
 ],
 "metadata": {
  "kernelspec": {
   "display_name": "skn08-312",
   "language": "python",
   "name": "python3"
  },
  "language_info": {
   "codemirror_mode": {
    "name": "ipython",
    "version": 3
   },
   "file_extension": ".py",
   "mimetype": "text/x-python",
   "name": "python",
   "nbconvert_exporter": "python",
   "pygments_lexer": "ipython3",
   "version": "3.12.7"
  }
 },
 "nbformat": 4,
 "nbformat_minor": 2
}
