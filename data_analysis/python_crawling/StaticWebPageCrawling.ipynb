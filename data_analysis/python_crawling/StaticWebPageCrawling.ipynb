{
 "cells": [
  {
   "cell_type": "markdown",
   "metadata": {},
   "source": [
    "## **정적 웹 페이지 크롤링**\n",
    "\n",
    "API가 없는 웹 페이지에서 크롤링을 하려면 웹 페이지의 HTML 구조를 분석한 뒤 필요한 데이터를 \n",
    "직접 크롤링해야 한다. 웹 페이지의 HTML 구조를 분석하는 작업을 HTML 파싱(Parsing)이라고 하는데, 파이썬에서는 \n",
    "HTML 파싱을 위해 BeautifulSoup 라이브러리를 사용한다.\n",
    "\n",
    "### **1. 정적 웹 페이지 크롤링 준비**\n",
    "\n",
    "1. **BeautifulSoup 연습하기1**\n",
    "\n",
    "크롤링 작업을 하기 전에 다음 과정을 따라 하여 사용법을 익히도록 한다.\n",
    "* 우선 다음 명령어로 패키지를 설치하도록 한다.\n",
    "\n",
    "```\n",
    ">>> pip install beautifoulsoup4\n",
    "```\n",
    "\n",
    "* 설치가 끝나면 Python Shell에서 해당 패키지를 임포트하여 사용한다.\n",
    "\n",
    "```\n",
    ">>> from bs4 import BeautifulSoup\n",
    "```\n",
    "\n",
    "* 연습용 html을 작성한다.\n",
    "\n",
    "```\n",
    ">>> html = '<h1 id=\"title\">한빛출반네트워크</h1><div class=\"top\"><ul\n",
    "class=\"menu\"><li><a href=\"http://www.hanbit.co.kr/member/login.html\"\n",
    "class=\"login\">로그인</a></li></ul><ul class=\"brand\"><li><a href=\"http://www.\n",
    "hanbit.co.kr/media/\">한빛미디어</a></li><li><a href=\"http://www.hanbit.co.kr/\n",
    "academy/\">한빛아카데미</a></li></ul></div>'\n",
    "```\n",
    "\n",
    "이때 태그와 태그 사이에 띄어쓰기를 넣지 않도록 주의한다.\n",
    "태그와 태그 사이에 띄어쓰기가 있으면 string 명령이 잘못 처리되어 NONE으로 출력되기 때문이다.\n",
    "\n",
    "* BeautifulSoup 객체를 생성한다.\n",
    "\n",
    "```\n",
    ">>> soup = BeautifulSoup(html, 'html.parser')\n",
    "```\n",
    "\n",
    "* 객체에 저장된 html 내용을 확인한다.\n",
    "\n",
    "```\n",
    ">>> print(soup.prettify())\n",
    "```\n"
   ]
  },
  {
   "cell_type": "code",
   "execution_count": 1,
   "metadata": {},
   "outputs": [
    {
     "name": "stdout",
     "output_type": "stream",
     "text": [
      "<h1 id=\"title\">\n",
      " 한빛출판네트워크\n",
      "</h1>\n",
      "<div class=\"top\">\n",
      " <ul class=\"menu\">\n",
      "  <li>\n",
      "   <a class=\"login\" href=\"http://www.hanbit.co.kr/member/login.html\">\n",
      "    로그인\n",
      "   </a>\n",
      "  </li>\n",
      " </ul>\n",
      " <ul class=\"brand\">\n",
      "  <li>\n",
      "   <a href=\"http://www.hanbit.co.kr/media/\">\n",
      "    한빛미디어\n",
      "   </a>\n",
      "  </li>\n",
      "  <li>\n",
      "   <a href=\"http://www.hanbit.co.kr/academy/\">\n",
      "    한빛아카데미\n",
      "   </a>\n",
      "  </li>\n",
      " </ul>\n",
      "</div>\n",
      "\n"
     ]
    }
   ],
   "source": [
    "from bs4 import BeautifulSoup\n",
    "\n",
    "html = '<h1 id=\"title\">한빛출판네트워크</h1><div class=\"top\"><ul class=\"menu\"><li><a href=\"http://www.hanbit.co.kr/member/login.html\" class=\"login\">로그인</a></li></ul><ul class=\"brand\"><li><a href=\"http://www.hanbit.co.kr/media/\">한빛미디어</a></li><li><a href=\"http://www.hanbit.co.kr/academy/\">한빛아카데미</a></li></ul></div>'\n",
    "\n",
    "# html.parser -> HTML 구조를 분석할 분석기\n",
    "soup = BeautifulSoup(html, 'html.parser')\n",
    "\n",
    "print(soup.prettify())"
   ]
  },
  {
   "cell_type": "markdown",
   "metadata": {},
   "source": [
    "2. **BeautifulSoup 연습하기2**\n",
    "\n",
    "이번에는 BeautifulSoup을 이용하여 HTML 태그를 다루는 연습을 해보자.\n",
    "\n",
    "* 태그 파싱하기: 지정된 한 개의 태그만 파싱한다.\n",
    "\n",
    "```\n",
    "soup.h1\n",
    "\n",
    "tag_h1 = soup.h1\n",
    "tag_h1\n",
    "\n",
    "tag_div = soup.div\n",
    "tag_div\n",
    "\n",
    "tag_ul = soup.ul\n",
    "tag_ul\n",
    "\n",
    "tag_li = soup.li\n",
    "tag_li\n",
    "\n",
    "tag_a = soup.a\n",
    "tag_a\n",
    "```\n",
    "\n",
    "* 지정된 태그를 모두 파싱하여 리스트를 구성한다.\n",
    "\n",
    "```\n",
    "tag_ul_all = soup.find_all(\"ul\")\n",
    "tag_ul_all\n",
    "\n",
    "tag_li_all = soup.find_all(\"li\")\n",
    "tag_li_all\n",
    "\n",
    "tag_a_all = soup.find_all(\"a\")\n",
    "tag_a_all\n",
    "```\n",
    "\n",
    "* 다음과 같은 속성을 이용하여 파싱할 수도 있다.\n",
    "\n",
    "```\n",
    "attrs: 속성 이름과 속성값으로 딕셔너리를 구성\n",
    "find(): 속성을 이용하여 특정 태그 파싱\n",
    "select(): 지정한 태그를 모두 파싱하여 리스트 구성\n",
    "```\n",
    "\n",
    "```\n",
    "\n",
    "```"
   ]
  },
  {
   "cell_type": "code",
   "execution_count": 3,
   "metadata": {},
   "outputs": [
    {
     "name": "stdout",
     "output_type": "stream",
     "text": [
      "<h1 id=\"title\">한빛출판네트워크</h1>\n",
      "<h1 id=\"title\">한빛출판네트워크</h1>\n",
      "<div class=\"top\"><ul class=\"menu\"><li><a class=\"login\" href=\"http://www.hanbit.co.kr/member/login.html\">로그인</a></li></ul><ul class=\"brand\"><li><a href=\"http://www.hanbit.co.kr/media/\">한빛미디어</a></li><li><a href=\"http://www.hanbit.co.kr/academy/\">한빛아카데미</a></li></ul></div>\n",
      "<ul class=\"menu\"><li><a class=\"login\" href=\"http://www.hanbit.co.kr/member/login.html\">로그인</a></li></ul>\n",
      "<li><a class=\"login\" href=\"http://www.hanbit.co.kr/member/login.html\">로그인</a></li>\n",
      "<a class=\"login\" href=\"http://www.hanbit.co.kr/member/login.html\">로그인</a>\n"
     ]
    }
   ],
   "source": [
    "print(soup.h1)\n",
    "\n",
    "tag_h1 = soup.h1\n",
    "print(tag_h1)\n",
    "\n",
    "tag_div = soup.div\n",
    "print(tag_div)\n",
    "\n",
    "tag_ul = soup.ul\n",
    "print(tag_ul)\n",
    "\n",
    "tag_li = soup.li\n",
    "print(tag_li)\n",
    "\n",
    "tag_a = soup.a\n",
    "print(tag_a)"
   ]
  },
  {
   "cell_type": "code",
   "execution_count": 4,
   "metadata": {},
   "outputs": [
    {
     "name": "stdout",
     "output_type": "stream",
     "text": [
      "[<ul class=\"menu\"><li><a class=\"login\" href=\"http://www.hanbit.co.kr/member/login.html\">로그인</a></li></ul>, <ul class=\"brand\"><li><a href=\"http://www.hanbit.co.kr/media/\">한빛미디어</a></li><li><a href=\"http://www.hanbit.co.kr/academy/\">한빛아카데미</a></li></ul>]\n",
      "[<li><a class=\"login\" href=\"http://www.hanbit.co.kr/member/login.html\">로그인</a></li>, <li><a href=\"http://www.hanbit.co.kr/media/\">한빛미디어</a></li>, <li><a href=\"http://www.hanbit.co.kr/academy/\">한빛아카데미</a></li>]\n",
      "[<a class=\"login\" href=\"http://www.hanbit.co.kr/member/login.html\">로그인</a>, <a href=\"http://www.hanbit.co.kr/media/\">한빛미디어</a>, <a href=\"http://www.hanbit.co.kr/academy/\">한빛아카데미</a>]\n"
     ]
    }
   ],
   "source": [
    "tag_ul_all = soup.find_all(\"ul\")\n",
    "print(tag_ul_all)\n",
    "\n",
    "tag_li_all = soup.find_all(\"li\")\n",
    "print(tag_li_all)\n",
    "\n",
    "tag_a_all = soup.find_all(\"a\")\n",
    "print(tag_a_all)"
   ]
  },
  {
   "cell_type": "code",
   "execution_count": 5,
   "metadata": {},
   "outputs": [
    {
     "name": "stdout",
     "output_type": "stream",
     "text": [
      "{'href': 'http://www.hanbit.co.kr/member/login.html', 'class': ['login']}\n",
      "http://www.hanbit.co.kr/member/login.html\n",
      "['login']\n"
     ]
    }
   ],
   "source": [
    "print(tag_a.attrs)\n",
    "\n",
    "print(tag_a['href'])\n",
    "\n",
    "print(tag_a['class'])"
   ]
  },
  {
   "cell_type": "code",
   "execution_count": 6,
   "metadata": {},
   "outputs": [
    {
     "name": "stdout",
     "output_type": "stream",
     "text": [
      "<ul class=\"brand\"><li><a href=\"http://www.hanbit.co.kr/media/\">한빛미디어</a></li><li><a href=\"http://www.hanbit.co.kr/academy/\">한빛아카데미</a></li></ul>\n",
      "<h1 id=\"title\">한빛출판네트워크</h1>\n",
      "한빛출판네트워크\n",
      "[<li><a href=\"http://www.hanbit.co.kr/media/\">한빛미디어</a></li>, <li><a href=\"http://www.hanbit.co.kr/academy/\">한빛아카데미</a></li>]\n",
      "한빛미디어\n",
      "한빛아카데미\n"
     ]
    }
   ],
   "source": [
    "tag_ul_2 = soup.find('ul', attrs={'class':'brand'})\n",
    "print(tag_ul_2)\n",
    "\n",
    "title = soup.find(id=\"title\")\n",
    "print(title)\n",
    "print(title.string)\n",
    "\n",
    "li_list = soup.select(\"div>ul.brand>li\")\n",
    "print(li_list)\n",
    "\n",
    "for li in li_list:\n",
    "    print(li.string)"
   ]
  },
  {
   "cell_type": "code",
   "execution_count": null,
   "metadata": {},
   "outputs": [],
   "source": []
  }
 ],
 "metadata": {
  "kernelspec": {
   "display_name": "3.9.13",
   "language": "python",
   "name": "python3"
  },
  "language_info": {
   "codemirror_mode": {
    "name": "ipython",
    "version": 3
   },
   "file_extension": ".py",
   "mimetype": "text/x-python",
   "name": "python",
   "nbconvert_exporter": "python",
   "pygments_lexer": "ipython3",
   "version": "3.9.13"
  }
 },
 "nbformat": 4,
 "nbformat_minor": 2
}
