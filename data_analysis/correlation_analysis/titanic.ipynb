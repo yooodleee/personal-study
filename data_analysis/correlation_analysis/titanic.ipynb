{
 "cells": [
  {
   "cell_type": "markdown",
   "metadata": {},
   "source": [
    "## **[상관 분석 + 히트맵]**"
   ]
  },
  {
   "cell_type": "markdown",
   "metadata": {},
   "source": [
    "### **타이타닉호 생존율 분석하기**"
   ]
  },
  {
   "cell_type": "markdown",
   "metadata": {},
   "source": [
    "### **분석 미리보기**"
   ]
  },
  {
   "cell_type": "markdown",
   "metadata": {},
   "source": [
    "* 목표: 타이타닉호 승객 변수를 분석하여 생존율과의 상관관계를 찾는다.\n",
    "* 핵심 개념: 상관 분석, 상관 계수, 피어슨 상관 계수, 히트맵\n",
    "* 데이터 수집: 타이타닉 데이터(seaborn 내장 데이터셋)\n",
    "* 데이터 준비: 결측치 치환(중앙값 치환, 최빈값 치환)\n",
    "* 데이터 탐색:\n",
    "    1. 정보 확인: info()\n",
    "    2. 차트를 통한 데이터 탐색: pie(), countplot()\n",
    "* 데이터 모델링:\n",
    "    1. 모든 변수 간 상관 관계 구하기\n",
    "    2. 지정한 두 변수 간 상관계수 구하기"
   ]
  },
  {
   "cell_type": "markdown",
   "metadata": {},
   "source": [
    "### **핵심 개념 이해하기**"
   ]
  },
  {
   "cell_type": "markdown",
   "metadata": {},
   "source": [
    "* 상관 분석:\n",
    "    상관 분석(correlation analysis)은 두 변수가 어떤 선형적 관계에 있는지를 분석하는 방법이다. 두 변수는 서로 독립적이거나 상관된 관계일 수 있는데, 두 변수의 관계의 강도를 상관관계라고 한다. 상관 분석에서는 상관관계의 정도를 나타내는 단위로 모상관 계수 p를 사용한다.\n",
    "\n",
    "    인과 관계를 분석하는 회귀 분석과 달리 상관 계수(correlation coefficient)는 두 변수가 연관된 정도를 나타낼 뿐 인과 관계를 설명하지 않으므로 정확한 예측치를 계산할 수는 없다.\n",
    "    * 단순 상관 분석(simple correlation analysis): 두 변수가 어느 정도 강한 관계에 있는지 측정한다.\n",
    "    * 다중 상관 분석(multiple correlation analysis): 세 개 이상의 변수 간 관계의 강도를 측정한다.\n",
    "    이때, 다른 변수와의 관계를 고정하고 두 변수 간 관계의 강도를 나타내는 것을 편상관 분석(partial correlation analysis)이라고 한다.\n",
    "\n",
    "* 상관 계수 p:\n",
    "    상관 계수 p는 변수 간 관계의 정도(0~1)와 방향(+,-)을 하나의 수치로 요약해주는 지수로 -1에서 +1 사이의 값을 가진다.\n",
    "    상관 계수가 +이면 양의 상관계수이며 한 변수가 증가하면 다른 변수도 증가한다.\n",
    "    상관 계수가 -이면 음의 상관계수이며 한 변수가 증가할 때 다른 변수는 감소한다.\n",
    "\n",
    "    상관 계수에 대한 해석은 분야에 따라 다르지만 일반적으로 다음과 같다.\n",
    "    * 0.0~0.2: 상관관계가 거의 없다.\n",
    "    * 0.2~0.4: 약한 상관관계가 있다.\n",
    "    * 0.4~0.6: 상관관계가 있다.\n",
    "    * 0.6~0.8: 강한 상관관계가 있다.\n",
    "    * 0.8~1.0: 매우 강한 상관관계가 있다.\n",
    "\n",
    "* 피어슨 상관 계수:\n",
    "    상관 계수 중에서 많이 사용하는 것은 피어슨 상관 계수(Pearson correlation coefficient)이다.\n",
    "    피어슨 상관 계수는 r로 표현한다.\n",
    "\n",
    "* 상관 분석 결과의 시각화:\n",
    "    상관 분석 결과를 시각화할 때는 두 변수의 관계를 보여주는 산점도나 히트맵을 많이 사용한다."
   ]
  },
  {
   "cell_type": "markdown",
   "metadata": {},
   "source": [
    "### **데이터 수집**"
   ]
  },
  {
   "cell_type": "markdown",
   "metadata": {},
   "source": [
    "프로젝트에 사용할 타이타닉호 생존자에 대한 데이터는 파이썬의 seaborn 라이브러리 패키지에서 제공하는 타이타닉 데이터를 사용한다."
   ]
  },
  {
   "cell_type": "code",
   "execution_count": 1,
   "metadata": {},
   "outputs": [],
   "source": [
    "import seaborn as sns\n",
    "import pandas as pd"
   ]
  },
  {
   "cell_type": "code",
   "execution_count": 2,
   "metadata": {},
   "outputs": [],
   "source": [
    "titanic = sns.load_dataset(\"titanic\")"
   ]
  },
  {
   "cell_type": "code",
   "execution_count": 3,
   "metadata": {},
   "outputs": [],
   "source": [
    "titanic.to_csv('./titanic.csv', index=False)"
   ]
  },
  {
   "cell_type": "markdown",
   "metadata": {},
   "source": [
    "### **데이터 준비**"
   ]
  },
  {
   "cell_type": "markdown",
   "metadata": {},
   "source": [
    "저장한 titanic.csv 파일을 열어서 데이터 정리 작업이 필요한지 확인해본다.\n",
    "\n",
    "age와 embarked, deck, embark_town 항목 중에 결측값(누락된 값)이 있다.\n",
    "결측값이 있으면 정확한 분석을 할 수 없으므로 치환해서 채워야 한다.\n",
    "age의 결측값은 중앙값으로 치환하고 embarked와 embark_town은 최빈값으로 치환한다.\n",
    "deck는 형식이 category이므로 최빈 category로 바꾸어 채워넣는다."
   ]
  },
  {
   "cell_type": "code",
   "execution_count": 4,
   "metadata": {},
   "outputs": [
    {
     "data": {
      "text/plain": [
       "survived         0\n",
       "pclass           0\n",
       "sex              0\n",
       "age            177\n",
       "sibsp            0\n",
       "parch            0\n",
       "fare             0\n",
       "embarked         2\n",
       "class            0\n",
       "who              0\n",
       "adult_male       0\n",
       "deck           688\n",
       "embark_town      2\n",
       "alive            0\n",
       "alone            0\n",
       "dtype: int64"
      ]
     },
     "execution_count": 4,
     "metadata": {},
     "output_type": "execute_result"
    }
   ],
   "source": [
    "titanic.isnull().sum()"
   ]
  },
  {
   "cell_type": "code",
   "execution_count": 5,
   "metadata": {},
   "outputs": [],
   "source": [
    "titanic['age'] = titanic['age'].fillna(titanic['age'].median())"
   ]
  },
  {
   "cell_type": "code",
   "execution_count": 6,
   "metadata": {},
   "outputs": [
    {
     "data": {
      "text/plain": [
       "embarked\n",
       "S    644\n",
       "C    168\n",
       "Q     77\n",
       "Name: count, dtype: int64"
      ]
     },
     "execution_count": 6,
     "metadata": {},
     "output_type": "execute_result"
    }
   ],
   "source": [
    "titanic['embarked'].value_counts()"
   ]
  },
  {
   "cell_type": "code",
   "execution_count": 7,
   "metadata": {},
   "outputs": [],
   "source": [
    "titanic['embarked'] = titanic['embarked'].fillna('S')"
   ]
  },
  {
   "cell_type": "code",
   "execution_count": 8,
   "metadata": {},
   "outputs": [
    {
     "data": {
      "text/plain": [
       "embark_town\n",
       "Southampton    644\n",
       "Cherbourg      168\n",
       "Queenstown      77\n",
       "Name: count, dtype: int64"
      ]
     },
     "execution_count": 8,
     "metadata": {},
     "output_type": "execute_result"
    }
   ],
   "source": [
    "titanic['embark_town'].value_counts()"
   ]
  },
  {
   "cell_type": "code",
   "execution_count": 9,
   "metadata": {},
   "outputs": [],
   "source": [
    "titanic['embark_town'] = titanic['embark_town'].fillna('Southampton')"
   ]
  },
  {
   "cell_type": "code",
   "execution_count": 10,
   "metadata": {},
   "outputs": [
    {
     "data": {
      "text/plain": [
       "deck\n",
       "C    59\n",
       "B    47\n",
       "D    33\n",
       "E    32\n",
       "A    15\n",
       "F    13\n",
       "G     4\n",
       "Name: count, dtype: int64"
      ]
     },
     "execution_count": 10,
     "metadata": {},
     "output_type": "execute_result"
    }
   ],
   "source": [
    "titanic['deck'].value_counts()"
   ]
  },
  {
   "cell_type": "code",
   "execution_count": 11,
   "metadata": {},
   "outputs": [],
   "source": [
    "titanic['deck'] = titanic['deck'].fillna('C')"
   ]
  },
  {
   "cell_type": "code",
   "execution_count": 12,
   "metadata": {},
   "outputs": [
    {
     "data": {
      "text/plain": [
       "survived       0\n",
       "pclass         0\n",
       "sex            0\n",
       "age            0\n",
       "sibsp          0\n",
       "parch          0\n",
       "fare           0\n",
       "embarked       0\n",
       "class          0\n",
       "who            0\n",
       "adult_male     0\n",
       "deck           0\n",
       "embark_town    0\n",
       "alive          0\n",
       "alone          0\n",
       "dtype: int64"
      ]
     },
     "execution_count": 12,
     "metadata": {},
     "output_type": "execute_result"
    }
   ],
   "source": [
    "titanic.isnull().sum()"
   ]
  },
  {
   "cell_type": "markdown",
   "metadata": {},
   "source": [
    "### **데이터 탐색**"
   ]
  },
  {
   "cell_type": "markdown",
   "metadata": {},
   "source": [
    "데이터의 기본 정보를 탐색해본다."
   ]
  },
  {
   "cell_type": "markdown",
   "metadata": {},
   "source": [
    "#### **데이터의 기본 정보 탐색하기**"
   ]
  },
  {
   "cell_type": "markdown",
   "metadata": {},
   "source": [
    "titanic 데이터의 기본 정보를 탐색하기 위해 info() 함수를 사용한다."
   ]
  },
  {
   "cell_type": "code",
   "execution_count": 13,
   "metadata": {},
   "outputs": [
    {
     "name": "stdout",
     "output_type": "stream",
     "text": [
      "<class 'pandas.core.frame.DataFrame'>\n",
      "RangeIndex: 891 entries, 0 to 890\n",
      "Data columns (total 15 columns):\n",
      " #   Column       Non-Null Count  Dtype   \n",
      "---  ------       --------------  -----   \n",
      " 0   survived     891 non-null    int64   \n",
      " 1   pclass       891 non-null    int64   \n",
      " 2   sex          891 non-null    object  \n",
      " 3   age          891 non-null    float64 \n",
      " 4   sibsp        891 non-null    int64   \n",
      " 5   parch        891 non-null    int64   \n",
      " 6   fare         891 non-null    float64 \n",
      " 7   embarked     891 non-null    object  \n",
      " 8   class        891 non-null    category\n",
      " 9   who          891 non-null    object  \n",
      " 10  adult_male   891 non-null    bool    \n",
      " 11  deck         891 non-null    category\n",
      " 12  embark_town  891 non-null    object  \n",
      " 13  alive        891 non-null    object  \n",
      " 14  alone        891 non-null    bool    \n",
      "dtypes: bool(2), category(2), float64(2), int64(4), object(5)\n",
      "memory usage: 80.7+ KB\n"
     ]
    }
   ],
   "source": [
    "titanic.info()"
   ]
  },
  {
   "cell_type": "code",
   "execution_count": 14,
   "metadata": {},
   "outputs": [
    {
     "data": {
      "text/plain": [
       "survived\n",
       "0    549\n",
       "1    342\n",
       "Name: count, dtype: int64"
      ]
     },
     "execution_count": 14,
     "metadata": {},
     "output_type": "execute_result"
    }
   ],
   "source": [
    "titanic.survived.value_counts()"
   ]
  },
  {
   "cell_type": "markdown",
   "metadata": {},
   "source": [
    "전체 샘플의 수는 891개이고 속성은 15개이다.\n",
    "샘플 891 명 중에서 생존자는 342명이고 사망자는 549 명이다.\n",
    "\n",
    "pclass와 class는 객실 등급을 나타내고, sibsp는 탑승한 형제자매와 배우자 수, parch는 함께 탑승한 부모/자식 수를 나타낸다.\n",
    "embarked와 embark_town은 탑승 항구를 나타내고 adult_male은 성인 남자 여부를, alone은 동행 여부를 True/False로 나타낸다."
   ]
  },
  {
   "cell_type": "markdown",
   "metadata": {},
   "source": [
    "#### **차트를 그려 데이터를 시각적으로 탐색하기**"
   ]
  },
  {
   "cell_type": "markdown",
   "metadata": {},
   "source": [
    "데이터 탐색을 시각적으로 쉽게 하기 위해 차트를 그려본다."
   ]
  },
  {
   "cell_type": "code",
   "execution_count": 15,
   "metadata": {},
   "outputs": [],
   "source": [
    "import matplotlib.pyplot as plt"
   ]
  },
  {
   "cell_type": "code",
   "execution_count": null,
   "metadata": {},
   "outputs": [],
   "source": []
  }
 ],
 "metadata": {
  "kernelspec": {
   "display_name": "skn08-312",
   "language": "python",
   "name": "python3"
  },
  "language_info": {
   "codemirror_mode": {
    "name": "ipython",
    "version": 3
   },
   "file_extension": ".py",
   "mimetype": "text/x-python",
   "name": "python",
   "nbconvert_exporter": "python",
   "pygments_lexer": "ipython3",
   "version": "3.12.7"
  }
 },
 "nbformat": 4,
 "nbformat_minor": 2
}
