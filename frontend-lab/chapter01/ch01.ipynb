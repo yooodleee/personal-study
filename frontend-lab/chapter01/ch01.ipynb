{
 "cells": [
  {
   "cell_type": "markdown",
   "metadata": {},
   "source": [
    "## **리액트 기초**\n",
    "---"
   ]
  },
  {
   "cell_type": "markdown",
   "metadata": {},
   "source": [
    "### **01.리액트란?**\n",
    "---"
   ]
  },
  {
   "cell_type": "code",
   "execution_count": null,
   "metadata": {
    "vscode": {
     "languageId": "html"
    }
   },
   "outputs": [],
   "source": [
    "<header>\n",
    "    <h1>\n",
    "        <a href=\"/\">web</a>\n",
    "    </h1>\n",
    "</header>\n",
    "<nav>\n",
    "    <ol>\n",
    "        <li><a href=\"/read/1\">html</a></li>\n",
    "        <li><a href=\"/read/2\">CSS</a></li>\n",
    "        <li><a href=\"/read/3\">jajvascript</a></li>\n",
    "    </ol>\n",
    "</nav>\n",
    "<article>\n",
    "    <h2>Welcome</h2>\n",
    "    Hello, WEB!\n",
    "</article>"
   ]
  },
  {
   "cell_type": "markdown",
   "metadata": {},
   "source": [
    "위의 코드보다 더 복잡한 코드가 있다고 생각해보자.\n",
    "아마도 서로 연관된 코드들을 묶고 이름을 붙여서 단순한 태그로 만들고 싶을 것이다.\n",
    "복잡한 코드는 숨기고 우리거 만든 태그를 사용할 수 있다면 얼마나 편리하겠는가?"
   ]
  },
  {
   "cell_type": "markdown",
   "metadata": {},
   "source": [
    "이런 것을 가능하게 해주는 도구가 바로 리액트(React)이다.\n",
    "리액트의 핵심적인 역할은 사용자 정의 태그를 만드는 것이다.\n",
    "사용자 정의 태그는 부품으로 사용된다. 이 부품들은 다른 사람들에게 공유할 수도 있고, 다른 사람이 만든 부품을 자신이 사용할 수도 있다."
   ]
  },
  {
   "cell_type": "markdown",
   "metadata": {},
   "source": [
    "들어가기에 앞서, 리액트를 만드는 방법에는 두 가지가 있다.\n",
    "클래스 문법을 사용하는 방법과 함수 문법을 사용하는 방법이 있다.\n",
    "최근에는 함수를 이용해서 리액트를 만드는 경우가 많아졌기 때문에 여기에서는 후자의 방법을 사용하겠다.\n",
    "클래스 방식으로 리액트를 다루고 싶다면 클래스 문법을 기반으로 한 리액트 입문서를 읽어보는 것을 추천하겠다."
   ]
  },
  {
   "cell_type": "markdown",
   "metadata": {},
   "source": [
    "### **02.실습 환경 구축**\n",
    "---"
   ]
  },
  {
   "cell_type": "markdown",
   "metadata": {},
   "source": [
    "* Node.js 설치하기\n",
    "\n",
    "npx를 실행하려면 Node.js를 설치해야 한다. Node.js 공식 홈페이지로 이동하면 Node.js를 설치할 수 있는 화면이 나온다.\n",
    "이중에서 LTS 버전을 설치하거나 현재 버전을 설치하거나 어떤 것도 상관없다."
   ]
  },
  {
   "cell_type": "markdown",
   "metadata": {},
   "source": []
  }
 ],
 "metadata": {
  "kernelspec": {
   "display_name": "base",
   "language": "python",
   "name": "python3"
  },
  "language_info": {
   "name": "python",
   "version": "3.12.7"
  }
 },
 "nbformat": 4,
 "nbformat_minor": 2
}
